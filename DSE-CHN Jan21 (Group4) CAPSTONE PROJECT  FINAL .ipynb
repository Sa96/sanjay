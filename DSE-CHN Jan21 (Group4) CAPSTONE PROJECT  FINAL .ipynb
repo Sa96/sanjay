{
 "cells": [
  {
   "cell_type": "markdown",
   "id": "5be42e80",
   "metadata": {},
   "source": [
    "# Introduction "
   ]
  },
  {
   "cell_type": "markdown",
   "id": "026fd75e",
   "metadata": {},
   "source": [
    "Everyone loves movies irrespective of age, gender, race, color, or geographical location. We all in a way are connected to each other via this amazing medium.Our unique choices and combinations are in terms of movie preferences. \n",
    "\n",
    "Some people like genre-specific movies be it a thriller, romance, or sci-fi, while others focus on lead actors and directors. When we take all that into account, it’s astoundingly difficult to generalize a movie and say that everyone would like it. But with all that said, it is still seen that similar movies are liked by a specific part of the society.\n",
    "\n",
    "So here’s where the data scientists come into play and extract the juice out of all the behavioral patterns of not only the audience but also from the movies themselves. So without further ado let’s jump right into the basics of a recommendation system."
   ]
  },
  {
   "cell_type": "markdown",
   "id": "2373770a",
   "metadata": {},
   "source": [
    "# Recommendation System"
   ]
  },
  {
   "cell_type": "markdown",
   "id": "d6203ce9",
   "metadata": {},
   "source": [
    "Recommendation System is a process to filter and predict the 'Rating' a user would give to an item.it is used in various areas such as  video and music services, product recommenders for online stores, or content recommenders for social media platforms and open web content recommenders.\n",
    "\n",
    "There are two methods of Filtration strategies:\n",
    "\n",
    "---> collaborative filtering\n",
    "\n",
    "---> content-based filtering"
   ]
  },
  {
   "cell_type": "markdown",
   "id": "b80890b4",
   "metadata": {},
   "source": [
    "# collaborative filtering"
   ]
  },
  {
   "cell_type": "markdown",
   "id": "2e0296f3",
   "metadata": {},
   "source": [
    "Collaborative filtering is based on the assumption that people who agreed in the past will agree in the future, and that they will like similar kinds of items as they liked in the past. The system generates recommendations using only information about rating profiles for different users or items\n",
    "\n",
    "A key advantage of the collaborative filtering is that it does not rely on machine analyzable content and therefore it is capable of accurately recommending complex items such as movies without requiring an \"understanding\" of the item itself. Many algorithms have been used in measuring user similarity or item similarity in the recommendation systems.\n",
    "\n",
    "example:KNearestNeighbors.\n",
    " "
   ]
  },
  {
   "cell_type": "markdown",
   "id": "8f075729",
   "metadata": {},
   "source": [
    "# Coding-Item based Collaborative Filtering"
   ]
  },
  {
   "cell_type": "markdown",
   "id": "70bafadc",
   "metadata": {},
   "source": [
    "### Import Libraries"
   ]
  },
  {
   "cell_type": "code",
   "execution_count": 1,
   "id": "33654cac",
   "metadata": {},
   "outputs": [
    {
     "name": "stderr",
     "output_type": "stream",
     "text": [
      "C:\\Users\\welcome\\anaconda3\\envs\\notebook\\lib\\site-packages\\numpy\\_distributor_init.py:30: UserWarning: loaded more than 1 DLL from .libs:\n",
      "C:\\Users\\welcome\\anaconda3\\envs\\notebook\\lib\\site-packages\\numpy\\.libs\\libopenblas.GK7GX5KEQ4F6UYO3P26ULGBQYHGQO7J4.gfortran-win_amd64.dll\n",
      "C:\\Users\\welcome\\anaconda3\\envs\\notebook\\lib\\site-packages\\numpy\\.libs\\libopenblas.WCDJNK7YVMPZQ2ME2ZZHJJRJ3JIKNDB7.gfortran-win_amd64.dll\n",
      "  warnings.warn(\"loaded more than 1 DLL from .libs:\"\n"
     ]
    }
   ],
   "source": [
    "import pandas as pd \n",
    "import numpy as np\n",
    "import matplotlib.pyplot as plt\n",
    "import seaborn as sns\n",
    "%matplotlib inline"
   ]
  },
  {
   "cell_type": "code",
   "execution_count": 2,
   "id": "832b4c25",
   "metadata": {},
   "outputs": [],
   "source": [
    "movies=pd.read_csv('C:/Users/welcome/Excel Documents/Capstone/movies - movies.csv')"
   ]
  },
  {
   "cell_type": "code",
   "execution_count": 3,
   "id": "79b2aa15",
   "metadata": {},
   "outputs": [],
   "source": [
    "ratings=pd.read_csv('C:/Users/welcome/Excel Documents/Capstone/ratings - ratings.csv')"
   ]
  },
  {
   "cell_type": "code",
   "execution_count": 4,
   "id": "b2ee0590",
   "metadata": {},
   "outputs": [
    {
     "data": {
      "text/html": [
       "<div>\n",
       "<style scoped>\n",
       "    .dataframe tbody tr th:only-of-type {\n",
       "        vertical-align: middle;\n",
       "    }\n",
       "\n",
       "    .dataframe tbody tr th {\n",
       "        vertical-align: top;\n",
       "    }\n",
       "\n",
       "    .dataframe thead th {\n",
       "        text-align: right;\n",
       "    }\n",
       "</style>\n",
       "<table border=\"1\" class=\"dataframe\">\n",
       "  <thead>\n",
       "    <tr style=\"text-align: right;\">\n",
       "      <th></th>\n",
       "      <th>movieId</th>\n",
       "      <th>title</th>\n",
       "      <th>genres</th>\n",
       "    </tr>\n",
       "  </thead>\n",
       "  <tbody>\n",
       "    <tr>\n",
       "      <th>0</th>\n",
       "      <td>1</td>\n",
       "      <td>Toy Story (1995)</td>\n",
       "      <td>Adventure|Animation|Children|Comedy|Fantasy</td>\n",
       "    </tr>\n",
       "    <tr>\n",
       "      <th>1</th>\n",
       "      <td>2</td>\n",
       "      <td>Jumanji (1995)</td>\n",
       "      <td>Adventure|Children|Fantasy</td>\n",
       "    </tr>\n",
       "    <tr>\n",
       "      <th>2</th>\n",
       "      <td>3</td>\n",
       "      <td>Grumpier Old Men (1995)</td>\n",
       "      <td>Comedy|Romance</td>\n",
       "    </tr>\n",
       "    <tr>\n",
       "      <th>3</th>\n",
       "      <td>4</td>\n",
       "      <td>Waiting to Exhale (1995)</td>\n",
       "      <td>Comedy|Drama|Romance</td>\n",
       "    </tr>\n",
       "    <tr>\n",
       "      <th>4</th>\n",
       "      <td>5</td>\n",
       "      <td>Father of the Bride Part II (1995)</td>\n",
       "      <td>Comedy</td>\n",
       "    </tr>\n",
       "  </tbody>\n",
       "</table>\n",
       "</div>"
      ],
      "text/plain": [
       "   movieId                               title  \\\n",
       "0        1                    Toy Story (1995)   \n",
       "1        2                      Jumanji (1995)   \n",
       "2        3             Grumpier Old Men (1995)   \n",
       "3        4            Waiting to Exhale (1995)   \n",
       "4        5  Father of the Bride Part II (1995)   \n",
       "\n",
       "                                        genres  \n",
       "0  Adventure|Animation|Children|Comedy|Fantasy  \n",
       "1                   Adventure|Children|Fantasy  \n",
       "2                               Comedy|Romance  \n",
       "3                         Comedy|Drama|Romance  \n",
       "4                                       Comedy  "
      ]
     },
     "execution_count": 4,
     "metadata": {},
     "output_type": "execute_result"
    }
   ],
   "source": [
    "movies.head()"
   ]
  },
  {
   "cell_type": "markdown",
   "id": "c3c158c7",
   "metadata": {},
   "source": [
    "movieId - to recommend a movie, a list of similiar movieId to get a title for each movie from the dataset\n",
    "\n",
    "title - title of the movie\n",
    "\n",
    "genres - category of the movie"
   ]
  },
  {
   "cell_type": "code",
   "execution_count": 5,
   "id": "7e5b0649",
   "metadata": {},
   "outputs": [
    {
     "data": {
      "text/html": [
       "<div>\n",
       "<style scoped>\n",
       "    .dataframe tbody tr th:only-of-type {\n",
       "        vertical-align: middle;\n",
       "    }\n",
       "\n",
       "    .dataframe tbody tr th {\n",
       "        vertical-align: top;\n",
       "    }\n",
       "\n",
       "    .dataframe thead th {\n",
       "        text-align: right;\n",
       "    }\n",
       "</style>\n",
       "<table border=\"1\" class=\"dataframe\">\n",
       "  <thead>\n",
       "    <tr style=\"text-align: right;\">\n",
       "      <th></th>\n",
       "      <th>userId</th>\n",
       "      <th>movieId</th>\n",
       "      <th>rating</th>\n",
       "      <th>timestamp</th>\n",
       "    </tr>\n",
       "  </thead>\n",
       "  <tbody>\n",
       "    <tr>\n",
       "      <th>0</th>\n",
       "      <td>1</td>\n",
       "      <td>16</td>\n",
       "      <td>4.0</td>\n",
       "      <td>1217897793</td>\n",
       "    </tr>\n",
       "    <tr>\n",
       "      <th>1</th>\n",
       "      <td>1</td>\n",
       "      <td>24</td>\n",
       "      <td>1.5</td>\n",
       "      <td>1217895807</td>\n",
       "    </tr>\n",
       "    <tr>\n",
       "      <th>2</th>\n",
       "      <td>1</td>\n",
       "      <td>32</td>\n",
       "      <td>4.0</td>\n",
       "      <td>1217896246</td>\n",
       "    </tr>\n",
       "    <tr>\n",
       "      <th>3</th>\n",
       "      <td>1</td>\n",
       "      <td>47</td>\n",
       "      <td>4.0</td>\n",
       "      <td>1217896556</td>\n",
       "    </tr>\n",
       "    <tr>\n",
       "      <th>4</th>\n",
       "      <td>1</td>\n",
       "      <td>50</td>\n",
       "      <td>4.0</td>\n",
       "      <td>1217896523</td>\n",
       "    </tr>\n",
       "  </tbody>\n",
       "</table>\n",
       "</div>"
      ],
      "text/plain": [
       "   userId  movieId  rating   timestamp\n",
       "0       1       16     4.0  1217897793\n",
       "1       1       24     1.5  1217895807\n",
       "2       1       32     4.0  1217896246\n",
       "3       1       47     4.0  1217896556\n",
       "4       1       50     4.0  1217896523"
      ]
     },
     "execution_count": 5,
     "metadata": {},
     "output_type": "execute_result"
    }
   ],
   "source": [
    "ratings.head()"
   ]
  },
  {
   "cell_type": "markdown",
   "id": "f9feab6f",
   "metadata": {},
   "source": [
    "userId - unique for each user\n",
    "\n",
    "movieId - id for movie title from the dataset\n",
    "\n",
    "rating - best movies rated by the user to predict the top 10 movies"
   ]
  },
  {
   "cell_type": "code",
   "execution_count": 6,
   "id": "0444ed2a",
   "metadata": {},
   "outputs": [],
   "source": [
    "data=pd.merge(ratings,movies,on='movieId',how='left')"
   ]
  },
  {
   "cell_type": "code",
   "execution_count": 7,
   "id": "e95532e0",
   "metadata": {
    "scrolled": true
   },
   "outputs": [
    {
     "data": {
      "text/html": [
       "<div>\n",
       "<style scoped>\n",
       "    .dataframe tbody tr th:only-of-type {\n",
       "        vertical-align: middle;\n",
       "    }\n",
       "\n",
       "    .dataframe tbody tr th {\n",
       "        vertical-align: top;\n",
       "    }\n",
       "\n",
       "    .dataframe thead th {\n",
       "        text-align: right;\n",
       "    }\n",
       "</style>\n",
       "<table border=\"1\" class=\"dataframe\">\n",
       "  <thead>\n",
       "    <tr style=\"text-align: right;\">\n",
       "      <th></th>\n",
       "      <th>userId</th>\n",
       "      <th>movieId</th>\n",
       "      <th>rating</th>\n",
       "      <th>timestamp</th>\n",
       "      <th>title</th>\n",
       "      <th>genres</th>\n",
       "    </tr>\n",
       "  </thead>\n",
       "  <tbody>\n",
       "    <tr>\n",
       "      <th>0</th>\n",
       "      <td>1</td>\n",
       "      <td>16</td>\n",
       "      <td>4.0</td>\n",
       "      <td>1217897793</td>\n",
       "      <td>Casino (1995)</td>\n",
       "      <td>Crime|Drama</td>\n",
       "    </tr>\n",
       "    <tr>\n",
       "      <th>1</th>\n",
       "      <td>1</td>\n",
       "      <td>24</td>\n",
       "      <td>1.5</td>\n",
       "      <td>1217895807</td>\n",
       "      <td>Powder (1995)</td>\n",
       "      <td>Drama|Sci-Fi</td>\n",
       "    </tr>\n",
       "    <tr>\n",
       "      <th>2</th>\n",
       "      <td>1</td>\n",
       "      <td>32</td>\n",
       "      <td>4.0</td>\n",
       "      <td>1217896246</td>\n",
       "      <td>Twelve Monkeys (a.k.a. 12 Monkeys) (1995)</td>\n",
       "      <td>Mystery|Sci-Fi|Thriller</td>\n",
       "    </tr>\n",
       "    <tr>\n",
       "      <th>3</th>\n",
       "      <td>1</td>\n",
       "      <td>47</td>\n",
       "      <td>4.0</td>\n",
       "      <td>1217896556</td>\n",
       "      <td>Seven (a.k.a. Se7en) (1995)</td>\n",
       "      <td>Mystery|Thriller</td>\n",
       "    </tr>\n",
       "    <tr>\n",
       "      <th>4</th>\n",
       "      <td>1</td>\n",
       "      <td>50</td>\n",
       "      <td>4.0</td>\n",
       "      <td>1217896523</td>\n",
       "      <td>Usual Suspects, The (1995)</td>\n",
       "      <td>Crime|Mystery|Thriller</td>\n",
       "    </tr>\n",
       "  </tbody>\n",
       "</table>\n",
       "</div>"
      ],
      "text/plain": [
       "   userId  movieId  rating   timestamp  \\\n",
       "0       1       16     4.0  1217897793   \n",
       "1       1       24     1.5  1217895807   \n",
       "2       1       32     4.0  1217896246   \n",
       "3       1       47     4.0  1217896556   \n",
       "4       1       50     4.0  1217896523   \n",
       "\n",
       "                                       title                   genres  \n",
       "0                              Casino (1995)              Crime|Drama  \n",
       "1                              Powder (1995)             Drama|Sci-Fi  \n",
       "2  Twelve Monkeys (a.k.a. 12 Monkeys) (1995)  Mystery|Sci-Fi|Thriller  \n",
       "3                Seven (a.k.a. Se7en) (1995)         Mystery|Thriller  \n",
       "4                 Usual Suspects, The (1995)   Crime|Mystery|Thriller  "
      ]
     },
     "execution_count": 7,
     "metadata": {},
     "output_type": "execute_result"
    }
   ],
   "source": [
    "data.head()"
   ]
  },
  {
   "cell_type": "markdown",
   "id": "7b5b40af",
   "metadata": {},
   "source": [
    "using left outer join, the common column will be movieId."
   ]
  },
  {
   "cell_type": "code",
   "execution_count": 8,
   "id": "03c1da17",
   "metadata": {},
   "outputs": [],
   "source": [
    "data['genres']=data['genres'].str.split('|')"
   ]
  },
  {
   "cell_type": "code",
   "execution_count": 9,
   "id": "7518d246",
   "metadata": {},
   "outputs": [],
   "source": [
    "data['genres']=data['genres'].replace('|',',')"
   ]
  },
  {
   "cell_type": "code",
   "execution_count": 10,
   "id": "b0c97733",
   "metadata": {},
   "outputs": [
    {
     "data": {
      "text/plain": [
       "<AxesSubplot:>"
      ]
     },
     "execution_count": 10,
     "metadata": {},
     "output_type": "execute_result"
    },
    {
     "data": {
      "image/png": "[encoded data removed]",
      "text/plain": [
       "<Figure size 432x288 with 1 Axes>"
      ]
     },
     "metadata": {
      "needs_background": "light"
     },
     "output_type": "display_data"
    }
   ],
   "source": [
    "data['rating'].value_counts().plot.bar()"
   ]
  },
  {
   "cell_type": "code",
   "execution_count": 11,
   "id": "fbabf8bf",
   "metadata": {},
   "outputs": [
    {
     "data": {
      "text/html": [
       "<div>\n",
       "<style scoped>\n",
       "    .dataframe tbody tr th:only-of-type {\n",
       "        vertical-align: middle;\n",
       "    }\n",
       "\n",
       "    .dataframe tbody tr th {\n",
       "        vertical-align: top;\n",
       "    }\n",
       "\n",
       "    .dataframe thead th {\n",
       "        text-align: right;\n",
       "    }\n",
       "</style>\n",
       "<table border=\"1\" class=\"dataframe\">\n",
       "  <thead>\n",
       "    <tr style=\"text-align: right;\">\n",
       "      <th>rating</th>\n",
       "      <th>0.5</th>\n",
       "      <th>1.0</th>\n",
       "      <th>1.5</th>\n",
       "      <th>2.0</th>\n",
       "      <th>2.5</th>\n",
       "      <th>3.0</th>\n",
       "      <th>3.5</th>\n",
       "      <th>4.0</th>\n",
       "      <th>4.5</th>\n",
       "      <th>5.0</th>\n",
       "    </tr>\n",
       "    <tr>\n",
       "      <th>userId</th>\n",
       "      <th></th>\n",
       "      <th></th>\n",
       "      <th></th>\n",
       "      <th></th>\n",
       "      <th></th>\n",
       "      <th></th>\n",
       "      <th></th>\n",
       "      <th></th>\n",
       "      <th></th>\n",
       "      <th></th>\n",
       "    </tr>\n",
       "  </thead>\n",
       "  <tbody>\n",
       "    <tr>\n",
       "      <th>1</th>\n",
       "      <td>6</td>\n",
       "      <td>0</td>\n",
       "      <td>6</td>\n",
       "      <td>1</td>\n",
       "      <td>4</td>\n",
       "      <td>12</td>\n",
       "      <td>21</td>\n",
       "      <td>26</td>\n",
       "      <td>25</td>\n",
       "      <td>12</td>\n",
       "    </tr>\n",
       "    <tr>\n",
       "      <th>2</th>\n",
       "      <td>0</td>\n",
       "      <td>0</td>\n",
       "      <td>0</td>\n",
       "      <td>2</td>\n",
       "      <td>0</td>\n",
       "      <td>5</td>\n",
       "      <td>0</td>\n",
       "      <td>16</td>\n",
       "      <td>0</td>\n",
       "      <td>6</td>\n",
       "    </tr>\n",
       "    <tr>\n",
       "      <th>3</th>\n",
       "      <td>0</td>\n",
       "      <td>0</td>\n",
       "      <td>0</td>\n",
       "      <td>0</td>\n",
       "      <td>0</td>\n",
       "      <td>32</td>\n",
       "      <td>0</td>\n",
       "      <td>24</td>\n",
       "      <td>0</td>\n",
       "      <td>17</td>\n",
       "    </tr>\n",
       "    <tr>\n",
       "      <th>4</th>\n",
       "      <td>0</td>\n",
       "      <td>1</td>\n",
       "      <td>0</td>\n",
       "      <td>4</td>\n",
       "      <td>0</td>\n",
       "      <td>14</td>\n",
       "      <td>0</td>\n",
       "      <td>60</td>\n",
       "      <td>0</td>\n",
       "      <td>45</td>\n",
       "    </tr>\n",
       "    <tr>\n",
       "      <th>5</th>\n",
       "      <td>7</td>\n",
       "      <td>3</td>\n",
       "      <td>3</td>\n",
       "      <td>3</td>\n",
       "      <td>4</td>\n",
       "      <td>5</td>\n",
       "      <td>16</td>\n",
       "      <td>14</td>\n",
       "      <td>5</td>\n",
       "      <td>8</td>\n",
       "    </tr>\n",
       "    <tr>\n",
       "      <th>...</th>\n",
       "      <td>...</td>\n",
       "      <td>...</td>\n",
       "      <td>...</td>\n",
       "      <td>...</td>\n",
       "      <td>...</td>\n",
       "      <td>...</td>\n",
       "      <td>...</td>\n",
       "      <td>...</td>\n",
       "      <td>...</td>\n",
       "      <td>...</td>\n",
       "    </tr>\n",
       "    <tr>\n",
       "      <th>664</th>\n",
       "      <td>0</td>\n",
       "      <td>3</td>\n",
       "      <td>1</td>\n",
       "      <td>3</td>\n",
       "      <td>2</td>\n",
       "      <td>8</td>\n",
       "      <td>4</td>\n",
       "      <td>15</td>\n",
       "      <td>5</td>\n",
       "      <td>33</td>\n",
       "    </tr>\n",
       "    <tr>\n",
       "      <th>665</th>\n",
       "      <td>2</td>\n",
       "      <td>3</td>\n",
       "      <td>6</td>\n",
       "      <td>18</td>\n",
       "      <td>28</td>\n",
       "      <td>47</td>\n",
       "      <td>64</td>\n",
       "      <td>44</td>\n",
       "      <td>12</td>\n",
       "      <td>3</td>\n",
       "    </tr>\n",
       "    <tr>\n",
       "      <th>666</th>\n",
       "      <td>0</td>\n",
       "      <td>35</td>\n",
       "      <td>0</td>\n",
       "      <td>32</td>\n",
       "      <td>0</td>\n",
       "      <td>43</td>\n",
       "      <td>0</td>\n",
       "      <td>51</td>\n",
       "      <td>0</td>\n",
       "      <td>64</td>\n",
       "    </tr>\n",
       "    <tr>\n",
       "      <th>667</th>\n",
       "      <td>0</td>\n",
       "      <td>0</td>\n",
       "      <td>0</td>\n",
       "      <td>2</td>\n",
       "      <td>5</td>\n",
       "      <td>10</td>\n",
       "      <td>11</td>\n",
       "      <td>25</td>\n",
       "      <td>19</td>\n",
       "      <td>2</td>\n",
       "    </tr>\n",
       "    <tr>\n",
       "      <th>668</th>\n",
       "      <td>85</td>\n",
       "      <td>301</td>\n",
       "      <td>274</td>\n",
       "      <td>906</td>\n",
       "      <td>972</td>\n",
       "      <td>1438</td>\n",
       "      <td>732</td>\n",
       "      <td>757</td>\n",
       "      <td>166</td>\n",
       "      <td>47</td>\n",
       "    </tr>\n",
       "  </tbody>\n",
       "</table>\n",
       "<p>668 rows × 10 columns</p>\n",
       "</div>"
      ],
      "text/plain": [
       "rating  0.5  1.0  1.5  2.0  2.5   3.0  3.5  4.0  4.5  5.0\n",
       "userId                                                   \n",
       "1         6    0    6    1    4    12   21   26   25   12\n",
       "2         0    0    0    2    0     5    0   16    0    6\n",
       "3         0    0    0    0    0    32    0   24    0   17\n",
       "4         0    1    0    4    0    14    0   60    0   45\n",
       "5         7    3    3    3    4     5   16   14    5    8\n",
       "...     ...  ...  ...  ...  ...   ...  ...  ...  ...  ...\n",
       "664       0    3    1    3    2     8    4   15    5   33\n",
       "665       2    3    6   18   28    47   64   44   12    3\n",
       "666       0   35    0   32    0    43    0   51    0   64\n",
       "667       0    0    0    2    5    10   11   25   19    2\n",
       "668      85  301  274  906  972  1438  732  757  166   47\n",
       "\n",
       "[668 rows x 10 columns]"
      ]
     },
     "execution_count": 11,
     "metadata": {},
     "output_type": "execute_result"
    }
   ],
   "source": [
    "pd.crosstab(data['userId'],data['rating'])"
   ]
  },
  {
   "cell_type": "code",
   "execution_count": 12,
   "id": "3187d921",
   "metadata": {},
   "outputs": [],
   "source": [
    "final_dataset=pd.pivot_table(data=ratings,index='movieId',columns='userId',values='rating')"
   ]
  },
  {
   "cell_type": "code",
   "execution_count": 13,
   "id": "6a226cb7",
   "metadata": {},
   "outputs": [
    {
     "data": {
      "text/html": [
       "<div>\n",
       "<style scoped>\n",
       "    .dataframe tbody tr th:only-of-type {\n",
       "        vertical-align: middle;\n",
       "    }\n",
       "\n",
       "    .dataframe tbody tr th {\n",
       "        vertical-align: top;\n",
       "    }\n",
       "\n",
       "    .dataframe thead th {\n",
       "        text-align: right;\n",
       "    }\n",
       "</style>\n",
       "<table border=\"1\" class=\"dataframe\">\n",
       "  <thead>\n",
       "    <tr style=\"text-align: right;\">\n",
       "      <th>userId</th>\n",
       "      <th>1</th>\n",
       "      <th>2</th>\n",
       "      <th>3</th>\n",
       "      <th>4</th>\n",
       "      <th>5</th>\n",
       "      <th>6</th>\n",
       "      <th>7</th>\n",
       "      <th>8</th>\n",
       "      <th>9</th>\n",
       "      <th>10</th>\n",
       "      <th>...</th>\n",
       "      <th>659</th>\n",
       "      <th>660</th>\n",
       "      <th>661</th>\n",
       "      <th>662</th>\n",
       "      <th>663</th>\n",
       "      <th>664</th>\n",
       "      <th>665</th>\n",
       "      <th>666</th>\n",
       "      <th>667</th>\n",
       "      <th>668</th>\n",
       "    </tr>\n",
       "    <tr>\n",
       "      <th>movieId</th>\n",
       "      <th></th>\n",
       "      <th></th>\n",
       "      <th></th>\n",
       "      <th></th>\n",
       "      <th></th>\n",
       "      <th></th>\n",
       "      <th></th>\n",
       "      <th></th>\n",
       "      <th></th>\n",
       "      <th></th>\n",
       "      <th></th>\n",
       "      <th></th>\n",
       "      <th></th>\n",
       "      <th></th>\n",
       "      <th></th>\n",
       "      <th></th>\n",
       "      <th></th>\n",
       "      <th></th>\n",
       "      <th></th>\n",
       "      <th></th>\n",
       "      <th></th>\n",
       "    </tr>\n",
       "  </thead>\n",
       "  <tbody>\n",
       "    <tr>\n",
       "      <th>1</th>\n",
       "      <td>NaN</td>\n",
       "      <td>5.0</td>\n",
       "      <td>NaN</td>\n",
       "      <td>NaN</td>\n",
       "      <td>4.0</td>\n",
       "      <td>NaN</td>\n",
       "      <td>NaN</td>\n",
       "      <td>5.0</td>\n",
       "      <td>NaN</td>\n",
       "      <td>NaN</td>\n",
       "      <td>...</td>\n",
       "      <td>NaN</td>\n",
       "      <td>NaN</td>\n",
       "      <td>4.0</td>\n",
       "      <td>5.0</td>\n",
       "      <td>3.0</td>\n",
       "      <td>NaN</td>\n",
       "      <td>NaN</td>\n",
       "      <td>NaN</td>\n",
       "      <td>NaN</td>\n",
       "      <td>3.0</td>\n",
       "    </tr>\n",
       "    <tr>\n",
       "      <th>2</th>\n",
       "      <td>NaN</td>\n",
       "      <td>NaN</td>\n",
       "      <td>NaN</td>\n",
       "      <td>NaN</td>\n",
       "      <td>NaN</td>\n",
       "      <td>NaN</td>\n",
       "      <td>NaN</td>\n",
       "      <td>NaN</td>\n",
       "      <td>NaN</td>\n",
       "      <td>NaN</td>\n",
       "      <td>...</td>\n",
       "      <td>NaN</td>\n",
       "      <td>NaN</td>\n",
       "      <td>NaN</td>\n",
       "      <td>5.0</td>\n",
       "      <td>NaN</td>\n",
       "      <td>NaN</td>\n",
       "      <td>NaN</td>\n",
       "      <td>NaN</td>\n",
       "      <td>NaN</td>\n",
       "      <td>3.0</td>\n",
       "    </tr>\n",
       "    <tr>\n",
       "      <th>3</th>\n",
       "      <td>NaN</td>\n",
       "      <td>2.0</td>\n",
       "      <td>NaN</td>\n",
       "      <td>NaN</td>\n",
       "      <td>NaN</td>\n",
       "      <td>NaN</td>\n",
       "      <td>NaN</td>\n",
       "      <td>4.0</td>\n",
       "      <td>3.0</td>\n",
       "      <td>NaN</td>\n",
       "      <td>...</td>\n",
       "      <td>NaN</td>\n",
       "      <td>NaN</td>\n",
       "      <td>3.0</td>\n",
       "      <td>NaN</td>\n",
       "      <td>NaN</td>\n",
       "      <td>NaN</td>\n",
       "      <td>NaN</td>\n",
       "      <td>NaN</td>\n",
       "      <td>NaN</td>\n",
       "      <td>2.0</td>\n",
       "    </tr>\n",
       "    <tr>\n",
       "      <th>4</th>\n",
       "      <td>NaN</td>\n",
       "      <td>NaN</td>\n",
       "      <td>NaN</td>\n",
       "      <td>NaN</td>\n",
       "      <td>NaN</td>\n",
       "      <td>NaN</td>\n",
       "      <td>NaN</td>\n",
       "      <td>NaN</td>\n",
       "      <td>NaN</td>\n",
       "      <td>NaN</td>\n",
       "      <td>...</td>\n",
       "      <td>NaN</td>\n",
       "      <td>NaN</td>\n",
       "      <td>NaN</td>\n",
       "      <td>NaN</td>\n",
       "      <td>NaN</td>\n",
       "      <td>NaN</td>\n",
       "      <td>NaN</td>\n",
       "      <td>NaN</td>\n",
       "      <td>NaN</td>\n",
       "      <td>NaN</td>\n",
       "    </tr>\n",
       "    <tr>\n",
       "      <th>5</th>\n",
       "      <td>NaN</td>\n",
       "      <td>3.0</td>\n",
       "      <td>3.0</td>\n",
       "      <td>NaN</td>\n",
       "      <td>NaN</td>\n",
       "      <td>NaN</td>\n",
       "      <td>NaN</td>\n",
       "      <td>3.0</td>\n",
       "      <td>NaN</td>\n",
       "      <td>NaN</td>\n",
       "      <td>...</td>\n",
       "      <td>NaN</td>\n",
       "      <td>NaN</td>\n",
       "      <td>3.0</td>\n",
       "      <td>NaN</td>\n",
       "      <td>NaN</td>\n",
       "      <td>NaN</td>\n",
       "      <td>NaN</td>\n",
       "      <td>NaN</td>\n",
       "      <td>NaN</td>\n",
       "      <td>2.5</td>\n",
       "    </tr>\n",
       "  </tbody>\n",
       "</table>\n",
       "<p>5 rows × 668 columns</p>\n",
       "</div>"
      ],
      "text/plain": [
       "userId   1    2    3    4    5    6    7    8    9    10   ...  659  660  661  \\\n",
       "movieId                                                    ...                  \n",
       "1        NaN  5.0  NaN  NaN  4.0  NaN  NaN  5.0  NaN  NaN  ...  NaN  NaN  4.0   \n",
       "2        NaN  NaN  NaN  NaN  NaN  NaN  NaN  NaN  NaN  NaN  ...  NaN  NaN  NaN   \n",
       "3        NaN  2.0  NaN  NaN  NaN  NaN  NaN  4.0  3.0  NaN  ...  NaN  NaN  3.0   \n",
       "4        NaN  NaN  NaN  NaN  NaN  NaN  NaN  NaN  NaN  NaN  ...  NaN  NaN  NaN   \n",
       "5        NaN  3.0  3.0  NaN  NaN  NaN  NaN  3.0  NaN  NaN  ...  NaN  NaN  3.0   \n",
       "\n",
       "userId   662  663  664  665  666  667  668  \n",
       "movieId                                     \n",
       "1        5.0  3.0  NaN  NaN  NaN  NaN  3.0  \n",
       "2        5.0  NaN  NaN  NaN  NaN  NaN  3.0  \n",
       "3        NaN  NaN  NaN  NaN  NaN  NaN  2.0  \n",
       "4        NaN  NaN  NaN  NaN  NaN  NaN  NaN  \n",
       "5        NaN  NaN  NaN  NaN  NaN  NaN  2.5  \n",
       "\n",
       "[5 rows x 668 columns]"
      ]
     },
     "execution_count": 13,
     "metadata": {},
     "output_type": "execute_result"
    }
   ],
   "source": [
    "final_dataset.head()"
   ]
  },
  {
   "cell_type": "code",
   "execution_count": 14,
   "id": "0a0d476a",
   "metadata": {},
   "outputs": [],
   "source": [
    "final_dataset.fillna(0,inplace=True)"
   ]
  },
  {
   "cell_type": "code",
   "execution_count": 15,
   "id": "7da5e56b",
   "metadata": {},
   "outputs": [
    {
     "data": {
      "text/html": [
       "<div>\n",
       "<style scoped>\n",
       "    .dataframe tbody tr th:only-of-type {\n",
       "        vertical-align: middle;\n",
       "    }\n",
       "\n",
       "    .dataframe tbody tr th {\n",
       "        vertical-align: top;\n",
       "    }\n",
       "\n",
       "    .dataframe thead th {\n",
       "        text-align: right;\n",
       "    }\n",
       "</style>\n",
       "<table border=\"1\" class=\"dataframe\">\n",
       "  <thead>\n",
       "    <tr style=\"text-align: right;\">\n",
       "      <th>userId</th>\n",
       "      <th>1</th>\n",
       "      <th>2</th>\n",
       "      <th>3</th>\n",
       "      <th>4</th>\n",
       "      <th>5</th>\n",
       "      <th>6</th>\n",
       "      <th>7</th>\n",
       "      <th>8</th>\n",
       "      <th>9</th>\n",
       "      <th>10</th>\n",
       "      <th>...</th>\n",
       "      <th>659</th>\n",
       "      <th>660</th>\n",
       "      <th>661</th>\n",
       "      <th>662</th>\n",
       "      <th>663</th>\n",
       "      <th>664</th>\n",
       "      <th>665</th>\n",
       "      <th>666</th>\n",
       "      <th>667</th>\n",
       "      <th>668</th>\n",
       "    </tr>\n",
       "    <tr>\n",
       "      <th>movieId</th>\n",
       "      <th></th>\n",
       "      <th></th>\n",
       "      <th></th>\n",
       "      <th></th>\n",
       "      <th></th>\n",
       "      <th></th>\n",
       "      <th></th>\n",
       "      <th></th>\n",
       "      <th></th>\n",
       "      <th></th>\n",
       "      <th></th>\n",
       "      <th></th>\n",
       "      <th></th>\n",
       "      <th></th>\n",
       "      <th></th>\n",
       "      <th></th>\n",
       "      <th></th>\n",
       "      <th></th>\n",
       "      <th></th>\n",
       "      <th></th>\n",
       "      <th></th>\n",
       "    </tr>\n",
       "  </thead>\n",
       "  <tbody>\n",
       "    <tr>\n",
       "      <th>1</th>\n",
       "      <td>0.0</td>\n",
       "      <td>5.0</td>\n",
       "      <td>0.0</td>\n",
       "      <td>0.0</td>\n",
       "      <td>4.0</td>\n",
       "      <td>0.0</td>\n",
       "      <td>0.0</td>\n",
       "      <td>5.0</td>\n",
       "      <td>0.0</td>\n",
       "      <td>0.0</td>\n",
       "      <td>...</td>\n",
       "      <td>0.0</td>\n",
       "      <td>0.0</td>\n",
       "      <td>4.0</td>\n",
       "      <td>5.0</td>\n",
       "      <td>3.0</td>\n",
       "      <td>0.0</td>\n",
       "      <td>0.0</td>\n",
       "      <td>0.0</td>\n",
       "      <td>0.0</td>\n",
       "      <td>3.0</td>\n",
       "    </tr>\n",
       "    <tr>\n",
       "      <th>2</th>\n",
       "      <td>0.0</td>\n",
       "      <td>0.0</td>\n",
       "      <td>0.0</td>\n",
       "      <td>0.0</td>\n",
       "      <td>0.0</td>\n",
       "      <td>0.0</td>\n",
       "      <td>0.0</td>\n",
       "      <td>0.0</td>\n",
       "      <td>0.0</td>\n",
       "      <td>0.0</td>\n",
       "      <td>...</td>\n",
       "      <td>0.0</td>\n",
       "      <td>0.0</td>\n",
       "      <td>0.0</td>\n",
       "      <td>5.0</td>\n",
       "      <td>0.0</td>\n",
       "      <td>0.0</td>\n",
       "      <td>0.0</td>\n",
       "      <td>0.0</td>\n",
       "      <td>0.0</td>\n",
       "      <td>3.0</td>\n",
       "    </tr>\n",
       "    <tr>\n",
       "      <th>3</th>\n",
       "      <td>0.0</td>\n",
       "      <td>2.0</td>\n",
       "      <td>0.0</td>\n",
       "      <td>0.0</td>\n",
       "      <td>0.0</td>\n",
       "      <td>0.0</td>\n",
       "      <td>0.0</td>\n",
       "      <td>4.0</td>\n",
       "      <td>3.0</td>\n",
       "      <td>0.0</td>\n",
       "      <td>...</td>\n",
       "      <td>0.0</td>\n",
       "      <td>0.0</td>\n",
       "      <td>3.0</td>\n",
       "      <td>0.0</td>\n",
       "      <td>0.0</td>\n",
       "      <td>0.0</td>\n",
       "      <td>0.0</td>\n",
       "      <td>0.0</td>\n",
       "      <td>0.0</td>\n",
       "      <td>2.0</td>\n",
       "    </tr>\n",
       "    <tr>\n",
       "      <th>4</th>\n",
       "      <td>0.0</td>\n",
       "      <td>0.0</td>\n",
       "      <td>0.0</td>\n",
       "      <td>0.0</td>\n",
       "      <td>0.0</td>\n",
       "      <td>0.0</td>\n",
       "      <td>0.0</td>\n",
       "      <td>0.0</td>\n",
       "      <td>0.0</td>\n",
       "      <td>0.0</td>\n",
       "      <td>...</td>\n",
       "      <td>0.0</td>\n",
       "      <td>0.0</td>\n",
       "      <td>0.0</td>\n",
       "      <td>0.0</td>\n",
       "      <td>0.0</td>\n",
       "      <td>0.0</td>\n",
       "      <td>0.0</td>\n",
       "      <td>0.0</td>\n",
       "      <td>0.0</td>\n",
       "      <td>0.0</td>\n",
       "    </tr>\n",
       "    <tr>\n",
       "      <th>5</th>\n",
       "      <td>0.0</td>\n",
       "      <td>3.0</td>\n",
       "      <td>3.0</td>\n",
       "      <td>0.0</td>\n",
       "      <td>0.0</td>\n",
       "      <td>0.0</td>\n",
       "      <td>0.0</td>\n",
       "      <td>3.0</td>\n",
       "      <td>0.0</td>\n",
       "      <td>0.0</td>\n",
       "      <td>...</td>\n",
       "      <td>0.0</td>\n",
       "      <td>0.0</td>\n",
       "      <td>3.0</td>\n",
       "      <td>0.0</td>\n",
       "      <td>0.0</td>\n",
       "      <td>0.0</td>\n",
       "      <td>0.0</td>\n",
       "      <td>0.0</td>\n",
       "      <td>0.0</td>\n",
       "      <td>2.5</td>\n",
       "    </tr>\n",
       "  </tbody>\n",
       "</table>\n",
       "<p>5 rows × 668 columns</p>\n",
       "</div>"
      ],
      "text/plain": [
       "userId   1    2    3    4    5    6    7    8    9    10   ...  659  660  661  \\\n",
       "movieId                                                    ...                  \n",
       "1        0.0  5.0  0.0  0.0  4.0  0.0  0.0  5.0  0.0  0.0  ...  0.0  0.0  4.0   \n",
       "2        0.0  0.0  0.0  0.0  0.0  0.0  0.0  0.0  0.0  0.0  ...  0.0  0.0  0.0   \n",
       "3        0.0  2.0  0.0  0.0  0.0  0.0  0.0  4.0  3.0  0.0  ...  0.0  0.0  3.0   \n",
       "4        0.0  0.0  0.0  0.0  0.0  0.0  0.0  0.0  0.0  0.0  ...  0.0  0.0  0.0   \n",
       "5        0.0  3.0  3.0  0.0  0.0  0.0  0.0  3.0  0.0  0.0  ...  0.0  0.0  3.0   \n",
       "\n",
       "userId   662  663  664  665  666  667  668  \n",
       "movieId                                     \n",
       "1        5.0  3.0  0.0  0.0  0.0  0.0  3.0  \n",
       "2        5.0  0.0  0.0  0.0  0.0  0.0  3.0  \n",
       "3        0.0  0.0  0.0  0.0  0.0  0.0  2.0  \n",
       "4        0.0  0.0  0.0  0.0  0.0  0.0  0.0  \n",
       "5        0.0  0.0  0.0  0.0  0.0  0.0  2.5  \n",
       "\n",
       "[5 rows x 668 columns]"
      ]
     },
     "execution_count": 15,
     "metadata": {},
     "output_type": "execute_result"
    }
   ],
   "source": [
    "final_dataset.head()"
   ]
  },
  {
   "cell_type": "markdown",
   "id": "fd3e161b",
   "metadata": {},
   "source": [
    "based on userId and movieId, it is easier to understand and work with a new dataframe where each column would represent each unique userId and each row represents each unique movieId.\n",
    "\n",
    "if the userId 2 has rated the movieId 1 as 5.0, userId 2 has watched that movie. whereas userId 663 hasn't rated the movieId 3,then he didn't watched the movie.therefore,in order to ignore 'NaN', impute NaN with 0 to make things understandable for the algorithm and also making the data more eye-soothing."
   ]
  },
  {
   "cell_type": "markdown",
   "id": "c890005f",
   "metadata": {},
   "source": [
    "# removing noise from the data"
   ]
  },
  {
   "cell_type": "markdown",
   "id": "6d702787",
   "metadata": {},
   "source": [
    "movies that were rated by a small number of users because it’s not credible enough. Similarly, users who have rated only a handful of movies should also not be taken into account.\n",
    "\n",
    "So with all that taken into account and some trial and error experimentations,  we will reduce the noise by adding some filters for the final dataset.\n",
    "\n",
    "To qualify a movie, a minimum of 10 users should have voted a movie.\n",
    "To qualify a user, a minimum of 50 movies should have voted by the user."
   ]
  },
  {
   "cell_type": "code",
   "execution_count": 16,
   "id": "062455cd",
   "metadata": {},
   "outputs": [],
   "source": [
    "no_user_rated=pd.pivot_table(data=data,index='movieId',values='rating',aggfunc='count')"
   ]
  },
  {
   "cell_type": "code",
   "execution_count": 17,
   "id": "3608617e",
   "metadata": {},
   "outputs": [],
   "source": [
    "no_movies_rated=pd.pivot_table(data=data,index='userId',values='rating',aggfunc='count')"
   ]
  },
  {
   "cell_type": "code",
   "execution_count": 18,
   "id": "c2b7e5ed",
   "metadata": {},
   "outputs": [
    {
     "data": {
      "image/png": "[encoded data removed]",
      "text/plain": [
       "<Figure size 1152x288 with 1 Axes>"
      ]
     },
     "metadata": {
      "needs_background": "light"
     },
     "output_type": "display_data"
    }
   ],
   "source": [
    "f,ax = plt.subplots(1,1,figsize=(16,4))\n",
    "plt.scatter(no_user_rated.index,no_user_rated,color='mediumseagreen')\n",
    "plt.axhline(y=10,color='r')\n",
    "plt.xlabel('MovieId')\n",
    "plt.ylabel('No. of users voted')\n",
    "plt.show()"
   ]
  },
  {
   "cell_type": "code",
   "execution_count": 19,
   "id": "c88daacb",
   "metadata": {},
   "outputs": [
    {
     "data": {
      "image/png": "[encoded data removed]",
      "text/plain": [
       "<Figure size 1152x288 with 1 Axes>"
      ]
     },
     "metadata": {
      "needs_background": "light"
     },
     "output_type": "display_data"
    }
   ],
   "source": [
    "f,ax = plt.subplots(1,1,figsize=(16,4))\n",
    "# ratings['rating'].plot(kind='hist')\n",
    "plt.scatter(no_movies_rated.index,no_movies_rated)\n",
    "plt.axhline(y=50,color='r')\n",
    "plt.xlabel('MovieId')\n",
    "plt.ylabel('No. of users voted')\n",
    "plt.show()"
   ]
  },
  {
   "cell_type": "code",
   "execution_count": 20,
   "id": "45068c5c",
   "metadata": {},
   "outputs": [],
   "source": [
    "# to qualify a movie,minimum of 10 users should be rated\n",
    "\n",
    "a=no_user_rated[no_user_rated>10].index"
   ]
  },
  {
   "cell_type": "code",
   "execution_count": 21,
   "id": "1574871b",
   "metadata": {},
   "outputs": [],
   "source": [
    "final_dataset=final_dataset.loc[a,:]"
   ]
  },
  {
   "cell_type": "code",
   "execution_count": 22,
   "id": "e06e0a38",
   "metadata": {},
   "outputs": [
    {
     "data": {
      "text/html": [
       "<div>\n",
       "<style scoped>\n",
       "    .dataframe tbody tr th:only-of-type {\n",
       "        vertical-align: middle;\n",
       "    }\n",
       "\n",
       "    .dataframe tbody tr th {\n",
       "        vertical-align: top;\n",
       "    }\n",
       "\n",
       "    .dataframe thead th {\n",
       "        text-align: right;\n",
       "    }\n",
       "</style>\n",
       "<table border=\"1\" class=\"dataframe\">\n",
       "  <thead>\n",
       "    <tr style=\"text-align: right;\">\n",
       "      <th>userId</th>\n",
       "      <th>1</th>\n",
       "      <th>2</th>\n",
       "      <th>3</th>\n",
       "      <th>4</th>\n",
       "      <th>5</th>\n",
       "      <th>6</th>\n",
       "      <th>7</th>\n",
       "      <th>8</th>\n",
       "      <th>9</th>\n",
       "      <th>10</th>\n",
       "      <th>...</th>\n",
       "      <th>659</th>\n",
       "      <th>660</th>\n",
       "      <th>661</th>\n",
       "      <th>662</th>\n",
       "      <th>663</th>\n",
       "      <th>664</th>\n",
       "      <th>665</th>\n",
       "      <th>666</th>\n",
       "      <th>667</th>\n",
       "      <th>668</th>\n",
       "    </tr>\n",
       "    <tr>\n",
       "      <th>movieId</th>\n",
       "      <th></th>\n",
       "      <th></th>\n",
       "      <th></th>\n",
       "      <th></th>\n",
       "      <th></th>\n",
       "      <th></th>\n",
       "      <th></th>\n",
       "      <th></th>\n",
       "      <th></th>\n",
       "      <th></th>\n",
       "      <th></th>\n",
       "      <th></th>\n",
       "      <th></th>\n",
       "      <th></th>\n",
       "      <th></th>\n",
       "      <th></th>\n",
       "      <th></th>\n",
       "      <th></th>\n",
       "      <th></th>\n",
       "      <th></th>\n",
       "      <th></th>\n",
       "    </tr>\n",
       "  </thead>\n",
       "  <tbody>\n",
       "    <tr>\n",
       "      <th>1</th>\n",
       "      <td>0.0</td>\n",
       "      <td>5.0</td>\n",
       "      <td>0.0</td>\n",
       "      <td>0.0</td>\n",
       "      <td>4.0</td>\n",
       "      <td>0.0</td>\n",
       "      <td>0.0</td>\n",
       "      <td>5.0</td>\n",
       "      <td>0.0</td>\n",
       "      <td>0.0</td>\n",
       "      <td>...</td>\n",
       "      <td>0.0</td>\n",
       "      <td>0.0</td>\n",
       "      <td>4.0</td>\n",
       "      <td>5.0</td>\n",
       "      <td>3.0</td>\n",
       "      <td>0.0</td>\n",
       "      <td>0.0</td>\n",
       "      <td>0.0</td>\n",
       "      <td>0.0</td>\n",
       "      <td>3.0</td>\n",
       "    </tr>\n",
       "    <tr>\n",
       "      <th>2</th>\n",
       "      <td>0.0</td>\n",
       "      <td>0.0</td>\n",
       "      <td>0.0</td>\n",
       "      <td>0.0</td>\n",
       "      <td>0.0</td>\n",
       "      <td>0.0</td>\n",
       "      <td>0.0</td>\n",
       "      <td>0.0</td>\n",
       "      <td>0.0</td>\n",
       "      <td>0.0</td>\n",
       "      <td>...</td>\n",
       "      <td>0.0</td>\n",
       "      <td>0.0</td>\n",
       "      <td>0.0</td>\n",
       "      <td>5.0</td>\n",
       "      <td>0.0</td>\n",
       "      <td>0.0</td>\n",
       "      <td>0.0</td>\n",
       "      <td>0.0</td>\n",
       "      <td>0.0</td>\n",
       "      <td>3.0</td>\n",
       "    </tr>\n",
       "    <tr>\n",
       "      <th>3</th>\n",
       "      <td>0.0</td>\n",
       "      <td>2.0</td>\n",
       "      <td>0.0</td>\n",
       "      <td>0.0</td>\n",
       "      <td>0.0</td>\n",
       "      <td>0.0</td>\n",
       "      <td>0.0</td>\n",
       "      <td>4.0</td>\n",
       "      <td>3.0</td>\n",
       "      <td>0.0</td>\n",
       "      <td>...</td>\n",
       "      <td>0.0</td>\n",
       "      <td>0.0</td>\n",
       "      <td>3.0</td>\n",
       "      <td>0.0</td>\n",
       "      <td>0.0</td>\n",
       "      <td>0.0</td>\n",
       "      <td>0.0</td>\n",
       "      <td>0.0</td>\n",
       "      <td>0.0</td>\n",
       "      <td>2.0</td>\n",
       "    </tr>\n",
       "    <tr>\n",
       "      <th>4</th>\n",
       "      <td>0.0</td>\n",
       "      <td>0.0</td>\n",
       "      <td>0.0</td>\n",
       "      <td>0.0</td>\n",
       "      <td>0.0</td>\n",
       "      <td>0.0</td>\n",
       "      <td>0.0</td>\n",
       "      <td>0.0</td>\n",
       "      <td>0.0</td>\n",
       "      <td>0.0</td>\n",
       "      <td>...</td>\n",
       "      <td>0.0</td>\n",
       "      <td>0.0</td>\n",
       "      <td>0.0</td>\n",
       "      <td>0.0</td>\n",
       "      <td>0.0</td>\n",
       "      <td>0.0</td>\n",
       "      <td>0.0</td>\n",
       "      <td>0.0</td>\n",
       "      <td>0.0</td>\n",
       "      <td>0.0</td>\n",
       "    </tr>\n",
       "    <tr>\n",
       "      <th>5</th>\n",
       "      <td>0.0</td>\n",
       "      <td>3.0</td>\n",
       "      <td>3.0</td>\n",
       "      <td>0.0</td>\n",
       "      <td>0.0</td>\n",
       "      <td>0.0</td>\n",
       "      <td>0.0</td>\n",
       "      <td>3.0</td>\n",
       "      <td>0.0</td>\n",
       "      <td>0.0</td>\n",
       "      <td>...</td>\n",
       "      <td>0.0</td>\n",
       "      <td>0.0</td>\n",
       "      <td>3.0</td>\n",
       "      <td>0.0</td>\n",
       "      <td>0.0</td>\n",
       "      <td>0.0</td>\n",
       "      <td>0.0</td>\n",
       "      <td>0.0</td>\n",
       "      <td>0.0</td>\n",
       "      <td>2.5</td>\n",
       "    </tr>\n",
       "  </tbody>\n",
       "</table>\n",
       "<p>5 rows × 668 columns</p>\n",
       "</div>"
      ],
      "text/plain": [
       "userId   1    2    3    4    5    6    7    8    9    10   ...  659  660  661  \\\n",
       "movieId                                                    ...                  \n",
       "1        0.0  5.0  0.0  0.0  4.0  0.0  0.0  5.0  0.0  0.0  ...  0.0  0.0  4.0   \n",
       "2        0.0  0.0  0.0  0.0  0.0  0.0  0.0  0.0  0.0  0.0  ...  0.0  0.0  0.0   \n",
       "3        0.0  2.0  0.0  0.0  0.0  0.0  0.0  4.0  3.0  0.0  ...  0.0  0.0  3.0   \n",
       "4        0.0  0.0  0.0  0.0  0.0  0.0  0.0  0.0  0.0  0.0  ...  0.0  0.0  0.0   \n",
       "5        0.0  3.0  3.0  0.0  0.0  0.0  0.0  3.0  0.0  0.0  ...  0.0  0.0  3.0   \n",
       "\n",
       "userId   662  663  664  665  666  667  668  \n",
       "movieId                                     \n",
       "1        5.0  3.0  0.0  0.0  0.0  0.0  3.0  \n",
       "2        5.0  0.0  0.0  0.0  0.0  0.0  3.0  \n",
       "3        0.0  0.0  0.0  0.0  0.0  0.0  2.0  \n",
       "4        0.0  0.0  0.0  0.0  0.0  0.0  0.0  \n",
       "5        0.0  0.0  0.0  0.0  0.0  0.0  2.5  \n",
       "\n",
       "[5 rows x 668 columns]"
      ]
     },
     "execution_count": 22,
     "metadata": {},
     "output_type": "execute_result"
    }
   ],
   "source": [
    "final_dataset.head()"
   ]
  },
  {
   "cell_type": "code",
   "execution_count": 23,
   "id": "618285bd",
   "metadata": {},
   "outputs": [],
   "source": [
    "# qualify a movie,minimum of 50 movies should be rated by a user\n",
    "\n",
    "b=no_movies_rated[no_movies_rated>50].index"
   ]
  },
  {
   "cell_type": "code",
   "execution_count": 24,
   "id": "daf5fbf1",
   "metadata": {},
   "outputs": [],
   "source": [
    "final_dataset=final_dataset.loc[:,b]"
   ]
  },
  {
   "cell_type": "code",
   "execution_count": 25,
   "id": "2182533e",
   "metadata": {},
   "outputs": [
    {
     "data": {
      "text/html": [
       "<div>\n",
       "<style scoped>\n",
       "    .dataframe tbody tr th:only-of-type {\n",
       "        vertical-align: middle;\n",
       "    }\n",
       "\n",
       "    .dataframe tbody tr th {\n",
       "        vertical-align: top;\n",
       "    }\n",
       "\n",
       "    .dataframe thead th {\n",
       "        text-align: right;\n",
       "    }\n",
       "</style>\n",
       "<table border=\"1\" class=\"dataframe\">\n",
       "  <thead>\n",
       "    <tr style=\"text-align: right;\">\n",
       "      <th>userId</th>\n",
       "      <th>1</th>\n",
       "      <th>2</th>\n",
       "      <th>3</th>\n",
       "      <th>4</th>\n",
       "      <th>5</th>\n",
       "      <th>6</th>\n",
       "      <th>7</th>\n",
       "      <th>8</th>\n",
       "      <th>9</th>\n",
       "      <th>10</th>\n",
       "      <th>...</th>\n",
       "      <th>659</th>\n",
       "      <th>660</th>\n",
       "      <th>661</th>\n",
       "      <th>662</th>\n",
       "      <th>663</th>\n",
       "      <th>664</th>\n",
       "      <th>665</th>\n",
       "      <th>666</th>\n",
       "      <th>667</th>\n",
       "      <th>668</th>\n",
       "    </tr>\n",
       "    <tr>\n",
       "      <th>movieId</th>\n",
       "      <th></th>\n",
       "      <th></th>\n",
       "      <th></th>\n",
       "      <th></th>\n",
       "      <th></th>\n",
       "      <th></th>\n",
       "      <th></th>\n",
       "      <th></th>\n",
       "      <th></th>\n",
       "      <th></th>\n",
       "      <th></th>\n",
       "      <th></th>\n",
       "      <th></th>\n",
       "      <th></th>\n",
       "      <th></th>\n",
       "      <th></th>\n",
       "      <th></th>\n",
       "      <th></th>\n",
       "      <th></th>\n",
       "      <th></th>\n",
       "      <th></th>\n",
       "    </tr>\n",
       "  </thead>\n",
       "  <tbody>\n",
       "    <tr>\n",
       "      <th>1</th>\n",
       "      <td>0.0</td>\n",
       "      <td>5.0</td>\n",
       "      <td>0.0</td>\n",
       "      <td>0.0</td>\n",
       "      <td>4.0</td>\n",
       "      <td>0.0</td>\n",
       "      <td>0.0</td>\n",
       "      <td>5.0</td>\n",
       "      <td>0.0</td>\n",
       "      <td>0.0</td>\n",
       "      <td>...</td>\n",
       "      <td>0.0</td>\n",
       "      <td>0.0</td>\n",
       "      <td>4.0</td>\n",
       "      <td>5.0</td>\n",
       "      <td>3.0</td>\n",
       "      <td>0.0</td>\n",
       "      <td>0.0</td>\n",
       "      <td>0.0</td>\n",
       "      <td>0.0</td>\n",
       "      <td>3.0</td>\n",
       "    </tr>\n",
       "    <tr>\n",
       "      <th>2</th>\n",
       "      <td>0.0</td>\n",
       "      <td>0.0</td>\n",
       "      <td>0.0</td>\n",
       "      <td>0.0</td>\n",
       "      <td>0.0</td>\n",
       "      <td>0.0</td>\n",
       "      <td>0.0</td>\n",
       "      <td>0.0</td>\n",
       "      <td>0.0</td>\n",
       "      <td>0.0</td>\n",
       "      <td>...</td>\n",
       "      <td>0.0</td>\n",
       "      <td>0.0</td>\n",
       "      <td>0.0</td>\n",
       "      <td>5.0</td>\n",
       "      <td>0.0</td>\n",
       "      <td>0.0</td>\n",
       "      <td>0.0</td>\n",
       "      <td>0.0</td>\n",
       "      <td>0.0</td>\n",
       "      <td>3.0</td>\n",
       "    </tr>\n",
       "    <tr>\n",
       "      <th>3</th>\n",
       "      <td>0.0</td>\n",
       "      <td>2.0</td>\n",
       "      <td>0.0</td>\n",
       "      <td>0.0</td>\n",
       "      <td>0.0</td>\n",
       "      <td>0.0</td>\n",
       "      <td>0.0</td>\n",
       "      <td>4.0</td>\n",
       "      <td>3.0</td>\n",
       "      <td>0.0</td>\n",
       "      <td>...</td>\n",
       "      <td>0.0</td>\n",
       "      <td>0.0</td>\n",
       "      <td>3.0</td>\n",
       "      <td>0.0</td>\n",
       "      <td>0.0</td>\n",
       "      <td>0.0</td>\n",
       "      <td>0.0</td>\n",
       "      <td>0.0</td>\n",
       "      <td>0.0</td>\n",
       "      <td>2.0</td>\n",
       "    </tr>\n",
       "    <tr>\n",
       "      <th>4</th>\n",
       "      <td>0.0</td>\n",
       "      <td>0.0</td>\n",
       "      <td>0.0</td>\n",
       "      <td>0.0</td>\n",
       "      <td>0.0</td>\n",
       "      <td>0.0</td>\n",
       "      <td>0.0</td>\n",
       "      <td>0.0</td>\n",
       "      <td>0.0</td>\n",
       "      <td>0.0</td>\n",
       "      <td>...</td>\n",
       "      <td>0.0</td>\n",
       "      <td>0.0</td>\n",
       "      <td>0.0</td>\n",
       "      <td>0.0</td>\n",
       "      <td>0.0</td>\n",
       "      <td>0.0</td>\n",
       "      <td>0.0</td>\n",
       "      <td>0.0</td>\n",
       "      <td>0.0</td>\n",
       "      <td>0.0</td>\n",
       "    </tr>\n",
       "    <tr>\n",
       "      <th>5</th>\n",
       "      <td>0.0</td>\n",
       "      <td>3.0</td>\n",
       "      <td>3.0</td>\n",
       "      <td>0.0</td>\n",
       "      <td>0.0</td>\n",
       "      <td>0.0</td>\n",
       "      <td>0.0</td>\n",
       "      <td>3.0</td>\n",
       "      <td>0.0</td>\n",
       "      <td>0.0</td>\n",
       "      <td>...</td>\n",
       "      <td>0.0</td>\n",
       "      <td>0.0</td>\n",
       "      <td>3.0</td>\n",
       "      <td>0.0</td>\n",
       "      <td>0.0</td>\n",
       "      <td>0.0</td>\n",
       "      <td>0.0</td>\n",
       "      <td>0.0</td>\n",
       "      <td>0.0</td>\n",
       "      <td>2.5</td>\n",
       "    </tr>\n",
       "  </tbody>\n",
       "</table>\n",
       "<p>5 rows × 668 columns</p>\n",
       "</div>"
      ],
      "text/plain": [
       "userId   1    2    3    4    5    6    7    8    9    10   ...  659  660  661  \\\n",
       "movieId                                                    ...                  \n",
       "1        0.0  5.0  0.0  0.0  4.0  0.0  0.0  5.0  0.0  0.0  ...  0.0  0.0  4.0   \n",
       "2        0.0  0.0  0.0  0.0  0.0  0.0  0.0  0.0  0.0  0.0  ...  0.0  0.0  0.0   \n",
       "3        0.0  2.0  0.0  0.0  0.0  0.0  0.0  4.0  3.0  0.0  ...  0.0  0.0  3.0   \n",
       "4        0.0  0.0  0.0  0.0  0.0  0.0  0.0  0.0  0.0  0.0  ...  0.0  0.0  0.0   \n",
       "5        0.0  3.0  3.0  0.0  0.0  0.0  0.0  3.0  0.0  0.0  ...  0.0  0.0  3.0   \n",
       "\n",
       "userId   662  663  664  665  666  667  668  \n",
       "movieId                                     \n",
       "1        5.0  3.0  0.0  0.0  0.0  0.0  3.0  \n",
       "2        5.0  0.0  0.0  0.0  0.0  0.0  3.0  \n",
       "3        0.0  0.0  0.0  0.0  0.0  0.0  2.0  \n",
       "4        0.0  0.0  0.0  0.0  0.0  0.0  0.0  \n",
       "5        0.0  0.0  0.0  0.0  0.0  0.0  2.5  \n",
       "\n",
       "[5 rows x 668 columns]"
      ]
     },
     "execution_count": 25,
     "metadata": {},
     "output_type": "execute_result"
    }
   ],
   "source": [
    "final_dataset.head()"
   ]
  },
  {
   "cell_type": "markdown",
   "id": "20e06121",
   "metadata": {},
   "source": [
    "#### csr_matrix"
   ]
  },
  {
   "cell_type": "markdown",
   "id": "884805a8",
   "metadata": {},
   "source": [
    "sparse matrix or sparse array is a matrix in which most of the elements are zero.\n",
    "\n",
    "if most of the elements are nonzero, then the matrix is considered dense.The number of zero-valued elements divided by the total number of elements (e.g., m × n for an m × n matrix) is sometimes referred to as the sparsity of the matrix.\n"
   ]
  },
  {
   "cell_type": "code",
   "execution_count": 26,
   "id": "d058706a",
   "metadata": {},
   "outputs": [],
   "source": [
    "from scipy.sparse import csr_matrix"
   ]
  },
  {
   "cell_type": "code",
   "execution_count": 27,
   "id": "2c03a2ec",
   "metadata": {},
   "outputs": [],
   "source": [
    "csr_data=csr_matrix(final_dataset.values)"
   ]
  },
  {
   "cell_type": "code",
   "execution_count": 28,
   "id": "3edbf0b8",
   "metadata": {},
   "outputs": [],
   "source": [
    "final_dataset.reset_index(inplace=True)"
   ]
  },
  {
   "cell_type": "markdown",
   "id": "89863460",
   "metadata": {},
   "source": [
    "# Making the Recommendation Model"
   ]
  },
  {
   "cell_type": "markdown",
   "id": "2789494e",
   "metadata": {},
   "source": [
    "To create a model, KNearestNeighbors is used to compute the similiarity with cosine distance metric which is more preferred than preason coefficient."
   ]
  },
  {
   "cell_type": "code",
   "execution_count": 29,
   "id": "ea13d2bd",
   "metadata": {},
   "outputs": [],
   "source": [
    "from sklearn.neighbors import NearestNeighbors"
   ]
  },
  {
   "cell_type": "code",
   "execution_count": 30,
   "id": "ba476a4e",
   "metadata": {},
   "outputs": [],
   "source": [
    "knn=NearestNeighbors(metric='cosine',algorithm='brute',n_neighbors=20)"
   ]
  },
  {
   "cell_type": "code",
   "execution_count": 31,
   "id": "5730acbf",
   "metadata": {},
   "outputs": [
    {
     "data": {
      "text/plain": [
       "NearestNeighbors(algorithm='brute', metric='cosine', n_neighbors=20)"
      ]
     },
     "execution_count": 31,
     "metadata": {},
     "output_type": "execute_result"
    }
   ],
   "source": [
    "knn.fit(csr_data)"
   ]
  },
  {
   "cell_type": "markdown",
   "id": "da51cd2b",
   "metadata": {},
   "source": [
    "if the movie name input is in the database ,if it is in the recommendation system to find similar movies,sort them based on their similarity distance and output only the top 10 movies with their distances from the input movie."
   ]
  },
  {
   "cell_type": "code",
   "execution_count": 32,
   "id": "84617074",
   "metadata": {},
   "outputs": [],
   "source": [
    "def get_movie_recommendation(movie_name):\n",
    "    n_movies_to_reccomend = 10\n",
    "    movie_list = movies[movies['title'].str.contains(movie_name)]  \n",
    "    if len(movie_list):        \n",
    "        movie_idx= movie_list.iloc[0]['movieId']\n",
    "        movie_idx = final_dataset[final_dataset['movieId'] == movie_idx].index[0]\n",
    "        distances , indices = knn.kneighbors(csr_data[movie_idx],n_neighbors=n_movies_to_reccomend+1)    \n",
    "        rec_movie_indices = sorted(list(zip(indices.squeeze().tolist(),distances.squeeze().tolist())),key=lambda x: x[1])[:0:-1]\n",
    "        recommend_frame = []\n",
    "        for val in rec_movie_indices:\n",
    "            movie_idx = final_dataset.iloc[val[0]]['movieId']\n",
    "            idx = movies[movies['movieId'] == movie_idx].index\n",
    "            recommend_frame.append({'Title':movies.iloc[idx]['title'].values[0],'Distance':val[1]})\n",
    "        df = pd.DataFrame(recommend_frame,index=range(1,n_movies_to_reccomend+1))\n",
    "        return df\n",
    "    else:\n",
    "        return \"No movies found. Please check your input\""
   ]
  },
  {
   "cell_type": "code",
   "execution_count": 33,
   "id": "adc3b8bb",
   "metadata": {},
   "outputs": [
    {
     "data": {
      "text/html": [
       "<div>\n",
       "<style scoped>\n",
       "    .dataframe tbody tr th:only-of-type {\n",
       "        vertical-align: middle;\n",
       "    }\n",
       "\n",
       "    .dataframe tbody tr th {\n",
       "        vertical-align: top;\n",
       "    }\n",
       "\n",
       "    .dataframe thead th {\n",
       "        text-align: right;\n",
       "    }\n",
       "</style>\n",
       "<table border=\"1\" class=\"dataframe\">\n",
       "  <thead>\n",
       "    <tr style=\"text-align: right;\">\n",
       "      <th></th>\n",
       "      <th>Title</th>\n",
       "      <th>Distance</th>\n",
       "    </tr>\n",
       "  </thead>\n",
       "  <tbody>\n",
       "    <tr>\n",
       "      <th>1</th>\n",
       "      <td>Jurassic Park (1993)</td>\n",
       "      <td>0.443548</td>\n",
       "    </tr>\n",
       "    <tr>\n",
       "      <th>2</th>\n",
       "      <td>Toy Story 2 (1999)</td>\n",
       "      <td>0.442477</td>\n",
       "    </tr>\n",
       "    <tr>\n",
       "      <th>3</th>\n",
       "      <td>Willy Wonka &amp; the Chocolate Factory (1971)</td>\n",
       "      <td>0.440334</td>\n",
       "    </tr>\n",
       "    <tr>\n",
       "      <th>4</th>\n",
       "      <td>Mission: Impossible (1996)</td>\n",
       "      <td>0.439901</td>\n",
       "    </tr>\n",
       "    <tr>\n",
       "      <th>5</th>\n",
       "      <td>Star Wars: Episode V - The Empire Strikes Back...</td>\n",
       "      <td>0.433630</td>\n",
       "    </tr>\n",
       "    <tr>\n",
       "      <th>6</th>\n",
       "      <td>Back to the Future (1985)</td>\n",
       "      <td>0.422687</td>\n",
       "    </tr>\n",
       "    <tr>\n",
       "      <th>7</th>\n",
       "      <td>Independence Day (a.k.a. ID4) (1996)</td>\n",
       "      <td>0.421632</td>\n",
       "    </tr>\n",
       "    <tr>\n",
       "      <th>8</th>\n",
       "      <td>Raiders of the Lost Ark (Indiana Jones and the...</td>\n",
       "      <td>0.413943</td>\n",
       "    </tr>\n",
       "    <tr>\n",
       "      <th>9</th>\n",
       "      <td>Star Wars: Episode IV - A New Hope (1977)</td>\n",
       "      <td>0.371223</td>\n",
       "    </tr>\n",
       "    <tr>\n",
       "      <th>10</th>\n",
       "      <td>Star Wars: Episode VI - Return of the Jedi (1983)</td>\n",
       "      <td>0.370163</td>\n",
       "    </tr>\n",
       "  </tbody>\n",
       "</table>\n",
       "</div>"
      ],
      "text/plain": [
       "                                                Title  Distance\n",
       "1                                Jurassic Park (1993)  0.443548\n",
       "2                                  Toy Story 2 (1999)  0.442477\n",
       "3          Willy Wonka & the Chocolate Factory (1971)  0.440334\n",
       "4                          Mission: Impossible (1996)  0.439901\n",
       "5   Star Wars: Episode V - The Empire Strikes Back...  0.433630\n",
       "6                           Back to the Future (1985)  0.422687\n",
       "7                Independence Day (a.k.a. ID4) (1996)  0.421632\n",
       "8   Raiders of the Lost Ark (Indiana Jones and the...  0.413943\n",
       "9           Star Wars: Episode IV - A New Hope (1977)  0.371223\n",
       "10  Star Wars: Episode VI - Return of the Jedi (1983)  0.370163"
      ]
     },
     "execution_count": 33,
     "metadata": {},
     "output_type": "execute_result"
    }
   ],
   "source": [
    "get_movie_recommendation('Toy Story')"
   ]
  },
  {
   "cell_type": "code",
   "execution_count": 34,
   "id": "7305c243",
   "metadata": {},
   "outputs": [
    {
     "data": {
      "text/html": [
       "<div>\n",
       "<style scoped>\n",
       "    .dataframe tbody tr th:only-of-type {\n",
       "        vertical-align: middle;\n",
       "    }\n",
       "\n",
       "    .dataframe tbody tr th {\n",
       "        vertical-align: top;\n",
       "    }\n",
       "\n",
       "    .dataframe thead th {\n",
       "        text-align: right;\n",
       "    }\n",
       "</style>\n",
       "<table border=\"1\" class=\"dataframe\">\n",
       "  <thead>\n",
       "    <tr style=\"text-align: right;\">\n",
       "      <th></th>\n",
       "      <th>Title</th>\n",
       "      <th>Distance</th>\n",
       "    </tr>\n",
       "  </thead>\n",
       "  <tbody>\n",
       "    <tr>\n",
       "      <th>1</th>\n",
       "      <td>Crouching Tiger, Hidden Dragon (Wo hu cang lon...</td>\n",
       "      <td>0.455670</td>\n",
       "    </tr>\n",
       "    <tr>\n",
       "      <th>2</th>\n",
       "      <td>Minority Report (2002)</td>\n",
       "      <td>0.448508</td>\n",
       "    </tr>\n",
       "    <tr>\n",
       "      <th>3</th>\n",
       "      <td>Kill Bill: Vol. 1 (2003)</td>\n",
       "      <td>0.447533</td>\n",
       "    </tr>\n",
       "    <tr>\n",
       "      <th>4</th>\n",
       "      <td>Shrek (2001)</td>\n",
       "      <td>0.445369</td>\n",
       "    </tr>\n",
       "    <tr>\n",
       "      <th>5</th>\n",
       "      <td>Ocean's Eleven (2001)</td>\n",
       "      <td>0.442993</td>\n",
       "    </tr>\n",
       "    <tr>\n",
       "      <th>6</th>\n",
       "      <td>Lord of the Rings: The Two Towers, The (2002)</td>\n",
       "      <td>0.441848</td>\n",
       "    </tr>\n",
       "    <tr>\n",
       "      <th>7</th>\n",
       "      <td>Matrix, The (1999)</td>\n",
       "      <td>0.428574</td>\n",
       "    </tr>\n",
       "    <tr>\n",
       "      <th>8</th>\n",
       "      <td>American Beauty (1999)</td>\n",
       "      <td>0.406792</td>\n",
       "    </tr>\n",
       "    <tr>\n",
       "      <th>9</th>\n",
       "      <td>Lord of the Rings: The Fellowship of the Ring,...</td>\n",
       "      <td>0.391322</td>\n",
       "    </tr>\n",
       "    <tr>\n",
       "      <th>10</th>\n",
       "      <td>Fight Club (1999)</td>\n",
       "      <td>0.371181</td>\n",
       "    </tr>\n",
       "  </tbody>\n",
       "</table>\n",
       "</div>"
      ],
      "text/plain": [
       "                                                Title  Distance\n",
       "1   Crouching Tiger, Hidden Dragon (Wo hu cang lon...  0.455670\n",
       "2                              Minority Report (2002)  0.448508\n",
       "3                            Kill Bill: Vol. 1 (2003)  0.447533\n",
       "4                                        Shrek (2001)  0.445369\n",
       "5                               Ocean's Eleven (2001)  0.442993\n",
       "6       Lord of the Rings: The Two Towers, The (2002)  0.441848\n",
       "7                                  Matrix, The (1999)  0.428574\n",
       "8                              American Beauty (1999)  0.406792\n",
       "9   Lord of the Rings: The Fellowship of the Ring,...  0.391322\n",
       "10                                  Fight Club (1999)  0.371181"
      ]
     },
     "execution_count": 34,
     "metadata": {},
     "output_type": "execute_result"
    }
   ],
   "source": [
    "get_movie_recommendation('Memento')"
   ]
  },
  {
   "cell_type": "code",
   "execution_count": 35,
   "id": "f000cad4",
   "metadata": {},
   "outputs": [
    {
     "data": {
      "text/html": [
       "<div>\n",
       "<style scoped>\n",
       "    .dataframe tbody tr th:only-of-type {\n",
       "        vertical-align: middle;\n",
       "    }\n",
       "\n",
       "    .dataframe tbody tr th {\n",
       "        vertical-align: top;\n",
       "    }\n",
       "\n",
       "    .dataframe thead th {\n",
       "        text-align: right;\n",
       "    }\n",
       "</style>\n",
       "<table border=\"1\" class=\"dataframe\">\n",
       "  <thead>\n",
       "    <tr style=\"text-align: right;\">\n",
       "      <th></th>\n",
       "      <th>Title</th>\n",
       "      <th>Distance</th>\n",
       "    </tr>\n",
       "  </thead>\n",
       "  <tbody>\n",
       "    <tr>\n",
       "      <th>1</th>\n",
       "      <td>Princess Bride, The (1987)</td>\n",
       "      <td>0.353127</td>\n",
       "    </tr>\n",
       "    <tr>\n",
       "      <th>2</th>\n",
       "      <td>Alien (1979)</td>\n",
       "      <td>0.352235</td>\n",
       "    </tr>\n",
       "    <tr>\n",
       "      <th>3</th>\n",
       "      <td>Aliens (1986)</td>\n",
       "      <td>0.346268</td>\n",
       "    </tr>\n",
       "    <tr>\n",
       "      <th>4</th>\n",
       "      <td>Star Wars: Episode VI - Return of the Jedi (1983)</td>\n",
       "      <td>0.308050</td>\n",
       "    </tr>\n",
       "    <tr>\n",
       "      <th>5</th>\n",
       "      <td>Star Wars: Episode IV - A New Hope (1977)</td>\n",
       "      <td>0.307371</td>\n",
       "    </tr>\n",
       "    <tr>\n",
       "      <th>6</th>\n",
       "      <td>Back to the Future (1985)</td>\n",
       "      <td>0.305920</td>\n",
       "    </tr>\n",
       "    <tr>\n",
       "      <th>7</th>\n",
       "      <td>Die Hard (1988)</td>\n",
       "      <td>0.304762</td>\n",
       "    </tr>\n",
       "    <tr>\n",
       "      <th>8</th>\n",
       "      <td>Terminator, The (1984)</td>\n",
       "      <td>0.292446</td>\n",
       "    </tr>\n",
       "    <tr>\n",
       "      <th>9</th>\n",
       "      <td>Star Wars: Episode V - The Empire Strikes Back...</td>\n",
       "      <td>0.229621</td>\n",
       "    </tr>\n",
       "    <tr>\n",
       "      <th>10</th>\n",
       "      <td>Indiana Jones and the Last Crusade (1989)</td>\n",
       "      <td>0.177639</td>\n",
       "    </tr>\n",
       "  </tbody>\n",
       "</table>\n",
       "</div>"
      ],
      "text/plain": [
       "                                                Title  Distance\n",
       "1                          Princess Bride, The (1987)  0.353127\n",
       "2                                        Alien (1979)  0.352235\n",
       "3                                       Aliens (1986)  0.346268\n",
       "4   Star Wars: Episode VI - Return of the Jedi (1983)  0.308050\n",
       "5           Star Wars: Episode IV - A New Hope (1977)  0.307371\n",
       "6                           Back to the Future (1985)  0.305920\n",
       "7                                     Die Hard (1988)  0.304762\n",
       "8                              Terminator, The (1984)  0.292446\n",
       "9   Star Wars: Episode V - The Empire Strikes Back...  0.229621\n",
       "10          Indiana Jones and the Last Crusade (1989)  0.177639"
      ]
     },
     "execution_count": 35,
     "metadata": {},
     "output_type": "execute_result"
    }
   ],
   "source": [
    "get_movie_recommendation('Indiana Jones')"
   ]
  },
  {
   "cell_type": "code",
   "execution_count": 36,
   "id": "69f115c2",
   "metadata": {},
   "outputs": [
    {
     "data": {
      "text/html": [
       "<div>\n",
       "<style scoped>\n",
       "    .dataframe tbody tr th:only-of-type {\n",
       "        vertical-align: middle;\n",
       "    }\n",
       "\n",
       "    .dataframe tbody tr th {\n",
       "        vertical-align: top;\n",
       "    }\n",
       "\n",
       "    .dataframe thead th {\n",
       "        text-align: right;\n",
       "    }\n",
       "</style>\n",
       "<table border=\"1\" class=\"dataframe\">\n",
       "  <thead>\n",
       "    <tr style=\"text-align: right;\">\n",
       "      <th></th>\n",
       "      <th>Title</th>\n",
       "      <th>Distance</th>\n",
       "    </tr>\n",
       "  </thead>\n",
       "  <tbody>\n",
       "    <tr>\n",
       "      <th>1</th>\n",
       "      <td>Memento (2000)</td>\n",
       "      <td>0.547901</td>\n",
       "    </tr>\n",
       "    <tr>\n",
       "      <th>2</th>\n",
       "      <td>X-Men (2000)</td>\n",
       "      <td>0.546155</td>\n",
       "    </tr>\n",
       "    <tr>\n",
       "      <th>3</th>\n",
       "      <td>Monsters, Inc. (2001)</td>\n",
       "      <td>0.530922</td>\n",
       "    </tr>\n",
       "    <tr>\n",
       "      <th>4</th>\n",
       "      <td>Ocean's Eleven (2001)</td>\n",
       "      <td>0.513965</td>\n",
       "    </tr>\n",
       "    <tr>\n",
       "      <th>5</th>\n",
       "      <td>Lord of the Rings: The Fellowship of the Ring,...</td>\n",
       "      <td>0.502386</td>\n",
       "    </tr>\n",
       "    <tr>\n",
       "      <th>6</th>\n",
       "      <td>Shrek (2001)</td>\n",
       "      <td>0.502213</td>\n",
       "    </tr>\n",
       "    <tr>\n",
       "      <th>7</th>\n",
       "      <td>Spider-Man (2002)</td>\n",
       "      <td>0.481032</td>\n",
       "    </tr>\n",
       "    <tr>\n",
       "      <th>8</th>\n",
       "      <td>Harry Potter and the Goblet of Fire (2005)</td>\n",
       "      <td>0.473564</td>\n",
       "    </tr>\n",
       "    <tr>\n",
       "      <th>9</th>\n",
       "      <td>Harry Potter and the Prisoner of Azkaban (2004)</td>\n",
       "      <td>0.367667</td>\n",
       "    </tr>\n",
       "    <tr>\n",
       "      <th>10</th>\n",
       "      <td>Harry Potter and the Chamber of Secrets (2002)</td>\n",
       "      <td>0.332917</td>\n",
       "    </tr>\n",
       "  </tbody>\n",
       "</table>\n",
       "</div>"
      ],
      "text/plain": [
       "                                                Title  Distance\n",
       "1                                      Memento (2000)  0.547901\n",
       "2                                        X-Men (2000)  0.546155\n",
       "3                               Monsters, Inc. (2001)  0.530922\n",
       "4                               Ocean's Eleven (2001)  0.513965\n",
       "5   Lord of the Rings: The Fellowship of the Ring,...  0.502386\n",
       "6                                        Shrek (2001)  0.502213\n",
       "7                                   Spider-Man (2002)  0.481032\n",
       "8          Harry Potter and the Goblet of Fire (2005)  0.473564\n",
       "9     Harry Potter and the Prisoner of Azkaban (2004)  0.367667\n",
       "10     Harry Potter and the Chamber of Secrets (2002)  0.332917"
      ]
     },
     "execution_count": 36,
     "metadata": {},
     "output_type": "execute_result"
    }
   ],
   "source": [
    "get_movie_recommendation('Harry Potter')"
   ]
  },
  {
   "cell_type": "markdown",
   "id": "72d4c63e",
   "metadata": {},
   "source": [
    "# Content Based Recommendation System"
   ]
  },
  {
   "cell_type": "markdown",
   "id": "556d361b",
   "metadata": {},
   "source": [
    "The Content-Based Recommender relies on the similarity of the items being recommended. The concepts of Term Frequency (TF) and Inverse Document Frequency (IDF) are used here. We will build a Content-Based Recommendation Engine that computes similarity between movies based on movie genres. It will suggest movies that are most similar to a particular movie based on its genre."
   ]
  },
  {
   "cell_type": "markdown",
   "id": "1ce24b2f",
   "metadata": {},
   "source": [
    "We do not have a quantitative metric to judge the machine’s performance so this will have to be done qualitatively. In order to do so, we will use TfidfVectorizer function from scikit-learn, which transforms text to feature vectors that can be used as input to estimator. This can be understood as Pre-processing the data. "
   ]
  },
  {
   "cell_type": "markdown",
   "id": "fe205ed9",
   "metadata": {},
   "source": [
    "#### Cosine Similiarity"
   ]
  },
  {
   "cell_type": "markdown",
   "id": "149f87e2",
   "metadata": {},
   "source": [
    "This metric is used for computing the similiarity textual data.In this recommendation system,convert the textual data in the form of vectors and check for cosine angle between these two vectors, if the angle between the two vectors is 0.It means they are similar or else they are not. Most used similarity measures when we talk about the similarity between any textual content."
   ]
  },
  {
   "cell_type": "markdown",
   "id": "11ed870f",
   "metadata": {},
   "source": [
    "#### TFIDF vectorizer"
   ]
  },
  {
   "cell_type": "markdown",
   "id": "7701ac0d",
   "metadata": {},
   "source": [
    "TFIDF is used for evaluating how relevant a word is to a document in a collection of documents statistically. this is done by\n",
    "how many times a word appears in a document, and the inverse document frequency of the word across a set of documents.\n",
    "\n",
    "\n",
    "TF=(Number of times term appears in a document) / (Total number of terms in the document)\n",
    "\n",
    "IDF=log_e(Total number of documents / Number of documents with term in it)"
   ]
  },
  {
   "cell_type": "code",
   "execution_count": 37,
   "id": "28b4bb4d",
   "metadata": {},
   "outputs": [],
   "source": [
    "from sklearn.feature_extraction.text import TfidfVectorizer"
   ]
  },
  {
   "cell_type": "code",
   "execution_count": 38,
   "id": "c2740fa9",
   "metadata": {},
   "outputs": [],
   "source": [
    "from sklearn.metrics.pairwise import linear_kernel,cosine_similarity"
   ]
  },
  {
   "cell_type": "code",
   "execution_count": 39,
   "id": "86a1b365",
   "metadata": {},
   "outputs": [],
   "source": [
    "tf = TfidfVectorizer(analyzer='word', ngram_range=(1, 3), min_df=0, stop_words='english')"
   ]
  },
  {
   "cell_type": "code",
   "execution_count": 40,
   "id": "56dff3bb",
   "metadata": {},
   "outputs": [],
   "source": [
    "matrix=tf.fit_transform(movies['genres'])"
   ]
  },
  {
   "cell_type": "code",
   "execution_count": 41,
   "id": "c661c7fc",
   "metadata": {},
   "outputs": [],
   "source": [
    "cosine_similarities = cosine_similarity(matrix,matrix)"
   ]
  },
  {
   "cell_type": "code",
   "execution_count": 42,
   "id": "a5d35e33",
   "metadata": {},
   "outputs": [],
   "source": [
    "movie_title=data['title']"
   ]
  },
  {
   "cell_type": "code",
   "execution_count": 43,
   "id": "553829b5",
   "metadata": {},
   "outputs": [
    {
     "data": {
      "text/plain": [
       "0                                Casino (1995)\n",
       "1                                Powder (1995)\n",
       "2    Twelve Monkeys (a.k.a. 12 Monkeys) (1995)\n",
       "3                  Seven (a.k.a. Se7en) (1995)\n",
       "4                   Usual Suspects, The (1995)\n",
       "Name: title, dtype: object"
      ]
     },
     "execution_count": 43,
     "metadata": {},
     "output_type": "execute_result"
    }
   ],
   "source": [
    "movie_title.head()"
   ]
  },
  {
   "cell_type": "code",
   "execution_count": 44,
   "id": "f75d593b",
   "metadata": {},
   "outputs": [
    {
     "data": {
      "text/html": [
       "<div>\n",
       "<style scoped>\n",
       "    .dataframe tbody tr th:only-of-type {\n",
       "        vertical-align: middle;\n",
       "    }\n",
       "\n",
       "    .dataframe tbody tr th {\n",
       "        vertical-align: top;\n",
       "    }\n",
       "\n",
       "    .dataframe thead th {\n",
       "        text-align: right;\n",
       "    }\n",
       "</style>\n",
       "<table border=\"1\" class=\"dataframe\">\n",
       "  <thead>\n",
       "    <tr style=\"text-align: right;\">\n",
       "      <th></th>\n",
       "      <th>movieId</th>\n",
       "      <th>title</th>\n",
       "      <th>genres</th>\n",
       "    </tr>\n",
       "  </thead>\n",
       "  <tbody>\n",
       "    <tr>\n",
       "      <th>0</th>\n",
       "      <td>1</td>\n",
       "      <td>Toy Story (1995)</td>\n",
       "      <td>Adventure|Animation|Children|Comedy|Fantasy</td>\n",
       "    </tr>\n",
       "    <tr>\n",
       "      <th>1</th>\n",
       "      <td>2</td>\n",
       "      <td>Jumanji (1995)</td>\n",
       "      <td>Adventure|Children|Fantasy</td>\n",
       "    </tr>\n",
       "    <tr>\n",
       "      <th>2</th>\n",
       "      <td>3</td>\n",
       "      <td>Grumpier Old Men (1995)</td>\n",
       "      <td>Comedy|Romance</td>\n",
       "    </tr>\n",
       "    <tr>\n",
       "      <th>3</th>\n",
       "      <td>4</td>\n",
       "      <td>Waiting to Exhale (1995)</td>\n",
       "      <td>Comedy|Drama|Romance</td>\n",
       "    </tr>\n",
       "    <tr>\n",
       "      <th>4</th>\n",
       "      <td>5</td>\n",
       "      <td>Father of the Bride Part II (1995)</td>\n",
       "      <td>Comedy</td>\n",
       "    </tr>\n",
       "  </tbody>\n",
       "</table>\n",
       "</div>"
      ],
      "text/plain": [
       "   movieId                               title  \\\n",
       "0        1                    Toy Story (1995)   \n",
       "1        2                      Jumanji (1995)   \n",
       "2        3             Grumpier Old Men (1995)   \n",
       "3        4            Waiting to Exhale (1995)   \n",
       "4        5  Father of the Bride Part II (1995)   \n",
       "\n",
       "                                        genres  \n",
       "0  Adventure|Animation|Children|Comedy|Fantasy  \n",
       "1                   Adventure|Children|Fantasy  \n",
       "2                               Comedy|Romance  \n",
       "3                         Comedy|Drama|Romance  \n",
       "4                                       Comedy  "
      ]
     },
     "execution_count": 44,
     "metadata": {},
     "output_type": "execute_result"
    }
   ],
   "source": [
    "movies.head()"
   ]
  },
  {
   "cell_type": "code",
   "execution_count": 45,
   "id": "ac094c64",
   "metadata": {},
   "outputs": [],
   "source": [
    "indices = pd.Series(movies.index,index=movies['title'])"
   ]
  },
  {
   "cell_type": "code",
   "execution_count": 46,
   "id": "09939bec",
   "metadata": {
    "scrolled": true
   },
   "outputs": [
    {
     "data": {
      "text/plain": [
       "title\n",
       "Toy Story (1995)                      0\n",
       "Jumanji (1995)                        1\n",
       "Grumpier Old Men (1995)               2\n",
       "Waiting to Exhale (1995)              3\n",
       "Father of the Bride Part II (1995)    4\n",
       "dtype: int64"
      ]
     },
     "execution_count": 46,
     "metadata": {},
     "output_type": "execute_result"
    }
   ],
   "source": [
    "indices.head()"
   ]
  },
  {
   "cell_type": "code",
   "execution_count": 47,
   "id": "0dc8df40",
   "metadata": {},
   "outputs": [],
   "source": [
    "def genre_recommendations(title):\n",
    "    idx = indices[title]\n",
    "    sim_scores = list(enumerate(cosine_similarities[idx]))\n",
    "    sim_scores = sorted(sim_scores, key=lambda x: x[1], reverse=True)\n",
    "    sim_scores = sim_scores[1:21]\n",
    "    movie_indices = [i[0] for i in sim_scores]\n",
    "    return movie_title.iloc[movie_indices]  "
   ]
  },
  {
   "cell_type": "code",
   "execution_count": 48,
   "id": "86a1079a",
   "metadata": {},
   "outputs": [
    {
     "data": {
      "text/plain": [
       "745                                      Crow, The (1994)\n",
       "827                              Dog Day Afternoon (1975)\n",
       "1064                                Temptress, The (1926)\n",
       "2756          Seven Samurai (Shichinin no samurai) (1954)\n",
       "3424                                       Jumanji (1995)\n",
       "5383                             Dolores Claiborne (1995)\n",
       "5701                                        Ransom (1996)\n",
       "9843                                 About Schmidt (2002)\n",
       "7338    National Lampoon's Van Wilder: The Rise of Taj...\n",
       "1369        Lord of the Rings: The Two Towers, The (2002)\n",
       "Name: title, dtype: object"
      ]
     },
     "execution_count": 48,
     "metadata": {},
     "output_type": "execute_result"
    }
   ],
   "source": [
    "genre_recommendations('2001: A Space Odyssey (1968)').head(10)"
   ]
  },
  {
   "cell_type": "code",
   "execution_count": 49,
   "id": "519a5e1a",
   "metadata": {},
   "outputs": [
    {
     "data": {
      "text/plain": [
       "29                                          Fargo (1996)\n",
       "35                                 Godfather, The (1972)\n",
       "89     Lord of the Rings: The Fellowship of the Ring,...\n",
       "105                              Land of the Dead (2005)\n",
       "215    Shanghai Triad (Yao a yao yao dao waipo qiao) ...\n",
       "217                                   Taxi Driver (1976)\n",
       "237                                    Casablanca (1942)\n",
       "252                              Crying Game, The (1992)\n",
       "255                      Sex, Lies, and Videotape (1989)\n",
       "279                                    Birds, The (1963)\n",
       "Name: title, dtype: object"
      ]
     },
     "execution_count": 49,
     "metadata": {},
     "output_type": "execute_result"
    }
   ],
   "source": [
    "genre_recommendations('Casino (1995)').head(10)"
   ]
  },
  {
   "cell_type": "code",
   "execution_count": 50,
   "id": "5472897f",
   "metadata": {},
   "outputs": [
    {
     "data": {
      "text/plain": [
       "87                                 Shrek (2001)\n",
       "382     Importance of Being Earnest, The (2002)\n",
       "439                         Finding Nemo (2003)\n",
       "490            Silence of the Lambs, The (1991)\n",
       "619                 Terminator Salvation (2009)\n",
       "680                        Jerry Maguire (1996)\n",
       "802                               Batman (1989)\n",
       "1111                      Lion King, The (1994)\n",
       "1213                               Twins (1988)\n",
       "1249                      V for Vendetta (2006)\n",
       "Name: title, dtype: object"
      ]
     },
     "execution_count": 50,
     "metadata": {},
     "output_type": "execute_result"
    }
   ],
   "source": [
    "genre_recommendations('Casino Royale (2006)').head(10)"
   ]
  },
  {
   "cell_type": "code",
   "execution_count": 51,
   "id": "a0184979",
   "metadata": {},
   "outputs": [
    {
     "data": {
      "text/plain": [
       "1815                          Analyze That (2002)\n",
       "2496                   Room with a View, A (1986)\n",
       "2967                         All About Eve (1950)\n",
       "3166                       Rosemary's Baby (1968)\n",
       "3811                    Planet of the Apes (2001)\n",
       "6617                         Fugitive, The (1993)\n",
       "6997                             Slap Shot (1977)\n",
       "7382                         Evan Almighty (2007)\n",
       "7987                              Trekkies (1997)\n",
       "9215    Indiana Jones and the Last Crusade (1989)\n",
       "Name: title, dtype: object"
      ]
     },
     "execution_count": 51,
     "metadata": {},
     "output_type": "execute_result"
    }
   ],
   "source": [
    "genre_recommendations('Toy Story (1995)').head(10)"
   ]
  },
  {
   "cell_type": "code",
   "execution_count": 52,
   "id": "b758fadb",
   "metadata": {},
   "outputs": [
    {
     "data": {
      "text/html": [
       "<div>\n",
       "<style scoped>\n",
       "    .dataframe tbody tr th:only-of-type {\n",
       "        vertical-align: middle;\n",
       "    }\n",
       "\n",
       "    .dataframe tbody tr th {\n",
       "        vertical-align: top;\n",
       "    }\n",
       "\n",
       "    .dataframe thead th {\n",
       "        text-align: right;\n",
       "    }\n",
       "</style>\n",
       "<table border=\"1\" class=\"dataframe\">\n",
       "  <thead>\n",
       "    <tr style=\"text-align: right;\">\n",
       "      <th></th>\n",
       "      <th>userId</th>\n",
       "      <th>movieId</th>\n",
       "      <th>rating</th>\n",
       "      <th>timestamp</th>\n",
       "    </tr>\n",
       "  </thead>\n",
       "  <tbody>\n",
       "    <tr>\n",
       "      <th>0</th>\n",
       "      <td>1</td>\n",
       "      <td>16</td>\n",
       "      <td>4.0</td>\n",
       "      <td>1217897793</td>\n",
       "    </tr>\n",
       "    <tr>\n",
       "      <th>1</th>\n",
       "      <td>1</td>\n",
       "      <td>24</td>\n",
       "      <td>1.5</td>\n",
       "      <td>1217895807</td>\n",
       "    </tr>\n",
       "    <tr>\n",
       "      <th>2</th>\n",
       "      <td>1</td>\n",
       "      <td>32</td>\n",
       "      <td>4.0</td>\n",
       "      <td>1217896246</td>\n",
       "    </tr>\n",
       "    <tr>\n",
       "      <th>3</th>\n",
       "      <td>1</td>\n",
       "      <td>47</td>\n",
       "      <td>4.0</td>\n",
       "      <td>1217896556</td>\n",
       "    </tr>\n",
       "    <tr>\n",
       "      <th>4</th>\n",
       "      <td>1</td>\n",
       "      <td>50</td>\n",
       "      <td>4.0</td>\n",
       "      <td>1217896523</td>\n",
       "    </tr>\n",
       "  </tbody>\n",
       "</table>\n",
       "</div>"
      ],
      "text/plain": [
       "   userId  movieId  rating   timestamp\n",
       "0       1       16     4.0  1217897793\n",
       "1       1       24     1.5  1217895807\n",
       "2       1       32     4.0  1217896246\n",
       "3       1       47     4.0  1217896556\n",
       "4       1       50     4.0  1217896523"
      ]
     },
     "execution_count": 52,
     "metadata": {},
     "output_type": "execute_result"
    }
   ],
   "source": [
    "ratings.head()"
   ]
  },
  {
   "cell_type": "code",
   "execution_count": 53,
   "id": "c5b56b2d",
   "metadata": {},
   "outputs": [],
   "source": [
    "new_ratings=ratings.drop(columns='timestamp')"
   ]
  },
  {
   "cell_type": "code",
   "execution_count": 54,
   "id": "9de8b535",
   "metadata": {},
   "outputs": [],
   "source": [
    "new_ratings['rating']=new_ratings['rating'].astype(int)"
   ]
  },
  {
   "cell_type": "code",
   "execution_count": 55,
   "id": "eb18f6d4",
   "metadata": {},
   "outputs": [],
   "source": [
    "from sklearn.model_selection import train_test_split"
   ]
  },
  {
   "cell_type": "code",
   "execution_count": 56,
   "id": "2e2cb225",
   "metadata": {},
   "outputs": [],
   "source": [
    "train_data,test_data=train_test_split(new_ratings,test_size=0.2)"
   ]
  },
  {
   "cell_type": "code",
   "execution_count": 57,
   "id": "09e5ef5c",
   "metadata": {},
   "outputs": [],
   "source": [
    "train_data_matrix=train_data.to_numpy()"
   ]
  },
  {
   "cell_type": "code",
   "execution_count": 58,
   "id": "d56a1aca",
   "metadata": {},
   "outputs": [],
   "source": [
    "test_data_matrix=test_data.to_numpy()"
   ]
  },
  {
   "cell_type": "code",
   "execution_count": 59,
   "id": "7f601627",
   "metadata": {},
   "outputs": [
    {
     "data": {
      "text/plain": [
       "((84271, 3), (21068, 3))"
      ]
     },
     "execution_count": 59,
     "metadata": {},
     "output_type": "execute_result"
    }
   ],
   "source": [
    "train_data_matrix.shape,test_data_matrix.shape"
   ]
  },
  {
   "cell_type": "markdown",
   "id": "c4c155fd",
   "metadata": {},
   "source": [
    "There are 2 main types of memory-based collaborative filtering algorithms:\n",
    "​\n",
    "#### User-User Collaborative Filtering:\n",
    "Here we find look alike users based on similarity and recommend movies which first user’s look-alike has chosen in past. This algorithm is very effective but takes a lot of time and resources. It requires to compute every user pair information which takes time. Therefore, for big base platforms, this algorithm is hard to implement without a very strong parallelizable system.\n",
    "​\n",
    "#### Item-Item Collaborative Filtering: \n",
    "It is quite similar to previous algorithm, but instead of finding user’s look-alike, we try finding movie’s look-alike. Once we have movie’s look-alike matrix, we can easily recommend alike movies to user who have rated any movie from the dataset. This algorithm is far less resource consuming than user-user collaborative filtering. Hence, for a new user, the algorithm takes far lesser time than user-user collaborate as we don’t need all similarity scores between users. And with fixed number of movies, movie-movie look alike matrix is fixed over time."
   ]
  },
  {
   "cell_type": "code",
   "execution_count": 60,
   "id": "4015d454",
   "metadata": {},
   "outputs": [],
   "source": [
    "from sklearn.metrics.pairwise import pairwise_distances"
   ]
  },
  {
   "cell_type": "code",
   "execution_count": 61,
   "id": "4f282e1b",
   "metadata": {},
   "outputs": [],
   "source": [
    "x=pairwise_distances(train_data_matrix.T,metric='correlation')"
   ]
  },
  {
   "cell_type": "code",
   "execution_count": 62,
   "id": "7f53b1e0",
   "metadata": {},
   "outputs": [],
   "source": [
    "y=pairwise_distances(test_data_matrix.T,metric='correlation')"
   ]
  },
  {
   "cell_type": "code",
   "execution_count": 63,
   "id": "466c7ca0",
   "metadata": {},
   "outputs": [
    {
     "name": "stdout",
     "output_type": "stream",
     "text": [
      "[[ 1.          0.08636164 -0.04274022]\n",
      " [ 0.08636164  1.         -0.05939763]\n",
      " [-0.04274022 -0.05939763  1.        ]]\n"
     ]
    }
   ],
   "source": [
    "item_correlation=1-x\n",
    "item_correlation[np.isnan(item_correlation)]=0\n",
    "print(item_correlation[:4,:4])"
   ]
  },
  {
   "cell_type": "code",
   "execution_count": 64,
   "id": "77dd9cce",
   "metadata": {},
   "outputs": [],
   "source": [
    "def predict(ratings,similiarity,type='user'):\n",
    "    if type=='user':\n",
    "        mean_user_rating=ratings.mean(axis=1)\n",
    "        ratings_diff=ratings-mean_user_rating[:,np.newaxis]\n",
    "        pred = mean_user_rating[:, np.newaxis] + similiarity.dot(ratings_diff) / np.array([np.abs(similiarity).sum(axis=1)]).T\n",
    "    elif type=='item':\n",
    "        pred = ratings.dot(similiarity) / np.array([np.abs(similiarity).sum(axis=1)])\n",
    "    return pred"
   ]
  },
  {
   "cell_type": "code",
   "execution_count": 65,
   "id": "424b763d",
   "metadata": {},
   "outputs": [],
   "source": [
    "from sklearn.metrics import mean_squared_error"
   ]
  },
  {
   "cell_type": "code",
   "execution_count": 66,
   "id": "d4564757",
   "metadata": {},
   "outputs": [],
   "source": [
    "def rmse(actual,pred):\n",
    "    pred = pred[actual.nonzero()].flatten()\n",
    "    actual = actual[actual.nonzero()].flatten()\n",
    "    rmse=np.sqrt(mean_squared_error(actual,pred))\n",
    "    return rmse"
   ]
  },
  {
   "cell_type": "code",
   "execution_count": 67,
   "id": "7d7aaf3b",
   "metadata": {},
   "outputs": [],
   "source": [
    "item_prediction=predict(train_data_matrix,item_correlation,type='item')"
   ]
  },
  {
   "cell_type": "code",
   "execution_count": 68,
   "id": "ce7bf768",
   "metadata": {},
   "outputs": [
    {
     "data": {
      "text/plain": [
       "array([[ 713.51524887, 1803.52227323, -130.21951339],\n",
       "       [ 542.36642225,  563.12988756,  -50.30010626],\n",
       "       [ 859.28844929, 4941.44568711, -318.96526723],\n",
       "       ...,\n",
       "       [ 660.14692977, 2619.2933295 , -174.84228423],\n",
       "       [ 417.15288598, 1230.76613345,  -84.39351689],\n",
       "       [ 921.67990333, 5754.07449195, -367.89851977]])"
      ]
     },
     "execution_count": 68,
     "metadata": {},
     "output_type": "execute_result"
    }
   ],
   "source": [
    "item_prediction"
   ]
  },
  {
   "cell_type": "code",
   "execution_count": 69,
   "id": "cd26ab3a",
   "metadata": {},
   "outputs": [
    {
     "name": "stdout",
     "output_type": "stream",
     "text": [
      "Item-based CF RMSE:  2677.043479416915\n"
     ]
    }
   ],
   "source": [
    "print('Item-based CF RMSE: ',str(rmse(train_data_matrix,item_prediction)))"
   ]
  },
  {
   "cell_type": "code",
   "execution_count": 70,
   "id": "a08ea406",
   "metadata": {},
   "outputs": [
    {
     "name": "stdout",
     "output_type": "stream",
     "text": [
      "Item-based CF RMSE:  20129.812347589865\n"
     ]
    }
   ],
   "source": [
    "print('Item-based CF RMSE: ',str(rmse(test_data_matrix,item_prediction)))"
   ]
  },
  {
   "cell_type": "markdown",
   "id": "b784df85",
   "metadata": {},
   "source": [
    "RMSE of training of model is a metric which measure how much the signal and the noise is explained by the model. I noticed that my RMSE is quite big. I suppose I might have overfitted the training data.Overall, Memory-based Collaborative Filtering is easy to implement and produce reasonable prediction quality. "
   ]
  },
  {
   "cell_type": "markdown",
   "id": "47c272a7",
   "metadata": {},
   "source": [
    "However, there are some drawback of this approach:\n",
    "\n",
    "#### It doesn't address the well-known cold-start problem, that is when new user or new item enters the system.\n",
    "#### It can't deal with sparse data, meaning it's hard to find users that have rated the same items.\n",
    "#### It suffers when new users or items that don't have any ratings enter the system.\n",
    "#### It tends to recommend popular items."
   ]
  },
  {
   "cell_type": "markdown",
   "id": "459a3ca9",
   "metadata": {},
   "source": [
    "##  4. Model-based collaborative filtering using Matrix factorization and Dimensionality reduction:"
   ]
  },
  {
   "cell_type": "code",
   "execution_count": 71,
   "id": "57db5f03",
   "metadata": {},
   "outputs": [],
   "source": [
    "rating_2=pd.pivot_table(data=ratings,index='userId',columns='movieId',values='rating').fillna(0)"
   ]
  },
  {
   "cell_type": "code",
   "execution_count": 72,
   "id": "005f1f1b",
   "metadata": {},
   "outputs": [
    {
     "data": {
      "text/html": [
       "<div>\n",
       "<style scoped>\n",
       "    .dataframe tbody tr th:only-of-type {\n",
       "        vertical-align: middle;\n",
       "    }\n",
       "\n",
       "    .dataframe tbody tr th {\n",
       "        vertical-align: top;\n",
       "    }\n",
       "\n",
       "    .dataframe thead th {\n",
       "        text-align: right;\n",
       "    }\n",
       "</style>\n",
       "<table border=\"1\" class=\"dataframe\">\n",
       "  <thead>\n",
       "    <tr style=\"text-align: right;\">\n",
       "      <th>movieId</th>\n",
       "      <th>1</th>\n",
       "      <th>2</th>\n",
       "      <th>3</th>\n",
       "      <th>4</th>\n",
       "      <th>5</th>\n",
       "      <th>6</th>\n",
       "      <th>7</th>\n",
       "      <th>8</th>\n",
       "      <th>9</th>\n",
       "      <th>10</th>\n",
       "      <th>...</th>\n",
       "      <th>144482</th>\n",
       "      <th>144656</th>\n",
       "      <th>144976</th>\n",
       "      <th>146344</th>\n",
       "      <th>146656</th>\n",
       "      <th>146684</th>\n",
       "      <th>146878</th>\n",
       "      <th>148238</th>\n",
       "      <th>148626</th>\n",
       "      <th>149532</th>\n",
       "    </tr>\n",
       "    <tr>\n",
       "      <th>userId</th>\n",
       "      <th></th>\n",
       "      <th></th>\n",
       "      <th></th>\n",
       "      <th></th>\n",
       "      <th></th>\n",
       "      <th></th>\n",
       "      <th></th>\n",
       "      <th></th>\n",
       "      <th></th>\n",
       "      <th></th>\n",
       "      <th></th>\n",
       "      <th></th>\n",
       "      <th></th>\n",
       "      <th></th>\n",
       "      <th></th>\n",
       "      <th></th>\n",
       "      <th></th>\n",
       "      <th></th>\n",
       "      <th></th>\n",
       "      <th></th>\n",
       "      <th></th>\n",
       "    </tr>\n",
       "  </thead>\n",
       "  <tbody>\n",
       "    <tr>\n",
       "      <th>1</th>\n",
       "      <td>0.0</td>\n",
       "      <td>0.0</td>\n",
       "      <td>0.0</td>\n",
       "      <td>0.0</td>\n",
       "      <td>0.0</td>\n",
       "      <td>0.0</td>\n",
       "      <td>0.0</td>\n",
       "      <td>0.0</td>\n",
       "      <td>0.0</td>\n",
       "      <td>0.0</td>\n",
       "      <td>...</td>\n",
       "      <td>0.0</td>\n",
       "      <td>0.0</td>\n",
       "      <td>0.0</td>\n",
       "      <td>0.0</td>\n",
       "      <td>0.0</td>\n",
       "      <td>0.0</td>\n",
       "      <td>0.0</td>\n",
       "      <td>0.0</td>\n",
       "      <td>0.0</td>\n",
       "      <td>0.0</td>\n",
       "    </tr>\n",
       "    <tr>\n",
       "      <th>2</th>\n",
       "      <td>5.0</td>\n",
       "      <td>0.0</td>\n",
       "      <td>2.0</td>\n",
       "      <td>0.0</td>\n",
       "      <td>3.0</td>\n",
       "      <td>0.0</td>\n",
       "      <td>0.0</td>\n",
       "      <td>0.0</td>\n",
       "      <td>0.0</td>\n",
       "      <td>0.0</td>\n",
       "      <td>...</td>\n",
       "      <td>0.0</td>\n",
       "      <td>0.0</td>\n",
       "      <td>0.0</td>\n",
       "      <td>0.0</td>\n",
       "      <td>0.0</td>\n",
       "      <td>0.0</td>\n",
       "      <td>0.0</td>\n",
       "      <td>0.0</td>\n",
       "      <td>0.0</td>\n",
       "      <td>0.0</td>\n",
       "    </tr>\n",
       "    <tr>\n",
       "      <th>3</th>\n",
       "      <td>0.0</td>\n",
       "      <td>0.0</td>\n",
       "      <td>0.0</td>\n",
       "      <td>0.0</td>\n",
       "      <td>3.0</td>\n",
       "      <td>0.0</td>\n",
       "      <td>3.0</td>\n",
       "      <td>0.0</td>\n",
       "      <td>0.0</td>\n",
       "      <td>0.0</td>\n",
       "      <td>...</td>\n",
       "      <td>0.0</td>\n",
       "      <td>0.0</td>\n",
       "      <td>0.0</td>\n",
       "      <td>0.0</td>\n",
       "      <td>0.0</td>\n",
       "      <td>0.0</td>\n",
       "      <td>0.0</td>\n",
       "      <td>0.0</td>\n",
       "      <td>0.0</td>\n",
       "      <td>0.0</td>\n",
       "    </tr>\n",
       "    <tr>\n",
       "      <th>4</th>\n",
       "      <td>0.0</td>\n",
       "      <td>0.0</td>\n",
       "      <td>0.0</td>\n",
       "      <td>0.0</td>\n",
       "      <td>0.0</td>\n",
       "      <td>0.0</td>\n",
       "      <td>0.0</td>\n",
       "      <td>0.0</td>\n",
       "      <td>0.0</td>\n",
       "      <td>0.0</td>\n",
       "      <td>...</td>\n",
       "      <td>0.0</td>\n",
       "      <td>0.0</td>\n",
       "      <td>0.0</td>\n",
       "      <td>0.0</td>\n",
       "      <td>0.0</td>\n",
       "      <td>0.0</td>\n",
       "      <td>0.0</td>\n",
       "      <td>0.0</td>\n",
       "      <td>0.0</td>\n",
       "      <td>0.0</td>\n",
       "    </tr>\n",
       "    <tr>\n",
       "      <th>5</th>\n",
       "      <td>4.0</td>\n",
       "      <td>0.0</td>\n",
       "      <td>0.0</td>\n",
       "      <td>0.0</td>\n",
       "      <td>0.0</td>\n",
       "      <td>0.0</td>\n",
       "      <td>0.0</td>\n",
       "      <td>0.0</td>\n",
       "      <td>0.0</td>\n",
       "      <td>0.0</td>\n",
       "      <td>...</td>\n",
       "      <td>0.0</td>\n",
       "      <td>0.0</td>\n",
       "      <td>0.0</td>\n",
       "      <td>0.0</td>\n",
       "      <td>0.0</td>\n",
       "      <td>0.0</td>\n",
       "      <td>0.0</td>\n",
       "      <td>0.0</td>\n",
       "      <td>0.0</td>\n",
       "      <td>0.0</td>\n",
       "    </tr>\n",
       "  </tbody>\n",
       "</table>\n",
       "<p>5 rows × 10325 columns</p>\n",
       "</div>"
      ],
      "text/plain": [
       "movieId  1       2       3       4       5       6       7       8       \\\n",
       "userId                                                                    \n",
       "1           0.0     0.0     0.0     0.0     0.0     0.0     0.0     0.0   \n",
       "2           5.0     0.0     2.0     0.0     3.0     0.0     0.0     0.0   \n",
       "3           0.0     0.0     0.0     0.0     3.0     0.0     3.0     0.0   \n",
       "4           0.0     0.0     0.0     0.0     0.0     0.0     0.0     0.0   \n",
       "5           4.0     0.0     0.0     0.0     0.0     0.0     0.0     0.0   \n",
       "\n",
       "movieId  9       10      ...  144482  144656  144976  146344  146656  146684  \\\n",
       "userId                   ...                                                   \n",
       "1           0.0     0.0  ...     0.0     0.0     0.0     0.0     0.0     0.0   \n",
       "2           0.0     0.0  ...     0.0     0.0     0.0     0.0     0.0     0.0   \n",
       "3           0.0     0.0  ...     0.0     0.0     0.0     0.0     0.0     0.0   \n",
       "4           0.0     0.0  ...     0.0     0.0     0.0     0.0     0.0     0.0   \n",
       "5           0.0     0.0  ...     0.0     0.0     0.0     0.0     0.0     0.0   \n",
       "\n",
       "movieId  146878  148238  148626  149532  \n",
       "userId                                   \n",
       "1           0.0     0.0     0.0     0.0  \n",
       "2           0.0     0.0     0.0     0.0  \n",
       "3           0.0     0.0     0.0     0.0  \n",
       "4           0.0     0.0     0.0     0.0  \n",
       "5           0.0     0.0     0.0     0.0  \n",
       "\n",
       "[5 rows x 10325 columns]"
      ]
     },
     "execution_count": 72,
     "metadata": {},
     "output_type": "execute_result"
    }
   ],
   "source": [
    "rating_2.head()"
   ]
  },
  {
   "cell_type": "markdown",
   "id": "51a8a5af",
   "metadata": {},
   "source": [
    "let's count the number of unique users and movies."
   ]
  },
  {
   "cell_type": "code",
   "execution_count": 73,
   "id": "a5fb65f5",
   "metadata": {},
   "outputs": [],
   "source": [
    "user_ratings_mean=np.mean(rating_2.to_numpy(),axis=1)"
   ]
  },
  {
   "cell_type": "code",
   "execution_count": 74,
   "id": "3220b68d",
   "metadata": {},
   "outputs": [],
   "source": [
    "ratings_demanded=(rating_2.to_numpy())-(user_ratings_mean.reshape(-1,1))"
   ]
  },
  {
   "cell_type": "code",
   "execution_count": 75,
   "id": "330d2573",
   "metadata": {},
   "outputs": [
    {
     "name": "stdout",
     "output_type": "stream",
     "text": [
      "Number of users = 105339 | Number of movies = 105339\n"
     ]
    }
   ],
   "source": [
    "n_users=ratings['userId'].shape[0]\n",
    "n_movies=ratings['movieId'].shape[0]\n",
    "print ('Number of users = ' + str(n_users) + ' | Number of movies = ' + str(n_movies))"
   ]
  },
  {
   "cell_type": "markdown",
   "id": "e91c4e63",
   "metadata": {},
   "source": [
    "Now we want the format of my ratings matrix to be one row per user and one column per movie. To do so, we will pivot ratings to get that and call the new variable Ratings2 (with a capital *R)."
   ]
  },
  {
   "cell_type": "code",
   "execution_count": 76,
   "id": "4155171b",
   "metadata": {},
   "outputs": [
    {
     "name": "stdout",
     "output_type": "stream",
     "text": [
      "The sparsity level of MovieLens1M dataset is 100.0%\n"
     ]
    }
   ],
   "source": [
    "sparsity = round(1.0 - len(ratings) / float(n_users * n_movies), 3)\n",
    "print ('The sparsity level of MovieLens1M dataset is ' +  str(sparsity * 100) + '%')"
   ]
  },
  {
   "cell_type": "markdown",
   "id": "455f2b0b",
   "metadata": {},
   "source": [
    "Model-based Collaborative Filtering is based on matrix factorization (MF) which has received greater exposure, mainly as an unsupervised learning method for latent variable decomposition and dimensionality reduction. Matrix factorization is widely used for recommender systems where it can deal better with scalability and sparsity than Memory-based CF:\n",
    "\n",
    "The goal of MF is to learn the latent preferences of users and the latent attributes of items from known ratings (learn features that describe the characteristics of ratings) to then predict the unknown ratings through the dot product of the latent features of users and items.\n",
    "\n",
    "When you have a very sparse matrix, with a lot of dimensions, by doing matrix factorization, you can restructure the user-item matrix into low-rank structure, and you can represent the matrix by the multiplication of two low-rank matrices, where the rows contain the latent vector.\n",
    "\n",
    "You fit this matrix to approximate your original matrix, as closely as possible, by multiplying the low-rank matrices together, which fills in the entries missing in the original matrix."
   ]
  },
  {
   "cell_type": "markdown",
   "id": "7cf3b297",
   "metadata": {},
   "source": [
    "### Setting Up SVD"
   ]
  },
  {
   "cell_type": "markdown",
   "id": "9e195a73",
   "metadata": {},
   "source": [
    "Scipy and Numpy both have functions to do the singular value decomposition. I'm going to use the Scipy function svds because it let's me choose how many latent factors I want to use to approximate the original ratings matrix (instead of having to truncate it after)."
   ]
  },
  {
   "cell_type": "code",
   "execution_count": 77,
   "id": "6822c507",
   "metadata": {},
   "outputs": [],
   "source": [
    "from scipy.sparse.linalg import svds"
   ]
  },
  {
   "cell_type": "code",
   "execution_count": 78,
   "id": "5b293369",
   "metadata": {},
   "outputs": [],
   "source": [
    "u,sigma,vt=svds(ratings_demanded,k=50)"
   ]
  },
  {
   "cell_type": "code",
   "execution_count": 79,
   "id": "08383070",
   "metadata": {},
   "outputs": [
    {
     "data": {
      "text/plain": [
       "array([[-8.99150529e-03,  2.06688001e-02, -1.82787409e-02, ...,\n",
       "         1.33980545e-02, -8.91701031e-03, -4.34594868e-02],\n",
       "       [ 7.02211897e-03,  8.52369117e-03, -2.06093463e-03, ...,\n",
       "         1.35483022e-02,  1.10831323e-02, -7.28917571e-03],\n",
       "       [ 7.60339840e-03, -2.16570667e-02, -1.48513521e-02, ...,\n",
       "         5.91162090e-02,  3.32692847e-02, -1.98287879e-02],\n",
       "       ...,\n",
       "       [-1.59964621e-02, -1.52558874e-03,  2.98470628e-02, ...,\n",
       "        -4.11685012e-02,  2.10758551e-02, -3.78406551e-02],\n",
       "       [-6.06185423e-03, -3.05389137e-03,  6.45705004e-03, ...,\n",
       "         1.88700152e-02, -4.57420244e-03, -2.51302781e-02],\n",
       "       [-2.00714910e-04, -1.65049393e-02, -1.31357315e-02, ...,\n",
       "        -3.65966498e-01,  3.21726441e-02, -9.29570839e-02]])"
      ]
     },
     "execution_count": 79,
     "metadata": {},
     "output_type": "execute_result"
    }
   ],
   "source": [
    "u"
   ]
  },
  {
   "cell_type": "code",
   "execution_count": 80,
   "id": "cd9700dd",
   "metadata": {},
   "outputs": [
    {
     "data": {
      "text/plain": [
       "array([ 67.75583954,  68.10174582,  68.41554944,  69.25742958,\n",
       "        69.71428633,  70.03822422,  70.63880278,  71.3519959 ,\n",
       "        72.01046605,  72.49217043,  72.71366588,  73.71441659,\n",
       "        74.03995873,  75.07874467,  75.63194166,  76.5179679 ,\n",
       "        78.3284683 ,  79.09658441,  80.14436134,  80.34678755,\n",
       "        81.33475947,  81.69045271,  83.31280447,  84.07340268,\n",
       "        85.46896657,  87.97453293,  88.13453246,  89.03316544,\n",
       "        89.69145949,  92.26863942,  93.32591813,  94.38335623,\n",
       "        95.68363396,  97.43909002, 100.31028998, 103.8285294 ,\n",
       "       106.91484618, 110.24997517, 113.42325271, 117.97764847,\n",
       "       120.30374869, 122.89039344, 130.06109202, 134.86435077,\n",
       "       143.52740449, 155.79132806, 163.28017959, 188.46765204,\n",
       "       229.09814764, 480.87123202])"
      ]
     },
     "execution_count": 80,
     "metadata": {},
     "output_type": "execute_result"
    }
   ],
   "source": [
    "sigma"
   ]
  },
  {
   "cell_type": "code",
   "execution_count": 81,
   "id": "8316bc94",
   "metadata": {},
   "outputs": [
    {
     "data": {
      "text/plain": [
       "array([[-1.02328482e-02,  4.48934821e-03,  5.01349447e-03, ...,\n",
       "        -1.01312524e-03,  2.52574324e-03, -1.24258501e-03],\n",
       "       [-9.77255054e-03,  2.85802295e-03,  2.42247054e-03, ...,\n",
       "        -1.75274343e-03,  5.70463009e-03, -2.41625509e-03],\n",
       "       [ 3.72650563e-02, -4.76742953e-03, -8.06559214e-03, ...,\n",
       "        -7.77121997e-04,  3.84524967e-03, -1.10388500e-03],\n",
       "       ...,\n",
       "       [ 3.87145998e-02,  3.75903769e-02,  2.60274369e-02, ...,\n",
       "         3.56085998e-03, -9.07085798e-03,  3.30080119e-03],\n",
       "       [ 1.81274869e-02, -8.06214340e-04,  1.35117605e-02, ...,\n",
       "         5.58976785e-05,  2.94962850e-04, -1.20500077e-04],\n",
       "       [-8.03164042e-02, -3.17056020e-02, -9.42407409e-03, ...,\n",
       "         4.40677960e-03,  2.13542969e-03,  4.26939746e-03]])"
      ]
     },
     "execution_count": 81,
     "metadata": {},
     "output_type": "execute_result"
    }
   ],
   "source": [
    "vt"
   ]
  },
  {
   "cell_type": "markdown",
   "id": "6d4a2f50",
   "metadata": {},
   "source": [
    "As I'm going to leverage matrix multiplication to get predictions, I'll convert the $\\Sigma$ (now are values) to the diagonal matrix form."
   ]
  },
  {
   "cell_type": "code",
   "execution_count": 82,
   "id": "32d2b708",
   "metadata": {},
   "outputs": [],
   "source": [
    "sigma=np.diag(sigma)"
   ]
  },
  {
   "cell_type": "markdown",
   "id": "aa229bfd",
   "metadata": {},
   "source": [
    "### Making Predictions from the Decomposed Matrices"
   ]
  },
  {
   "cell_type": "markdown",
   "id": "c4968db0",
   "metadata": {},
   "source": [
    "We now have everything I need to make movie ratings predictions for every user. We can do it all at once by following the math and matrix multiply $U$, $\\Sigma$, and $V^{T}$ back to get the rank $k=50$ approximation of $A$.\n",
    "\n",
    "But first, We need to add the user means back to get the actual star ratings prediction."
   ]
  },
  {
   "cell_type": "code",
   "execution_count": 83,
   "id": "0878b354",
   "metadata": {},
   "outputs": [],
   "source": [
    "all_user_predicted_ratings=np.dot(np.dot(u,sigma),vt)+user_ratings_mean.reshape(-1,1)"
   ]
  },
  {
   "cell_type": "markdown",
   "id": "8494eb75",
   "metadata": {},
   "source": [
    "With the predictions matrix for every user, We can build a function to recommend movies for any user. We return the list of movies the user has already rated, for the sake of comparison."
   ]
  },
  {
   "cell_type": "code",
   "execution_count": 84,
   "id": "fd8ade0d",
   "metadata": {},
   "outputs": [],
   "source": [
    "preds = pd.DataFrame(all_user_predicted_ratings, columns = rating_2.columns)"
   ]
  },
  {
   "cell_type": "code",
   "execution_count": 85,
   "id": "1982ce41",
   "metadata": {},
   "outputs": [
    {
     "data": {
      "text/html": [
       "<div>\n",
       "<style scoped>\n",
       "    .dataframe tbody tr th:only-of-type {\n",
       "        vertical-align: middle;\n",
       "    }\n",
       "\n",
       "    .dataframe tbody tr th {\n",
       "        vertical-align: top;\n",
       "    }\n",
       "\n",
       "    .dataframe thead th {\n",
       "        text-align: right;\n",
       "    }\n",
       "</style>\n",
       "<table border=\"1\" class=\"dataframe\">\n",
       "  <thead>\n",
       "    <tr style=\"text-align: right;\">\n",
       "      <th>movieId</th>\n",
       "      <th>1</th>\n",
       "      <th>2</th>\n",
       "      <th>3</th>\n",
       "      <th>4</th>\n",
       "      <th>5</th>\n",
       "      <th>6</th>\n",
       "      <th>7</th>\n",
       "      <th>8</th>\n",
       "      <th>9</th>\n",
       "      <th>10</th>\n",
       "      <th>...</th>\n",
       "      <th>144482</th>\n",
       "      <th>144656</th>\n",
       "      <th>144976</th>\n",
       "      <th>146344</th>\n",
       "      <th>146656</th>\n",
       "      <th>146684</th>\n",
       "      <th>146878</th>\n",
       "      <th>148238</th>\n",
       "      <th>148626</th>\n",
       "      <th>149532</th>\n",
       "    </tr>\n",
       "  </thead>\n",
       "  <tbody>\n",
       "    <tr>\n",
       "      <th>0</th>\n",
       "      <td>2.340908</td>\n",
       "      <td>0.116324</td>\n",
       "      <td>0.182888</td>\n",
       "      <td>-0.036764</td>\n",
       "      <td>0.063752</td>\n",
       "      <td>1.539780</td>\n",
       "      <td>0.101114</td>\n",
       "      <td>-0.025708</td>\n",
       "      <td>0.194963</td>\n",
       "      <td>0.992245</td>\n",
       "      <td>...</td>\n",
       "      <td>-0.014009</td>\n",
       "      <td>-0.023786</td>\n",
       "      <td>-0.005130</td>\n",
       "      <td>-0.010363</td>\n",
       "      <td>-0.048034</td>\n",
       "      <td>-0.036938</td>\n",
       "      <td>-0.020261</td>\n",
       "      <td>-0.019312</td>\n",
       "      <td>0.007349</td>\n",
       "      <td>-0.028260</td>\n",
       "    </tr>\n",
       "    <tr>\n",
       "      <th>1</th>\n",
       "      <td>3.151773</td>\n",
       "      <td>0.206667</td>\n",
       "      <td>1.666566</td>\n",
       "      <td>-0.077891</td>\n",
       "      <td>1.485149</td>\n",
       "      <td>1.730959</td>\n",
       "      <td>1.173952</td>\n",
       "      <td>0.023590</td>\n",
       "      <td>0.766577</td>\n",
       "      <td>-0.211013</td>\n",
       "      <td>...</td>\n",
       "      <td>-0.004981</td>\n",
       "      <td>-0.011264</td>\n",
       "      <td>-0.008696</td>\n",
       "      <td>-0.008589</td>\n",
       "      <td>-0.010318</td>\n",
       "      <td>0.017270</td>\n",
       "      <td>0.008911</td>\n",
       "      <td>-0.010372</td>\n",
       "      <td>-0.046182</td>\n",
       "      <td>-0.012156</td>\n",
       "    </tr>\n",
       "    <tr>\n",
       "      <th>2</th>\n",
       "      <td>0.991437</td>\n",
       "      <td>0.829049</td>\n",
       "      <td>0.553093</td>\n",
       "      <td>0.183691</td>\n",
       "      <td>0.576599</td>\n",
       "      <td>0.331009</td>\n",
       "      <td>0.773242</td>\n",
       "      <td>0.034812</td>\n",
       "      <td>0.014922</td>\n",
       "      <td>1.706305</td>\n",
       "      <td>...</td>\n",
       "      <td>0.002468</td>\n",
       "      <td>-0.001017</td>\n",
       "      <td>0.010078</td>\n",
       "      <td>-0.004328</td>\n",
       "      <td>0.012828</td>\n",
       "      <td>0.018177</td>\n",
       "      <td>0.008082</td>\n",
       "      <td>-0.002121</td>\n",
       "      <td>-0.041568</td>\n",
       "      <td>0.000087</td>\n",
       "    </tr>\n",
       "    <tr>\n",
       "      <th>3</th>\n",
       "      <td>0.619139</td>\n",
       "      <td>-0.217151</td>\n",
       "      <td>-0.238869</td>\n",
       "      <td>0.127655</td>\n",
       "      <td>-0.099769</td>\n",
       "      <td>0.117654</td>\n",
       "      <td>-0.102186</td>\n",
       "      <td>-0.058419</td>\n",
       "      <td>-0.008662</td>\n",
       "      <td>0.010188</td>\n",
       "      <td>...</td>\n",
       "      <td>0.014678</td>\n",
       "      <td>0.037013</td>\n",
       "      <td>-0.033948</td>\n",
       "      <td>0.015854</td>\n",
       "      <td>0.066009</td>\n",
       "      <td>-0.011781</td>\n",
       "      <td>-0.011998</td>\n",
       "      <td>0.029960</td>\n",
       "      <td>-0.044401</td>\n",
       "      <td>0.044066</td>\n",
       "    </tr>\n",
       "    <tr>\n",
       "      <th>4</th>\n",
       "      <td>1.636123</td>\n",
       "      <td>0.410191</td>\n",
       "      <td>0.087905</td>\n",
       "      <td>-0.022208</td>\n",
       "      <td>0.083438</td>\n",
       "      <td>-0.128785</td>\n",
       "      <td>-0.018924</td>\n",
       "      <td>0.016518</td>\n",
       "      <td>0.031642</td>\n",
       "      <td>0.311503</td>\n",
       "      <td>...</td>\n",
       "      <td>0.026540</td>\n",
       "      <td>-0.006282</td>\n",
       "      <td>0.001862</td>\n",
       "      <td>-0.000280</td>\n",
       "      <td>0.020807</td>\n",
       "      <td>0.030318</td>\n",
       "      <td>0.021845</td>\n",
       "      <td>-0.004282</td>\n",
       "      <td>0.008430</td>\n",
       "      <td>-0.008283</td>\n",
       "    </tr>\n",
       "  </tbody>\n",
       "</table>\n",
       "<p>5 rows × 10325 columns</p>\n",
       "</div>"
      ],
      "text/plain": [
       "movieId    1         2         3         4         5         6         7       \\\n",
       "0        2.340908  0.116324  0.182888 -0.036764  0.063752  1.539780  0.101114   \n",
       "1        3.151773  0.206667  1.666566 -0.077891  1.485149  1.730959  1.173952   \n",
       "2        0.991437  0.829049  0.553093  0.183691  0.576599  0.331009  0.773242   \n",
       "3        0.619139 -0.217151 -0.238869  0.127655 -0.099769  0.117654 -0.102186   \n",
       "4        1.636123  0.410191  0.087905 -0.022208  0.083438 -0.128785 -0.018924   \n",
       "\n",
       "movieId    8         9         10      ...    144482    144656    144976  \\\n",
       "0       -0.025708  0.194963  0.992245  ... -0.014009 -0.023786 -0.005130   \n",
       "1        0.023590  0.766577 -0.211013  ... -0.004981 -0.011264 -0.008696   \n",
       "2        0.034812  0.014922  1.706305  ...  0.002468 -0.001017  0.010078   \n",
       "3       -0.058419 -0.008662  0.010188  ...  0.014678  0.037013 -0.033948   \n",
       "4        0.016518  0.031642  0.311503  ...  0.026540 -0.006282  0.001862   \n",
       "\n",
       "movieId    146344    146656    146684    146878    148238    148626    149532  \n",
       "0       -0.010363 -0.048034 -0.036938 -0.020261 -0.019312  0.007349 -0.028260  \n",
       "1       -0.008589 -0.010318  0.017270  0.008911 -0.010372 -0.046182 -0.012156  \n",
       "2       -0.004328  0.012828  0.018177  0.008082 -0.002121 -0.041568  0.000087  \n",
       "3        0.015854  0.066009 -0.011781 -0.011998  0.029960 -0.044401  0.044066  \n",
       "4       -0.000280  0.020807  0.030318  0.021845 -0.004282  0.008430 -0.008283  \n",
       "\n",
       "[5 rows x 10325 columns]"
      ]
     },
     "execution_count": 85,
     "metadata": {},
     "output_type": "execute_result"
    }
   ],
   "source": [
    "preds.head()"
   ]
  },
  {
   "cell_type": "markdown",
   "id": "694450b5",
   "metadata": {},
   "source": [
    "Now we write a function to return the movies with the highest predicted rating that the specified user hasn't already rated. Though we didn't use any explicit movie content features (such as genre or title), we will merge in that information to get a more complete picture of the recommendations."
   ]
  },
  {
   "cell_type": "code",
   "execution_count": 86,
   "id": "cc645113",
   "metadata": {},
   "outputs": [],
   "source": [
    "def recommend_movies(predictions, userID, movies, original_ratings, num_recommendations):\n",
    "    \n",
    "    user_row_number = userID - 1 \n",
    "    sorted_user_predictions = preds.iloc[user_row_number].sort_values(ascending=False) \n",
    "    \n",
    "    user_data = original_ratings[original_ratings.userId == (userID)]\n",
    "    user_full = (user_data.merge(movies, how = 'left', left_on = 'movieId', right_on = 'movieId').\n",
    "                     sort_values(['rating'], ascending=False)\n",
    "                 )\n",
    "\n",
    "    print ('User {0} has already rated {1} movies.'.format(userID, user_full.shape[0]))\n",
    "    print ('Recommending highest {0} predicted ratings movies not already rated.'.format(num_recommendations))\n",
    "    \n",
    "    recommendations = (movies[~movies['movieId'].isin(user_full['movieId'])].\n",
    "         merge(pd.DataFrame(sorted_user_predictions).reset_index(), how = 'left',\n",
    "               left_on = 'movieId',\n",
    "               right_on = 'movieId').\n",
    "         rename(columns = {user_row_number: 'Predictions'}).\n",
    "         sort_values('Predictions', ascending = False).\n",
    "                       iloc[:num_recommendations, :-1]\n",
    "                      )\n",
    "\n",
    "    return user_full, recommendations"
   ]
  },
  {
   "cell_type": "markdown",
   "id": "d0f8b1b3",
   "metadata": {},
   "source": [
    "Let's try to recommend 20 movies for user with ID 5."
   ]
  },
  {
   "cell_type": "code",
   "execution_count": 87,
   "id": "a5196fc6",
   "metadata": {},
   "outputs": [
    {
     "name": "stdout",
     "output_type": "stream",
     "text": [
      "User 5 has already rated 68 movies.\n",
      "Recommending highest 20 predicted ratings movies not already rated.\n"
     ]
    }
   ],
   "source": [
    "already_rated, predictions = recommend_movies(preds, 5, movies, ratings, 20)"
   ]
  },
  {
   "cell_type": "code",
   "execution_count": 88,
   "id": "fc813836",
   "metadata": {},
   "outputs": [
    {
     "data": {
      "text/html": [
       "<div>\n",
       "<style scoped>\n",
       "    .dataframe tbody tr th:only-of-type {\n",
       "        vertical-align: middle;\n",
       "    }\n",
       "\n",
       "    .dataframe tbody tr th {\n",
       "        vertical-align: top;\n",
       "    }\n",
       "\n",
       "    .dataframe thead th {\n",
       "        text-align: right;\n",
       "    }\n",
       "</style>\n",
       "<table border=\"1\" class=\"dataframe\">\n",
       "  <thead>\n",
       "    <tr style=\"text-align: right;\">\n",
       "      <th></th>\n",
       "      <th>userId</th>\n",
       "      <th>movieId</th>\n",
       "      <th>rating</th>\n",
       "      <th>timestamp</th>\n",
       "      <th>title</th>\n",
       "      <th>genres</th>\n",
       "    </tr>\n",
       "  </thead>\n",
       "  <tbody>\n",
       "    <tr>\n",
       "      <th>67</th>\n",
       "      <td>5</td>\n",
       "      <td>81847</td>\n",
       "      <td>5.0</td>\n",
       "      <td>1303500307</td>\n",
       "      <td>Tangled (2010)</td>\n",
       "      <td>Animation|Children|Comedy|Fantasy|Musical|Roma...</td>\n",
       "    </tr>\n",
       "    <tr>\n",
       "      <th>62</th>\n",
       "      <td>5</td>\n",
       "      <td>68793</td>\n",
       "      <td>5.0</td>\n",
       "      <td>1303500362</td>\n",
       "      <td>Night at the Museum: Battle of the Smithsonian...</td>\n",
       "      <td>Action|Comedy|IMAX</td>\n",
       "    </tr>\n",
       "    <tr>\n",
       "      <th>43</th>\n",
       "      <td>5</td>\n",
       "      <td>5380</td>\n",
       "      <td>5.0</td>\n",
       "      <td>1303500762</td>\n",
       "      <td>Importance of Being Earnest, The (2002)</td>\n",
       "      <td>Comedy|Drama|Romance</td>\n",
       "    </tr>\n",
       "    <tr>\n",
       "      <th>27</th>\n",
       "      <td>5</td>\n",
       "      <td>2657</td>\n",
       "      <td>5.0</td>\n",
       "      <td>1303499758</td>\n",
       "      <td>Rocky Horror Picture Show, The (1975)</td>\n",
       "      <td>Comedy|Horror|Musical|Sci-Fi</td>\n",
       "    </tr>\n",
       "    <tr>\n",
       "      <th>60</th>\n",
       "      <td>5</td>\n",
       "      <td>63859</td>\n",
       "      <td>5.0</td>\n",
       "      <td>1303499888</td>\n",
       "      <td>Bolt (2008)</td>\n",
       "      <td>Action|Adventure|Animation|Children|Comedy</td>\n",
       "    </tr>\n",
       "    <tr>\n",
       "      <th>54</th>\n",
       "      <td>5</td>\n",
       "      <td>46972</td>\n",
       "      <td>5.0</td>\n",
       "      <td>1303500388</td>\n",
       "      <td>Night at the Museum (2006)</td>\n",
       "      <td>Action|Comedy|Fantasy|IMAX</td>\n",
       "    </tr>\n",
       "    <tr>\n",
       "      <th>63</th>\n",
       "      <td>5</td>\n",
       "      <td>68954</td>\n",
       "      <td>5.0</td>\n",
       "      <td>1303499879</td>\n",
       "      <td>Up (2009)</td>\n",
       "      <td>Adventure|Animation|Children|Drama</td>\n",
       "    </tr>\n",
       "    <tr>\n",
       "      <th>64</th>\n",
       "      <td>5</td>\n",
       "      <td>71264</td>\n",
       "      <td>5.0</td>\n",
       "      <td>1303500727</td>\n",
       "      <td>Cloudy with a Chance of Meatballs (2009)</td>\n",
       "      <td>Animation|Children|Fantasy|IMAX</td>\n",
       "    </tr>\n",
       "    <tr>\n",
       "      <th>61</th>\n",
       "      <td>5</td>\n",
       "      <td>67408</td>\n",
       "      <td>4.5</td>\n",
       "      <td>1303500804</td>\n",
       "      <td>Monsters vs. Aliens (2009)</td>\n",
       "      <td>Animation|Sci-Fi|IMAX</td>\n",
       "    </tr>\n",
       "    <tr>\n",
       "      <th>57</th>\n",
       "      <td>5</td>\n",
       "      <td>56152</td>\n",
       "      <td>4.5</td>\n",
       "      <td>1303499798</td>\n",
       "      <td>Enchanted (2007)</td>\n",
       "      <td>Adventure|Animation|Children|Comedy|Fantasy|Mu...</td>\n",
       "    </tr>\n",
       "    <tr>\n",
       "      <th>16</th>\n",
       "      <td>5</td>\n",
       "      <td>1206</td>\n",
       "      <td>4.5</td>\n",
       "      <td>1303499819</td>\n",
       "      <td>Clockwork Orange, A (1971)</td>\n",
       "      <td>Crime|Drama|Sci-Fi|Thriller</td>\n",
       "    </tr>\n",
       "    <tr>\n",
       "      <th>65</th>\n",
       "      <td>5</td>\n",
       "      <td>72737</td>\n",
       "      <td>4.5</td>\n",
       "      <td>1303500318</td>\n",
       "      <td>Princess and the Frog, The (2009)</td>\n",
       "      <td>Animation|Children|Fantasy|Musical|Romance</td>\n",
       "    </tr>\n",
       "    <tr>\n",
       "      <th>19</th>\n",
       "      <td>5</td>\n",
       "      <td>1907</td>\n",
       "      <td>4.5</td>\n",
       "      <td>1303500565</td>\n",
       "      <td>Mulan (1998)</td>\n",
       "      <td>Adventure|Animation|Children|Comedy|Drama|Musi...</td>\n",
       "    </tr>\n",
       "    <tr>\n",
       "      <th>59</th>\n",
       "      <td>5</td>\n",
       "      <td>60126</td>\n",
       "      <td>4.0</td>\n",
       "      <td>1303501385</td>\n",
       "      <td>Get Smart (2008)</td>\n",
       "      <td>Action|Comedy</td>\n",
       "    </tr>\n",
       "    <tr>\n",
       "      <th>56</th>\n",
       "      <td>5</td>\n",
       "      <td>54259</td>\n",
       "      <td>4.0</td>\n",
       "      <td>1303499858</td>\n",
       "      <td>Stardust (2007)</td>\n",
       "      <td>Adventure|Comedy|Fantasy|Romance</td>\n",
       "    </tr>\n",
       "    <tr>\n",
       "      <th>53</th>\n",
       "      <td>5</td>\n",
       "      <td>45431</td>\n",
       "      <td>4.0</td>\n",
       "      <td>1303500748</td>\n",
       "      <td>Over the Hedge (2006)</td>\n",
       "      <td>Adventure|Animation|Children|Comedy</td>\n",
       "    </tr>\n",
       "    <tr>\n",
       "      <th>50</th>\n",
       "      <td>5</td>\n",
       "      <td>33499</td>\n",
       "      <td>4.0</td>\n",
       "      <td>1303500204</td>\n",
       "      <td>Monster-in-Law (2005)</td>\n",
       "      <td>Comedy|Romance</td>\n",
       "    </tr>\n",
       "    <tr>\n",
       "      <th>48</th>\n",
       "      <td>5</td>\n",
       "      <td>8360</td>\n",
       "      <td>4.0</td>\n",
       "      <td>1303500517</td>\n",
       "      <td>Shrek 2 (2004)</td>\n",
       "      <td>Adventure|Animation|Children|Comedy|Musical|Ro...</td>\n",
       "    </tr>\n",
       "    <tr>\n",
       "      <th>47</th>\n",
       "      <td>5</td>\n",
       "      <td>7375</td>\n",
       "      <td>4.0</td>\n",
       "      <td>1303500228</td>\n",
       "      <td>Prince &amp; Me, The (2004)</td>\n",
       "      <td>Comedy|Romance</td>\n",
       "    </tr>\n",
       "    <tr>\n",
       "      <th>40</th>\n",
       "      <td>5</td>\n",
       "      <td>4306</td>\n",
       "      <td>4.0</td>\n",
       "      <td>1303500512</td>\n",
       "      <td>Shrek (2001)</td>\n",
       "      <td>Adventure|Animation|Children|Comedy|Fantasy|Ro...</td>\n",
       "    </tr>\n",
       "  </tbody>\n",
       "</table>\n",
       "</div>"
      ],
      "text/plain": [
       "    userId  movieId  rating   timestamp  \\\n",
       "67       5    81847     5.0  1303500307   \n",
       "62       5    68793     5.0  1303500362   \n",
       "43       5     5380     5.0  1303500762   \n",
       "27       5     2657     5.0  1303499758   \n",
       "60       5    63859     5.0  1303499888   \n",
       "54       5    46972     5.0  1303500388   \n",
       "63       5    68954     5.0  1303499879   \n",
       "64       5    71264     5.0  1303500727   \n",
       "61       5    67408     4.5  1303500804   \n",
       "57       5    56152     4.5  1303499798   \n",
       "16       5     1206     4.5  1303499819   \n",
       "65       5    72737     4.5  1303500318   \n",
       "19       5     1907     4.5  1303500565   \n",
       "59       5    60126     4.0  1303501385   \n",
       "56       5    54259     4.0  1303499858   \n",
       "53       5    45431     4.0  1303500748   \n",
       "50       5    33499     4.0  1303500204   \n",
       "48       5     8360     4.0  1303500517   \n",
       "47       5     7375     4.0  1303500228   \n",
       "40       5     4306     4.0  1303500512   \n",
       "\n",
       "                                                title  \\\n",
       "67                                     Tangled (2010)   \n",
       "62  Night at the Museum: Battle of the Smithsonian...   \n",
       "43            Importance of Being Earnest, The (2002)   \n",
       "27              Rocky Horror Picture Show, The (1975)   \n",
       "60                                        Bolt (2008)   \n",
       "54                         Night at the Museum (2006)   \n",
       "63                                          Up (2009)   \n",
       "64           Cloudy with a Chance of Meatballs (2009)   \n",
       "61                         Monsters vs. Aliens (2009)   \n",
       "57                                   Enchanted (2007)   \n",
       "16                         Clockwork Orange, A (1971)   \n",
       "65                  Princess and the Frog, The (2009)   \n",
       "19                                       Mulan (1998)   \n",
       "59                                   Get Smart (2008)   \n",
       "56                                    Stardust (2007)   \n",
       "53                              Over the Hedge (2006)   \n",
       "50                              Monster-in-Law (2005)   \n",
       "48                                     Shrek 2 (2004)   \n",
       "47                            Prince & Me, The (2004)   \n",
       "40                                       Shrek (2001)   \n",
       "\n",
       "                                               genres  \n",
       "67  Animation|Children|Comedy|Fantasy|Musical|Roma...  \n",
       "62                                 Action|Comedy|IMAX  \n",
       "43                               Comedy|Drama|Romance  \n",
       "27                       Comedy|Horror|Musical|Sci-Fi  \n",
       "60         Action|Adventure|Animation|Children|Comedy  \n",
       "54                         Action|Comedy|Fantasy|IMAX  \n",
       "63                 Adventure|Animation|Children|Drama  \n",
       "64                    Animation|Children|Fantasy|IMAX  \n",
       "61                              Animation|Sci-Fi|IMAX  \n",
       "57  Adventure|Animation|Children|Comedy|Fantasy|Mu...  \n",
       "16                        Crime|Drama|Sci-Fi|Thriller  \n",
       "65         Animation|Children|Fantasy|Musical|Romance  \n",
       "19  Adventure|Animation|Children|Comedy|Drama|Musi...  \n",
       "59                                      Action|Comedy  \n",
       "56                   Adventure|Comedy|Fantasy|Romance  \n",
       "53                Adventure|Animation|Children|Comedy  \n",
       "50                                     Comedy|Romance  \n",
       "48  Adventure|Animation|Children|Comedy|Musical|Ro...  \n",
       "47                                     Comedy|Romance  \n",
       "40  Adventure|Animation|Children|Comedy|Fantasy|Ro...  "
      ]
     },
     "execution_count": 88,
     "metadata": {},
     "output_type": "execute_result"
    }
   ],
   "source": [
    "already_rated.head(20)"
   ]
  },
  {
   "cell_type": "code",
   "execution_count": 89,
   "id": "4d3c7689",
   "metadata": {},
   "outputs": [
    {
     "data": {
      "text/html": [
       "<div>\n",
       "<style scoped>\n",
       "    .dataframe tbody tr th:only-of-type {\n",
       "        vertical-align: middle;\n",
       "    }\n",
       "\n",
       "    .dataframe tbody tr th {\n",
       "        vertical-align: top;\n",
       "    }\n",
       "\n",
       "    .dataframe thead th {\n",
       "        text-align: right;\n",
       "    }\n",
       "</style>\n",
       "<table border=\"1\" class=\"dataframe\">\n",
       "  <thead>\n",
       "    <tr style=\"text-align: right;\">\n",
       "      <th></th>\n",
       "      <th>movieId</th>\n",
       "      <th>title</th>\n",
       "      <th>genres</th>\n",
       "    </tr>\n",
       "  </thead>\n",
       "  <tbody>\n",
       "    <tr>\n",
       "      <th>2461</th>\n",
       "      <td>3114</td>\n",
       "      <td>Toy Story 2 (1999)</td>\n",
       "      <td>Adventure|Animation|Children|Comedy|Fantasy</td>\n",
       "    </tr>\n",
       "    <tr>\n",
       "      <th>3770</th>\n",
       "      <td>4886</td>\n",
       "      <td>Monsters, Inc. (2001)</td>\n",
       "      <td>Adventure|Animation|Children|Comedy|Fantasy</td>\n",
       "    </tr>\n",
       "    <tr>\n",
       "      <th>1843</th>\n",
       "      <td>2355</td>\n",
       "      <td>Bug's Life, A (1998)</td>\n",
       "      <td>Adventure|Animation|Children|Comedy</td>\n",
       "    </tr>\n",
       "    <tr>\n",
       "      <th>254</th>\n",
       "      <td>296</td>\n",
       "      <td>Pulp Fiction (1994)</td>\n",
       "      <td>Comedy|Crime|Drama|Thriller</td>\n",
       "    </tr>\n",
       "    <tr>\n",
       "      <th>308</th>\n",
       "      <td>356</td>\n",
       "      <td>Forrest Gump (1994)</td>\n",
       "      <td>Comedy|Drama|Romance|War</td>\n",
       "    </tr>\n",
       "    <tr>\n",
       "      <th>909</th>\n",
       "      <td>1148</td>\n",
       "      <td>Wallace &amp; Gromit: The Wrong Trousers (1993)</td>\n",
       "      <td>Animation|Children|Comedy|Crime</td>\n",
       "    </tr>\n",
       "    <tr>\n",
       "      <th>2928</th>\n",
       "      <td>3751</td>\n",
       "      <td>Chicken Run (2000)</td>\n",
       "      <td>Animation|Children|Comedy</td>\n",
       "    </tr>\n",
       "    <tr>\n",
       "      <th>612</th>\n",
       "      <td>745</td>\n",
       "      <td>Wallace &amp; Gromit: A Close Shave (1995)</td>\n",
       "      <td>Animation|Children|Comedy</td>\n",
       "    </tr>\n",
       "    <tr>\n",
       "      <th>3989</th>\n",
       "      <td>5218</td>\n",
       "      <td>Ice Age (2002)</td>\n",
       "      <td>Adventure|Animation|Children|Comedy</td>\n",
       "    </tr>\n",
       "    <tr>\n",
       "      <th>856</th>\n",
       "      <td>1073</td>\n",
       "      <td>Willy Wonka &amp; the Chocolate Factory (1971)</td>\n",
       "      <td>Children|Comedy|Fantasy|Musical</td>\n",
       "    </tr>\n",
       "    <tr>\n",
       "      <th>2353</th>\n",
       "      <td>2987</td>\n",
       "      <td>Who Framed Roger Rabbit? (1988)</td>\n",
       "      <td>Adventure|Animation|Children|Comedy|Crime|Fant...</td>\n",
       "    </tr>\n",
       "    <tr>\n",
       "      <th>2141</th>\n",
       "      <td>2716</td>\n",
       "      <td>Ghostbusters (a.k.a. Ghost Busters) (1984)</td>\n",
       "      <td>Action|Comedy|Sci-Fi</td>\n",
       "    </tr>\n",
       "    <tr>\n",
       "      <th>32</th>\n",
       "      <td>34</td>\n",
       "      <td>Babe (1995)</td>\n",
       "      <td>Children|Drama</td>\n",
       "    </tr>\n",
       "    <tr>\n",
       "      <th>2963</th>\n",
       "      <td>3793</td>\n",
       "      <td>X-Men (2000)</td>\n",
       "      <td>Action|Adventure|Sci-Fi</td>\n",
       "    </tr>\n",
       "    <tr>\n",
       "      <th>3775</th>\n",
       "      <td>4896</td>\n",
       "      <td>Harry Potter and the Sorcerer's Stone (a.k.a. ...</td>\n",
       "      <td>Adventure|Children|Fantasy</td>\n",
       "    </tr>\n",
       "    <tr>\n",
       "      <th>224</th>\n",
       "      <td>260</td>\n",
       "      <td>Star Wars: Episode IV - A New Hope (1977)</td>\n",
       "      <td>Action|Adventure|Sci-Fi</td>\n",
       "    </tr>\n",
       "    <tr>\n",
       "      <th>4756</th>\n",
       "      <td>6539</td>\n",
       "      <td>Pirates of the Caribbean: The Curse of the Bla...</td>\n",
       "      <td>Action|Adventure|Comedy|Fantasy</td>\n",
       "    </tr>\n",
       "    <tr>\n",
       "      <th>1794</th>\n",
       "      <td>2294</td>\n",
       "      <td>Antz (1998)</td>\n",
       "      <td>Adventure|Animation|Children|Comedy|Fantasy</td>\n",
       "    </tr>\n",
       "    <tr>\n",
       "      <th>967</th>\n",
       "      <td>1223</td>\n",
       "      <td>Grand Day Out with Wallace and Gromit, A (1989)</td>\n",
       "      <td>Adventure|Animation|Children|Comedy|Sci-Fi</td>\n",
       "    </tr>\n",
       "    <tr>\n",
       "      <th>878</th>\n",
       "      <td>1097</td>\n",
       "      <td>E.T. the Extra-Terrestrial (1982)</td>\n",
       "      <td>Children|Drama|Sci-Fi</td>\n",
       "    </tr>\n",
       "  </tbody>\n",
       "</table>\n",
       "</div>"
      ],
      "text/plain": [
       "      movieId                                              title  \\\n",
       "2461     3114                                 Toy Story 2 (1999)   \n",
       "3770     4886                              Monsters, Inc. (2001)   \n",
       "1843     2355                               Bug's Life, A (1998)   \n",
       "254       296                                Pulp Fiction (1994)   \n",
       "308       356                                Forrest Gump (1994)   \n",
       "909      1148        Wallace & Gromit: The Wrong Trousers (1993)   \n",
       "2928     3751                                 Chicken Run (2000)   \n",
       "612       745             Wallace & Gromit: A Close Shave (1995)   \n",
       "3989     5218                                     Ice Age (2002)   \n",
       "856      1073         Willy Wonka & the Chocolate Factory (1971)   \n",
       "2353     2987                    Who Framed Roger Rabbit? (1988)   \n",
       "2141     2716         Ghostbusters (a.k.a. Ghost Busters) (1984)   \n",
       "32         34                                        Babe (1995)   \n",
       "2963     3793                                       X-Men (2000)   \n",
       "3775     4896  Harry Potter and the Sorcerer's Stone (a.k.a. ...   \n",
       "224       260          Star Wars: Episode IV - A New Hope (1977)   \n",
       "4756     6539  Pirates of the Caribbean: The Curse of the Bla...   \n",
       "1794     2294                                        Antz (1998)   \n",
       "967      1223    Grand Day Out with Wallace and Gromit, A (1989)   \n",
       "878      1097                  E.T. the Extra-Terrestrial (1982)   \n",
       "\n",
       "                                                 genres  \n",
       "2461        Adventure|Animation|Children|Comedy|Fantasy  \n",
       "3770        Adventure|Animation|Children|Comedy|Fantasy  \n",
       "1843                Adventure|Animation|Children|Comedy  \n",
       "254                         Comedy|Crime|Drama|Thriller  \n",
       "308                            Comedy|Drama|Romance|War  \n",
       "909                     Animation|Children|Comedy|Crime  \n",
       "2928                          Animation|Children|Comedy  \n",
       "612                           Animation|Children|Comedy  \n",
       "3989                Adventure|Animation|Children|Comedy  \n",
       "856                     Children|Comedy|Fantasy|Musical  \n",
       "2353  Adventure|Animation|Children|Comedy|Crime|Fant...  \n",
       "2141                               Action|Comedy|Sci-Fi  \n",
       "32                                       Children|Drama  \n",
       "2963                            Action|Adventure|Sci-Fi  \n",
       "3775                         Adventure|Children|Fantasy  \n",
       "224                             Action|Adventure|Sci-Fi  \n",
       "4756                    Action|Adventure|Comedy|Fantasy  \n",
       "1794        Adventure|Animation|Children|Comedy|Fantasy  \n",
       "967          Adventure|Animation|Children|Comedy|Sci-Fi  \n",
       "878                               Children|Drama|Sci-Fi  "
      ]
     },
     "execution_count": 89,
     "metadata": {},
     "output_type": "execute_result"
    }
   ],
   "source": [
    "predictions.head(20)"
   ]
  },
  {
   "cell_type": "markdown",
   "id": "5ce92698",
   "metadata": {},
   "source": [
    "These look like pretty good recommendations. It's good to see that, although we didn't actually use the genre of the movie as a feature, the truncated matrix factorization features \"picked up\" on the underlying tastes and preferences of the user. We've recommended some comedy, drama, and romance movies - all of which were genres of some of this user's top rated movies."
   ]
  },
  {
   "cell_type": "markdown",
   "id": "2a69ce24",
   "metadata": {},
   "source": [
    "### Model Evaluation"
   ]
  },
  {
   "cell_type": "markdown",
   "id": "5d1e1c29",
   "metadata": {},
   "source": [
    "Instead of doing manually like the last time, I will use the Surprise library that provided various ready-to-use powerful prediction algorithms including (SVD) to evaluate its RMSE (Root Mean Squared Error) on the MovieLens dataset. It is a Python scikit building and analyzing recommender systems."
   ]
  },
  {
   "cell_type": "code",
   "execution_count": 90,
   "id": "b0da95b8",
   "metadata": {},
   "outputs": [],
   "source": [
    "from surprise import Dataset,Reader,SVD"
   ]
  },
  {
   "cell_type": "code",
   "execution_count": 91,
   "id": "b609e1e6",
   "metadata": {},
   "outputs": [],
   "source": [
    "reader=Reader()"
   ]
  },
  {
   "cell_type": "code",
   "execution_count": 92,
   "id": "f90fe489",
   "metadata": {},
   "outputs": [],
   "source": [
    "data=Dataset.load_from_df(new_ratings,reader)"
   ]
  },
  {
   "cell_type": "code",
   "execution_count": 93,
   "id": "b4f00a35",
   "metadata": {},
   "outputs": [],
   "source": [
    "svd=SVD()"
   ]
  },
  {
   "cell_type": "code",
   "execution_count": 94,
   "id": "0ae27b43",
   "metadata": {},
   "outputs": [],
   "source": [
    "from surprise.model_selection import cross_validate"
   ]
  },
  {
   "cell_type": "code",
   "execution_count": 95,
   "id": "7ccd2849",
   "metadata": {},
   "outputs": [
    {
     "name": "stdout",
     "output_type": "stream",
     "text": [
      "Evaluating RMSE, MAE of algorithm SVD on 5 split(s).\n",
      "\n",
      "                  Fold 1  Fold 2  Fold 3  Fold 4  Fold 5  Mean    Std     \n",
      "RMSE (testset)    0.8996  0.9017  0.9102  0.9123  0.9027  0.9053  0.0050  \n",
      "MAE (testset)     0.6980  0.6986  0.7049  0.7047  0.6977  0.7008  0.0033  \n",
      "Fit time          7.15    7.96    8.17    6.80    6.81    7.38    0.58    \n",
      "Test time         0.23    0.40    0.21    0.16    0.29    0.26    0.08    \n"
     ]
    },
    {
     "data": {
      "text/plain": [
       "{'test_rmse': array([0.89962319, 0.90171088, 0.91020732, 0.91234874, 0.90269269]),\n",
       " 'test_mae': array([0.69795418, 0.69859247, 0.70488351, 0.70472412, 0.69767182]),\n",
       " 'fit_time': (7.14961314201355,\n",
       "  7.961318016052246,\n",
       "  8.172366857528687,\n",
       "  6.79537034034729,\n",
       "  6.811302185058594),\n",
       " 'test_time': (0.2263953685760498,\n",
       "  0.39594054222106934,\n",
       "  0.20795750617980957,\n",
       "  0.1620771884918213,\n",
       "  0.2862362861633301)}"
      ]
     },
     "execution_count": 95,
     "metadata": {},
     "output_type": "execute_result"
    }
   ],
   "source": [
    "cross_validate(svd,data,measures=['RMSE','MAE'],cv=5,verbose=True)"
   ]
  },
  {
   "cell_type": "markdown",
   "id": "55162538",
   "metadata": {},
   "source": [
    "We get a mean Root Mean Square Error of 0.8690 which is pretty good. Let's now train on the dataset and arrive at predictions."
   ]
  },
  {
   "cell_type": "code",
   "execution_count": 96,
   "id": "f7a5c74f",
   "metadata": {},
   "outputs": [],
   "source": [
    "trainset=data.build_full_trainset()"
   ]
  },
  {
   "cell_type": "code",
   "execution_count": 97,
   "id": "bc731392",
   "metadata": {
    "scrolled": true
   },
   "outputs": [
    {
     "data": {
      "text/plain": [
       "<surprise.prediction_algorithms.matrix_factorization.SVD at 0x23643851610>"
      ]
     },
     "execution_count": 97,
     "metadata": {},
     "output_type": "execute_result"
    }
   ],
   "source": [
    "svd.fit(trainset)"
   ]
  },
  {
   "cell_type": "markdown",
   "id": "c6f5e7d0",
   "metadata": {},
   "source": [
    "Now let's use SVD to predict the rating that User with ID 5 will give to a random movie (let's say with Movie ID 5000)."
   ]
  },
  {
   "cell_type": "code",
   "execution_count": 98,
   "id": "283e57a6",
   "metadata": {},
   "outputs": [
    {
     "data": {
      "text/plain": [
       "Prediction(uid=5, iid=5000, r_ui=None, est=2.6762203770476507, details={'was_impossible': False})"
      ]
     },
     "execution_count": 98,
     "metadata": {},
     "output_type": "execute_result"
    }
   ],
   "source": [
    "svd.predict(5,5000)"
   ]
  },
  {
   "cell_type": "markdown",
   "id": "4e92f4a9",
   "metadata": {},
   "source": [
    "### Conclusion"
   ]
  },
  {
   "cell_type": "markdown",
   "id": "f47f5591",
   "metadata": {},
   "source": [
    "In this notebook, we attempted to build a model-based Collaborative Filtering movie recommendation sytem based on latent features from a low rank matrix factorization method called SVD. As it captures the underlying features driving the raw data, it can scale significantly better to massive datasets as well as make better recommendations based on user's tastes.\n",
    "\n",
    "However, we still likely lose some meaningful signals by using a low-rank approximation. Specifically, there's an interpretability problem as a singular vector specifies a linear combination of all input columns or rows. There's also a lack of sparsity when the singular vectors are quite dense. Thus, SVD approach is limited to linear projections."
   ]
  },
  {
   "cell_type": "code",
   "execution_count": null,
   "id": "0d1ea6e9",
   "metadata": {},
   "outputs": [],
   "source": []
  }
 ],
 "metadata": {
  "kernelspec": {
   "display_name": "Python 3",
   "language": "python",
   "name": "python3"
  },
  "language_info": {
   "codemirror_mode": {
    "name": "ipython",
    "version": 3
   },
   "file_extension": ".py",
   "mimetype": "text/x-python",
   "name": "python",
   "nbconvert_exporter": "python",
   "pygments_lexer": "ipython3",
   "version": "3.8.8"
  }
 },
 "nbformat": 4,
 "nbformat_minor": 5
}
