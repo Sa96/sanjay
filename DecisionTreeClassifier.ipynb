{
  "nbformat": 4,
  "nbformat_minor": 0,
  "metadata": {
    "colab": {
      "name": "Untitled2.ipynb",
      "provenance": [],
      "authorship_tag": "ABX9TyPRAfS1zb4/l0IVg2N7if5I",
      "include_colab_link": true
    },
    "kernelspec": {
      "name": "python3",
      "display_name": "Python 3"
    },
    "language_info": {
      "name": "python"
    }
  },
  "cells": [
    {
      "cell_type": "markdown",
      "metadata": {
        "id": "view-in-github",
        "colab_type": "text"
      },
      "source": [
        "<a href=\"https://colab.research.google.com/github/Sa96/sanjay/blob/main/DecisionTreeClassifier.ipynb\" target=\"_parent\"><img src=\"https://colab.research.google.com/assets/colab-badge.svg\" alt=\"Open In Colab\"/></a>"
      ]
    },
    {
      "cell_type": "code",
      "metadata": {
        "id": "W7KSZUoRqzeH"
      },
      "source": [
        "import pandas as pd\n",
        "import numpy as np\n",
        "import matplotlib.pyplot as plt\n",
        "import seaborn as sns"
      ],
      "execution_count": 1,
      "outputs": []
    },
    {
      "cell_type": "code",
      "metadata": {
        "id": "SVuhip1yreMw"
      },
      "source": [
        "admission=pd.read_csv('/content/Admission_Predict.csv')"
      ],
      "execution_count": 2,
      "outputs": []
    },
    {
      "cell_type": "code",
      "metadata": {
        "colab": {
          "base_uri": "https://localhost:8080/",
          "height": 419
        },
        "id": "FiTYcrHqrxKV",
        "outputId": "8ab2da0f-086e-4064-9066-1b70ecc56eb8"
      },
      "source": [
        "admission"
      ],
      "execution_count": 3,
      "outputs": [
        {
          "output_type": "execute_result",
          "data": {
            "text/html": [
              "<div>\n",
              "<style scoped>\n",
              "    .dataframe tbody tr th:only-of-type {\n",
              "        vertical-align: middle;\n",
              "    }\n",
              "\n",
              "    .dataframe tbody tr th {\n",
              "        vertical-align: top;\n",
              "    }\n",
              "\n",
              "    .dataframe thead th {\n",
              "        text-align: right;\n",
              "    }\n",
              "</style>\n",
              "<table border=\"1\" class=\"dataframe\">\n",
              "  <thead>\n",
              "    <tr style=\"text-align: right;\">\n",
              "      <th></th>\n",
              "      <th>Serial No.</th>\n",
              "      <th>GRE Score</th>\n",
              "      <th>TOEFL Score</th>\n",
              "      <th>University Rating</th>\n",
              "      <th>SOP</th>\n",
              "      <th>LOR</th>\n",
              "      <th>CGPA</th>\n",
              "      <th>Research</th>\n",
              "      <th>Chance of Admit</th>\n",
              "    </tr>\n",
              "  </thead>\n",
              "  <tbody>\n",
              "    <tr>\n",
              "      <th>0</th>\n",
              "      <td>1</td>\n",
              "      <td>337</td>\n",
              "      <td>118</td>\n",
              "      <td>4</td>\n",
              "      <td>4.5</td>\n",
              "      <td>4.5</td>\n",
              "      <td>9.65</td>\n",
              "      <td>1</td>\n",
              "      <td>1</td>\n",
              "    </tr>\n",
              "    <tr>\n",
              "      <th>1</th>\n",
              "      <td>2</td>\n",
              "      <td>324</td>\n",
              "      <td>107</td>\n",
              "      <td>4</td>\n",
              "      <td>4.0</td>\n",
              "      <td>4.5</td>\n",
              "      <td>8.87</td>\n",
              "      <td>1</td>\n",
              "      <td>1</td>\n",
              "    </tr>\n",
              "    <tr>\n",
              "      <th>2</th>\n",
              "      <td>3</td>\n",
              "      <td>316</td>\n",
              "      <td>104</td>\n",
              "      <td>3</td>\n",
              "      <td>3.0</td>\n",
              "      <td>3.5</td>\n",
              "      <td>8.00</td>\n",
              "      <td>1</td>\n",
              "      <td>0</td>\n",
              "    </tr>\n",
              "    <tr>\n",
              "      <th>3</th>\n",
              "      <td>4</td>\n",
              "      <td>322</td>\n",
              "      <td>110</td>\n",
              "      <td>3</td>\n",
              "      <td>3.5</td>\n",
              "      <td>2.5</td>\n",
              "      <td>8.67</td>\n",
              "      <td>1</td>\n",
              "      <td>1</td>\n",
              "    </tr>\n",
              "    <tr>\n",
              "      <th>4</th>\n",
              "      <td>5</td>\n",
              "      <td>314</td>\n",
              "      <td>103</td>\n",
              "      <td>2</td>\n",
              "      <td>2.0</td>\n",
              "      <td>3.0</td>\n",
              "      <td>8.21</td>\n",
              "      <td>0</td>\n",
              "      <td>0</td>\n",
              "    </tr>\n",
              "    <tr>\n",
              "      <th>...</th>\n",
              "      <td>...</td>\n",
              "      <td>...</td>\n",
              "      <td>...</td>\n",
              "      <td>...</td>\n",
              "      <td>...</td>\n",
              "      <td>...</td>\n",
              "      <td>...</td>\n",
              "      <td>...</td>\n",
              "      <td>...</td>\n",
              "    </tr>\n",
              "    <tr>\n",
              "      <th>395</th>\n",
              "      <td>396</td>\n",
              "      <td>324</td>\n",
              "      <td>110</td>\n",
              "      <td>3</td>\n",
              "      <td>3.5</td>\n",
              "      <td>3.5</td>\n",
              "      <td>9.04</td>\n",
              "      <td>1</td>\n",
              "      <td>1</td>\n",
              "    </tr>\n",
              "    <tr>\n",
              "      <th>396</th>\n",
              "      <td>397</td>\n",
              "      <td>325</td>\n",
              "      <td>107</td>\n",
              "      <td>3</td>\n",
              "      <td>3.0</td>\n",
              "      <td>3.5</td>\n",
              "      <td>9.11</td>\n",
              "      <td>1</td>\n",
              "      <td>1</td>\n",
              "    </tr>\n",
              "    <tr>\n",
              "      <th>397</th>\n",
              "      <td>398</td>\n",
              "      <td>330</td>\n",
              "      <td>116</td>\n",
              "      <td>4</td>\n",
              "      <td>5.0</td>\n",
              "      <td>4.5</td>\n",
              "      <td>9.45</td>\n",
              "      <td>1</td>\n",
              "      <td>1</td>\n",
              "    </tr>\n",
              "    <tr>\n",
              "      <th>398</th>\n",
              "      <td>399</td>\n",
              "      <td>312</td>\n",
              "      <td>103</td>\n",
              "      <td>3</td>\n",
              "      <td>3.5</td>\n",
              "      <td>4.0</td>\n",
              "      <td>8.78</td>\n",
              "      <td>0</td>\n",
              "      <td>0</td>\n",
              "    </tr>\n",
              "    <tr>\n",
              "      <th>399</th>\n",
              "      <td>400</td>\n",
              "      <td>333</td>\n",
              "      <td>117</td>\n",
              "      <td>4</td>\n",
              "      <td>5.0</td>\n",
              "      <td>4.0</td>\n",
              "      <td>9.66</td>\n",
              "      <td>1</td>\n",
              "      <td>1</td>\n",
              "    </tr>\n",
              "  </tbody>\n",
              "</table>\n",
              "<p>400 rows × 9 columns</p>\n",
              "</div>"
            ],
            "text/plain": [
              "     Serial No.  GRE Score  TOEFL Score  ...  CGPA  Research  Chance of Admit\n",
              "0             1        337          118  ...  9.65         1                1\n",
              "1             2        324          107  ...  8.87         1                1\n",
              "2             3        316          104  ...  8.00         1                0\n",
              "3             4        322          110  ...  8.67         1                1\n",
              "4             5        314          103  ...  8.21         0                0\n",
              "..          ...        ...          ...  ...   ...       ...              ...\n",
              "395         396        324          110  ...  9.04         1                1\n",
              "396         397        325          107  ...  9.11         1                1\n",
              "397         398        330          116  ...  9.45         1                1\n",
              "398         399        312          103  ...  8.78         0                0\n",
              "399         400        333          117  ...  9.66         1                1\n",
              "\n",
              "[400 rows x 9 columns]"
            ]
          },
          "metadata": {
            "tags": []
          },
          "execution_count": 3
        }
      ]
    },
    {
      "cell_type": "code",
      "metadata": {
        "id": "i1xonGmEr-3j"
      },
      "source": [
        "admission['Research'] = admission['Research'].astype(object)\n",
        "\n",
        "admission= admission.drop('Serial No.', axis = 1)\n",
        "df_target = admission['Chance of Admit']\n",
        "df_feature = admission.drop('Chance of Admit', axis = 1)\n",
        "df_num = df_feature.select_dtypes(include=[np.number])\n",
        "df_cat= df_feature.select_dtypes(exclude=[np.number])\n"
      ],
      "execution_count": 4,
      "outputs": []
    },
    {
      "cell_type": "code",
      "metadata": {
        "colab": {
          "base_uri": "https://localhost:8080/"
        },
        "id": "PePN9KdfsXYN",
        "outputId": "8fb2c098-ff25-4ca8-c7ce-903c101be180"
      },
      "source": [
        "df_num.columns"
      ],
      "execution_count": 5,
      "outputs": [
        {
          "output_type": "execute_result",
          "data": {
            "text/plain": [
              "Index(['GRE Score', 'TOEFL Score', 'University Rating', 'SOP', 'LOR', 'CGPA'], dtype='object')"
            ]
          },
          "metadata": {
            "tags": []
          },
          "execution_count": 5
        }
      ]
    },
    {
      "cell_type": "code",
      "metadata": {
        "colab": {
          "base_uri": "https://localhost:8080/"
        },
        "id": "QXBPc4fXsZvO",
        "outputId": "09c5a646-9f4c-40fc-e2cf-2e35f3fe9211"
      },
      "source": [
        "df_cat.columns"
      ],
      "execution_count": 6,
      "outputs": [
        {
          "output_type": "execute_result",
          "data": {
            "text/plain": [
              "Index(['Research'], dtype='object')"
            ]
          },
          "metadata": {
            "tags": []
          },
          "execution_count": 6
        }
      ]
    },
    {
      "cell_type": "code",
      "metadata": {
        "id": "IR56usdCsfzF"
      },
      "source": [
        "from sklearn.preprocessing import StandardScaler\n",
        "num_scaled=StandardScaler().fit_transform(df_num)"
      ],
      "execution_count": 7,
      "outputs": []
    },
    {
      "cell_type": "code",
      "metadata": {
        "id": "eh6MLi--s739"
      },
      "source": [
        "num_scale_dataframe=pd.DataFrame(num_scaled,columns=df_num.columns)"
      ],
      "execution_count": 8,
      "outputs": []
    },
    {
      "cell_type": "code",
      "metadata": {
        "colab": {
          "base_uri": "https://localhost:8080/",
          "height": 669
        },
        "id": "6LI19eJltJrX",
        "outputId": "01814766-b843-477b-a51e-a2ffaddc587b"
      },
      "source": [
        "num_scale_dataframe.head(20)"
      ],
      "execution_count": 9,
      "outputs": [
        {
          "output_type": "execute_result",
          "data": {
            "text/html": [
              "<div>\n",
              "<style scoped>\n",
              "    .dataframe tbody tr th:only-of-type {\n",
              "        vertical-align: middle;\n",
              "    }\n",
              "\n",
              "    .dataframe tbody tr th {\n",
              "        vertical-align: top;\n",
              "    }\n",
              "\n",
              "    .dataframe thead th {\n",
              "        text-align: right;\n",
              "    }\n",
              "</style>\n",
              "<table border=\"1\" class=\"dataframe\">\n",
              "  <thead>\n",
              "    <tr style=\"text-align: right;\">\n",
              "      <th></th>\n",
              "      <th>GRE Score</th>\n",
              "      <th>TOEFL Score</th>\n",
              "      <th>University Rating</th>\n",
              "      <th>SOP</th>\n",
              "      <th>LOR</th>\n",
              "      <th>CGPA</th>\n",
              "    </tr>\n",
              "  </thead>\n",
              "  <tbody>\n",
              "    <tr>\n",
              "      <th>0</th>\n",
              "      <td>1.762107</td>\n",
              "      <td>1.746971</td>\n",
              "      <td>0.798829</td>\n",
              "      <td>1.093864</td>\n",
              "      <td>1.167321</td>\n",
              "      <td>1.764818</td>\n",
              "    </tr>\n",
              "    <tr>\n",
              "      <th>1</th>\n",
              "      <td>0.627656</td>\n",
              "      <td>-0.067635</td>\n",
              "      <td>0.798829</td>\n",
              "      <td>0.596653</td>\n",
              "      <td>1.167321</td>\n",
              "      <td>0.455151</td>\n",
              "    </tr>\n",
              "    <tr>\n",
              "      <th>2</th>\n",
              "      <td>-0.070467</td>\n",
              "      <td>-0.562528</td>\n",
              "      <td>-0.076600</td>\n",
              "      <td>-0.397769</td>\n",
              "      <td>0.052933</td>\n",
              "      <td>-1.005631</td>\n",
              "    </tr>\n",
              "    <tr>\n",
              "      <th>3</th>\n",
              "      <td>0.453126</td>\n",
              "      <td>0.427257</td>\n",
              "      <td>-0.076600</td>\n",
              "      <td>0.099442</td>\n",
              "      <td>-1.061454</td>\n",
              "      <td>0.119339</td>\n",
              "    </tr>\n",
              "    <tr>\n",
              "      <th>4</th>\n",
              "      <td>-0.244998</td>\n",
              "      <td>-0.727492</td>\n",
              "      <td>-0.952029</td>\n",
              "      <td>-1.392191</td>\n",
              "      <td>-0.504260</td>\n",
              "      <td>-0.653029</td>\n",
              "    </tr>\n",
              "    <tr>\n",
              "      <th>5</th>\n",
              "      <td>1.151249</td>\n",
              "      <td>1.252078</td>\n",
              "      <td>1.674257</td>\n",
              "      <td>1.093864</td>\n",
              "      <td>-0.504260</td>\n",
              "      <td>1.244310</td>\n",
              "    </tr>\n",
              "    <tr>\n",
              "      <th>6</th>\n",
              "      <td>0.365860</td>\n",
              "      <td>0.262293</td>\n",
              "      <td>-0.076600</td>\n",
              "      <td>-0.397769</td>\n",
              "      <td>0.610127</td>\n",
              "      <td>-0.669819</td>\n",
              "    </tr>\n",
              "    <tr>\n",
              "      <th>7</th>\n",
              "      <td>-0.768590</td>\n",
              "      <td>-1.057420</td>\n",
              "      <td>-0.952029</td>\n",
              "      <td>-0.397769</td>\n",
              "      <td>0.610127</td>\n",
              "      <td>-1.173537</td>\n",
              "    </tr>\n",
              "    <tr>\n",
              "      <th>8</th>\n",
              "      <td>-1.292182</td>\n",
              "      <td>-0.892456</td>\n",
              "      <td>-1.827457</td>\n",
              "      <td>-1.392191</td>\n",
              "      <td>-2.175842</td>\n",
              "      <td>-1.005631</td>\n",
              "    </tr>\n",
              "    <tr>\n",
              "      <th>9</th>\n",
              "      <td>0.540391</td>\n",
              "      <td>0.097329</td>\n",
              "      <td>-0.076600</td>\n",
              "      <td>0.099442</td>\n",
              "      <td>-0.504260</td>\n",
              "      <td>0.001805</td>\n",
              "    </tr>\n",
              "    <tr>\n",
              "      <th>10</th>\n",
              "      <td>0.714922</td>\n",
              "      <td>-0.232599</td>\n",
              "      <td>-0.076600</td>\n",
              "      <td>0.099442</td>\n",
              "      <td>0.610127</td>\n",
              "      <td>-0.334007</td>\n",
              "    </tr>\n",
              "    <tr>\n",
              "      <th>11</th>\n",
              "      <td>0.889453</td>\n",
              "      <td>0.592221</td>\n",
              "      <td>0.798829</td>\n",
              "      <td>0.596653</td>\n",
              "      <td>1.167321</td>\n",
              "      <td>0.673429</td>\n",
              "    </tr>\n",
              "    <tr>\n",
              "      <th>12</th>\n",
              "      <td>0.976718</td>\n",
              "      <td>0.757186</td>\n",
              "      <td>0.798829</td>\n",
              "      <td>0.596653</td>\n",
              "      <td>1.167321</td>\n",
              "      <td>0.841335</td>\n",
              "    </tr>\n",
              "    <tr>\n",
              "      <th>13</th>\n",
              "      <td>-0.855855</td>\n",
              "      <td>0.262293</td>\n",
              "      <td>-0.076600</td>\n",
              "      <td>0.596653</td>\n",
              "      <td>-0.504260</td>\n",
              "      <td>-1.005631</td>\n",
              "    </tr>\n",
              "    <tr>\n",
              "      <th>14</th>\n",
              "      <td>-0.506794</td>\n",
              "      <td>-0.562528</td>\n",
              "      <td>-0.076600</td>\n",
              "      <td>0.099442</td>\n",
              "      <td>-1.618648</td>\n",
              "      <td>-0.669819</td>\n",
              "    </tr>\n",
              "    <tr>\n",
              "      <th>15</th>\n",
              "      <td>-0.244998</td>\n",
              "      <td>-0.397564</td>\n",
              "      <td>-0.076600</td>\n",
              "      <td>0.099442</td>\n",
              "      <td>-1.061454</td>\n",
              "      <td>-0.501913</td>\n",
              "    </tr>\n",
              "    <tr>\n",
              "      <th>16</th>\n",
              "      <td>0.016799</td>\n",
              "      <td>-0.067635</td>\n",
              "      <td>-0.076600</td>\n",
              "      <td>0.596653</td>\n",
              "      <td>-0.504260</td>\n",
              "      <td>0.169711</td>\n",
              "    </tr>\n",
              "    <tr>\n",
              "      <th>17</th>\n",
              "      <td>0.191329</td>\n",
              "      <td>-0.232599</td>\n",
              "      <td>-0.076600</td>\n",
              "      <td>0.596653</td>\n",
              "      <td>-0.504260</td>\n",
              "      <td>-1.005631</td>\n",
              "    </tr>\n",
              "    <tr>\n",
              "      <th>18</th>\n",
              "      <td>0.104064</td>\n",
              "      <td>0.427257</td>\n",
              "      <td>-0.076600</td>\n",
              "      <td>0.596653</td>\n",
              "      <td>-0.504260</td>\n",
              "      <td>0.337617</td>\n",
              "    </tr>\n",
              "    <tr>\n",
              "      <th>19</th>\n",
              "      <td>-1.204917</td>\n",
              "      <td>-0.892456</td>\n",
              "      <td>-0.076600</td>\n",
              "      <td>0.099442</td>\n",
              "      <td>-0.504260</td>\n",
              "      <td>-0.166101</td>\n",
              "    </tr>\n",
              "  </tbody>\n",
              "</table>\n",
              "</div>"
            ],
            "text/plain": [
              "    GRE Score  TOEFL Score  University Rating       SOP       LOR      CGPA\n",
              "0    1.762107     1.746971           0.798829  1.093864  1.167321  1.764818\n",
              "1    0.627656    -0.067635           0.798829  0.596653  1.167321  0.455151\n",
              "2   -0.070467    -0.562528          -0.076600 -0.397769  0.052933 -1.005631\n",
              "3    0.453126     0.427257          -0.076600  0.099442 -1.061454  0.119339\n",
              "4   -0.244998    -0.727492          -0.952029 -1.392191 -0.504260 -0.653029\n",
              "5    1.151249     1.252078           1.674257  1.093864 -0.504260  1.244310\n",
              "6    0.365860     0.262293          -0.076600 -0.397769  0.610127 -0.669819\n",
              "7   -0.768590    -1.057420          -0.952029 -0.397769  0.610127 -1.173537\n",
              "8   -1.292182    -0.892456          -1.827457 -1.392191 -2.175842 -1.005631\n",
              "9    0.540391     0.097329          -0.076600  0.099442 -0.504260  0.001805\n",
              "10   0.714922    -0.232599          -0.076600  0.099442  0.610127 -0.334007\n",
              "11   0.889453     0.592221           0.798829  0.596653  1.167321  0.673429\n",
              "12   0.976718     0.757186           0.798829  0.596653  1.167321  0.841335\n",
              "13  -0.855855     0.262293          -0.076600  0.596653 -0.504260 -1.005631\n",
              "14  -0.506794    -0.562528          -0.076600  0.099442 -1.618648 -0.669819\n",
              "15  -0.244998    -0.397564          -0.076600  0.099442 -1.061454 -0.501913\n",
              "16   0.016799    -0.067635          -0.076600  0.596653 -0.504260  0.169711\n",
              "17   0.191329    -0.232599          -0.076600  0.596653 -0.504260 -1.005631\n",
              "18   0.104064     0.427257          -0.076600  0.596653 -0.504260  0.337617\n",
              "19  -1.204917    -0.892456          -0.076600  0.099442 -0.504260 -0.166101"
            ]
          },
          "metadata": {
            "tags": []
          },
          "execution_count": 9
        }
      ]
    },
    {
      "cell_type": "code",
      "metadata": {
        "colab": {
          "base_uri": "https://localhost:8080/"
        },
        "id": "3P1x-d--tQD3",
        "outputId": "4691ece1-8334-4010-c0f7-d3224ed61841"
      },
      "source": [
        "df_cat.columns"
      ],
      "execution_count": 10,
      "outputs": [
        {
          "output_type": "execute_result",
          "data": {
            "text/plain": [
              "Index(['Research'], dtype='object')"
            ]
          },
          "metadata": {
            "tags": []
          },
          "execution_count": 10
        }
      ]
    },
    {
      "cell_type": "code",
      "metadata": {
        "id": "K_xJFieluhEA"
      },
      "source": [
        "df_dummy=pd.get_dummies(data=df_cat,drop_first=True)"
      ],
      "execution_count": 11,
      "outputs": []
    },
    {
      "cell_type": "code",
      "metadata": {
        "id": "8eKywcyRurcc"
      },
      "source": [
        "df_concat=pd.concat([num_scale_dataframe,df_dummy],axis=1)"
      ],
      "execution_count": 12,
      "outputs": []
    },
    {
      "cell_type": "code",
      "metadata": {
        "colab": {
          "base_uri": "https://localhost:8080/",
          "height": 669
        },
        "id": "9ZeVvrhZuz9v",
        "outputId": "7d0adcc5-8f40-42e1-e4e3-84ef89ad354a"
      },
      "source": [
        "df_concat.head(20)"
      ],
      "execution_count": 13,
      "outputs": [
        {
          "output_type": "execute_result",
          "data": {
            "text/html": [
              "<div>\n",
              "<style scoped>\n",
              "    .dataframe tbody tr th:only-of-type {\n",
              "        vertical-align: middle;\n",
              "    }\n",
              "\n",
              "    .dataframe tbody tr th {\n",
              "        vertical-align: top;\n",
              "    }\n",
              "\n",
              "    .dataframe thead th {\n",
              "        text-align: right;\n",
              "    }\n",
              "</style>\n",
              "<table border=\"1\" class=\"dataframe\">\n",
              "  <thead>\n",
              "    <tr style=\"text-align: right;\">\n",
              "      <th></th>\n",
              "      <th>GRE Score</th>\n",
              "      <th>TOEFL Score</th>\n",
              "      <th>University Rating</th>\n",
              "      <th>SOP</th>\n",
              "      <th>LOR</th>\n",
              "      <th>CGPA</th>\n",
              "      <th>Research_1</th>\n",
              "    </tr>\n",
              "  </thead>\n",
              "  <tbody>\n",
              "    <tr>\n",
              "      <th>0</th>\n",
              "      <td>1.762107</td>\n",
              "      <td>1.746971</td>\n",
              "      <td>0.798829</td>\n",
              "      <td>1.093864</td>\n",
              "      <td>1.167321</td>\n",
              "      <td>1.764818</td>\n",
              "      <td>1</td>\n",
              "    </tr>\n",
              "    <tr>\n",
              "      <th>1</th>\n",
              "      <td>0.627656</td>\n",
              "      <td>-0.067635</td>\n",
              "      <td>0.798829</td>\n",
              "      <td>0.596653</td>\n",
              "      <td>1.167321</td>\n",
              "      <td>0.455151</td>\n",
              "      <td>1</td>\n",
              "    </tr>\n",
              "    <tr>\n",
              "      <th>2</th>\n",
              "      <td>-0.070467</td>\n",
              "      <td>-0.562528</td>\n",
              "      <td>-0.076600</td>\n",
              "      <td>-0.397769</td>\n",
              "      <td>0.052933</td>\n",
              "      <td>-1.005631</td>\n",
              "      <td>1</td>\n",
              "    </tr>\n",
              "    <tr>\n",
              "      <th>3</th>\n",
              "      <td>0.453126</td>\n",
              "      <td>0.427257</td>\n",
              "      <td>-0.076600</td>\n",
              "      <td>0.099442</td>\n",
              "      <td>-1.061454</td>\n",
              "      <td>0.119339</td>\n",
              "      <td>1</td>\n",
              "    </tr>\n",
              "    <tr>\n",
              "      <th>4</th>\n",
              "      <td>-0.244998</td>\n",
              "      <td>-0.727492</td>\n",
              "      <td>-0.952029</td>\n",
              "      <td>-1.392191</td>\n",
              "      <td>-0.504260</td>\n",
              "      <td>-0.653029</td>\n",
              "      <td>0</td>\n",
              "    </tr>\n",
              "    <tr>\n",
              "      <th>5</th>\n",
              "      <td>1.151249</td>\n",
              "      <td>1.252078</td>\n",
              "      <td>1.674257</td>\n",
              "      <td>1.093864</td>\n",
              "      <td>-0.504260</td>\n",
              "      <td>1.244310</td>\n",
              "      <td>1</td>\n",
              "    </tr>\n",
              "    <tr>\n",
              "      <th>6</th>\n",
              "      <td>0.365860</td>\n",
              "      <td>0.262293</td>\n",
              "      <td>-0.076600</td>\n",
              "      <td>-0.397769</td>\n",
              "      <td>0.610127</td>\n",
              "      <td>-0.669819</td>\n",
              "      <td>1</td>\n",
              "    </tr>\n",
              "    <tr>\n",
              "      <th>7</th>\n",
              "      <td>-0.768590</td>\n",
              "      <td>-1.057420</td>\n",
              "      <td>-0.952029</td>\n",
              "      <td>-0.397769</td>\n",
              "      <td>0.610127</td>\n",
              "      <td>-1.173537</td>\n",
              "      <td>0</td>\n",
              "    </tr>\n",
              "    <tr>\n",
              "      <th>8</th>\n",
              "      <td>-1.292182</td>\n",
              "      <td>-0.892456</td>\n",
              "      <td>-1.827457</td>\n",
              "      <td>-1.392191</td>\n",
              "      <td>-2.175842</td>\n",
              "      <td>-1.005631</td>\n",
              "      <td>0</td>\n",
              "    </tr>\n",
              "    <tr>\n",
              "      <th>9</th>\n",
              "      <td>0.540391</td>\n",
              "      <td>0.097329</td>\n",
              "      <td>-0.076600</td>\n",
              "      <td>0.099442</td>\n",
              "      <td>-0.504260</td>\n",
              "      <td>0.001805</td>\n",
              "      <td>0</td>\n",
              "    </tr>\n",
              "    <tr>\n",
              "      <th>10</th>\n",
              "      <td>0.714922</td>\n",
              "      <td>-0.232599</td>\n",
              "      <td>-0.076600</td>\n",
              "      <td>0.099442</td>\n",
              "      <td>0.610127</td>\n",
              "      <td>-0.334007</td>\n",
              "      <td>1</td>\n",
              "    </tr>\n",
              "    <tr>\n",
              "      <th>11</th>\n",
              "      <td>0.889453</td>\n",
              "      <td>0.592221</td>\n",
              "      <td>0.798829</td>\n",
              "      <td>0.596653</td>\n",
              "      <td>1.167321</td>\n",
              "      <td>0.673429</td>\n",
              "      <td>1</td>\n",
              "    </tr>\n",
              "    <tr>\n",
              "      <th>12</th>\n",
              "      <td>0.976718</td>\n",
              "      <td>0.757186</td>\n",
              "      <td>0.798829</td>\n",
              "      <td>0.596653</td>\n",
              "      <td>1.167321</td>\n",
              "      <td>0.841335</td>\n",
              "      <td>1</td>\n",
              "    </tr>\n",
              "    <tr>\n",
              "      <th>13</th>\n",
              "      <td>-0.855855</td>\n",
              "      <td>0.262293</td>\n",
              "      <td>-0.076600</td>\n",
              "      <td>0.596653</td>\n",
              "      <td>-0.504260</td>\n",
              "      <td>-1.005631</td>\n",
              "      <td>1</td>\n",
              "    </tr>\n",
              "    <tr>\n",
              "      <th>14</th>\n",
              "      <td>-0.506794</td>\n",
              "      <td>-0.562528</td>\n",
              "      <td>-0.076600</td>\n",
              "      <td>0.099442</td>\n",
              "      <td>-1.618648</td>\n",
              "      <td>-0.669819</td>\n",
              "      <td>1</td>\n",
              "    </tr>\n",
              "    <tr>\n",
              "      <th>15</th>\n",
              "      <td>-0.244998</td>\n",
              "      <td>-0.397564</td>\n",
              "      <td>-0.076600</td>\n",
              "      <td>0.099442</td>\n",
              "      <td>-1.061454</td>\n",
              "      <td>-0.501913</td>\n",
              "      <td>0</td>\n",
              "    </tr>\n",
              "    <tr>\n",
              "      <th>16</th>\n",
              "      <td>0.016799</td>\n",
              "      <td>-0.067635</td>\n",
              "      <td>-0.076600</td>\n",
              "      <td>0.596653</td>\n",
              "      <td>-0.504260</td>\n",
              "      <td>0.169711</td>\n",
              "      <td>0</td>\n",
              "    </tr>\n",
              "    <tr>\n",
              "      <th>17</th>\n",
              "      <td>0.191329</td>\n",
              "      <td>-0.232599</td>\n",
              "      <td>-0.076600</td>\n",
              "      <td>0.596653</td>\n",
              "      <td>-0.504260</td>\n",
              "      <td>-1.005631</td>\n",
              "      <td>1</td>\n",
              "    </tr>\n",
              "    <tr>\n",
              "      <th>18</th>\n",
              "      <td>0.104064</td>\n",
              "      <td>0.427257</td>\n",
              "      <td>-0.076600</td>\n",
              "      <td>0.596653</td>\n",
              "      <td>-0.504260</td>\n",
              "      <td>0.337617</td>\n",
              "      <td>0</td>\n",
              "    </tr>\n",
              "    <tr>\n",
              "      <th>19</th>\n",
              "      <td>-1.204917</td>\n",
              "      <td>-0.892456</td>\n",
              "      <td>-0.076600</td>\n",
              "      <td>0.099442</td>\n",
              "      <td>-0.504260</td>\n",
              "      <td>-0.166101</td>\n",
              "      <td>0</td>\n",
              "    </tr>\n",
              "  </tbody>\n",
              "</table>\n",
              "</div>"
            ],
            "text/plain": [
              "    GRE Score  TOEFL Score  University Rating  ...       LOR      CGPA  Research_1\n",
              "0    1.762107     1.746971           0.798829  ...  1.167321  1.764818           1\n",
              "1    0.627656    -0.067635           0.798829  ...  1.167321  0.455151           1\n",
              "2   -0.070467    -0.562528          -0.076600  ...  0.052933 -1.005631           1\n",
              "3    0.453126     0.427257          -0.076600  ... -1.061454  0.119339           1\n",
              "4   -0.244998    -0.727492          -0.952029  ... -0.504260 -0.653029           0\n",
              "5    1.151249     1.252078           1.674257  ... -0.504260  1.244310           1\n",
              "6    0.365860     0.262293          -0.076600  ...  0.610127 -0.669819           1\n",
              "7   -0.768590    -1.057420          -0.952029  ...  0.610127 -1.173537           0\n",
              "8   -1.292182    -0.892456          -1.827457  ... -2.175842 -1.005631           0\n",
              "9    0.540391     0.097329          -0.076600  ... -0.504260  0.001805           0\n",
              "10   0.714922    -0.232599          -0.076600  ...  0.610127 -0.334007           1\n",
              "11   0.889453     0.592221           0.798829  ...  1.167321  0.673429           1\n",
              "12   0.976718     0.757186           0.798829  ...  1.167321  0.841335           1\n",
              "13  -0.855855     0.262293          -0.076600  ... -0.504260 -1.005631           1\n",
              "14  -0.506794    -0.562528          -0.076600  ... -1.618648 -0.669819           1\n",
              "15  -0.244998    -0.397564          -0.076600  ... -1.061454 -0.501913           0\n",
              "16   0.016799    -0.067635          -0.076600  ... -0.504260  0.169711           0\n",
              "17   0.191329    -0.232599          -0.076600  ... -0.504260 -1.005631           1\n",
              "18   0.104064     0.427257          -0.076600  ... -0.504260  0.337617           0\n",
              "19  -1.204917    -0.892456          -0.076600  ... -0.504260 -0.166101           0\n",
              "\n",
              "[20 rows x 7 columns]"
            ]
          },
          "metadata": {
            "tags": []
          },
          "execution_count": 13
        }
      ]
    },
    {
      "cell_type": "code",
      "metadata": {
        "id": "OcnnxxQku2nE"
      },
      "source": [
        "from sklearn.model_selection import train_test_split\n",
        "X_train, X_test, y_train, y_test = train_test_split(df_concat, df_target, random_state = 10, test_size = 0.2)"
      ],
      "execution_count": 14,
      "outputs": []
    },
    {
      "cell_type": "code",
      "metadata": {
        "id": "jf_-l2asvICa"
      },
      "source": [
        "from sklearn.tree import DecisionTreeClassifier\n",
        "dtc=DecisionTreeClassifier()"
      ],
      "execution_count": 15,
      "outputs": []
    },
    {
      "cell_type": "code",
      "metadata": {
        "colab": {
          "base_uri": "https://localhost:8080/"
        },
        "id": "kWrQUB1DvX5P",
        "outputId": "9e250f6c-dea7-4036-c082-0f544e779a41"
      },
      "source": [
        "dtc.fit(X_train,y_train)"
      ],
      "execution_count": 16,
      "outputs": [
        {
          "output_type": "execute_result",
          "data": {
            "text/plain": [
              "DecisionTreeClassifier(ccp_alpha=0.0, class_weight=None, criterion='gini',\n",
              "                       max_depth=None, max_features=None, max_leaf_nodes=None,\n",
              "                       min_impurity_decrease=0.0, min_impurity_split=None,\n",
              "                       min_samples_leaf=1, min_samples_split=2,\n",
              "                       min_weight_fraction_leaf=0.0, presort='deprecated',\n",
              "                       random_state=None, splitter='best')"
            ]
          },
          "metadata": {
            "tags": []
          },
          "execution_count": 16
        }
      ]
    },
    {
      "cell_type": "code",
      "metadata": {
        "id": "xUOc6li4vg9x"
      },
      "source": [
        "Y_predict=dtc.predict(X_test)"
      ],
      "execution_count": 17,
      "outputs": []
    },
    {
      "cell_type": "code",
      "metadata": {
        "id": "eYDjWIFavwsD"
      },
      "source": [
        "from sklearn.metrics import confusion_matrix,accuracy_score,recall_score,precision_score,f1_score"
      ],
      "execution_count": 18,
      "outputs": []
    },
    {
      "cell_type": "code",
      "metadata": {
        "colab": {
          "base_uri": "https://localhost:8080/"
        },
        "id": "43Ld8yw8wEq2",
        "outputId": "7540a0bd-a15a-4738-ebb3-fd9944a807d2"
      },
      "source": [
        "confusion_matrix(y_test,Y_predict)"
      ],
      "execution_count": 19,
      "outputs": [
        {
          "output_type": "execute_result",
          "data": {
            "text/plain": [
              "array([[33,  9],\n",
              "       [ 7, 31]])"
            ]
          },
          "metadata": {
            "tags": []
          },
          "execution_count": 19
        }
      ]
    },
    {
      "cell_type": "code",
      "metadata": {
        "colab": {
          "base_uri": "https://localhost:8080/"
        },
        "id": "KUnH18Zev_eJ",
        "outputId": "5a28e2c9-0544-432d-abe2-5a6e83d7dd3d"
      },
      "source": [
        "accuracy_score(y_test,Y_predict)"
      ],
      "execution_count": 20,
      "outputs": [
        {
          "output_type": "execute_result",
          "data": {
            "text/plain": [
              "0.8"
            ]
          },
          "metadata": {
            "tags": []
          },
          "execution_count": 20
        }
      ]
    },
    {
      "cell_type": "code",
      "metadata": {
        "colab": {
          "base_uri": "https://localhost:8080/"
        },
        "id": "2yMsQLUiwoTd",
        "outputId": "85d43fcf-fddf-44d3-f0f7-73e56e0fcd54"
      },
      "source": [
        "recall_score(y_test,Y_predict)"
      ],
      "execution_count": 21,
      "outputs": [
        {
          "output_type": "execute_result",
          "data": {
            "text/plain": [
              "0.8157894736842105"
            ]
          },
          "metadata": {
            "tags": []
          },
          "execution_count": 21
        }
      ]
    },
    {
      "cell_type": "code",
      "metadata": {
        "colab": {
          "base_uri": "https://localhost:8080/"
        },
        "id": "kLxq3LnRwsgQ",
        "outputId": "d37be0de-0ab1-411d-f1b5-8335946aa59e"
      },
      "source": [
        "precision_score(y_test,Y_predict)"
      ],
      "execution_count": 22,
      "outputs": [
        {
          "output_type": "execute_result",
          "data": {
            "text/plain": [
              "0.775"
            ]
          },
          "metadata": {
            "tags": []
          },
          "execution_count": 22
        }
      ]
    },
    {
      "cell_type": "code",
      "metadata": {
        "colab": {
          "base_uri": "https://localhost:8080/"
        },
        "id": "5ZDoi8ZswzJ1",
        "outputId": "352edec4-4835-4812-9e6e-665adf1f6733"
      },
      "source": [
        "f1_score(y_test,Y_predict)"
      ],
      "execution_count": 23,
      "outputs": [
        {
          "output_type": "execute_result",
          "data": {
            "text/plain": [
              "0.7948717948717949"
            ]
          },
          "metadata": {
            "tags": []
          },
          "execution_count": 23
        }
      ]
    },
    {
      "cell_type": "code",
      "metadata": {
        "id": "1MGG1JB8w3XL"
      },
      "source": [
        "from sklearn.metrics import classification_report"
      ],
      "execution_count": 24,
      "outputs": []
    },
    {
      "cell_type": "code",
      "metadata": {
        "colab": {
          "base_uri": "https://localhost:8080/"
        },
        "id": "tUZfHrLYxKrt",
        "outputId": "44c50aa7-c440-4dda-9551-b674d009975f"
      },
      "source": [
        "print(classification_report(y_test,Y_predict))"
      ],
      "execution_count": 25,
      "outputs": [
        {
          "output_type": "stream",
          "text": [
            "              precision    recall  f1-score   support\n",
            "\n",
            "           0       0.82      0.79      0.80        42\n",
            "           1       0.78      0.82      0.79        38\n",
            "\n",
            "    accuracy                           0.80        80\n",
            "   macro avg       0.80      0.80      0.80        80\n",
            "weighted avg       0.80      0.80      0.80        80\n",
            "\n"
          ],
          "name": "stdout"
        }
      ]
    },
    {
      "cell_type": "code",
      "metadata": {
        "id": "dcGKEYmhxUQy"
      },
      "source": [
        ""
      ],
      "execution_count": 25,
      "outputs": []
    }
  ]
}