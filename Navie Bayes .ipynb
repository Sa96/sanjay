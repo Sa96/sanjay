{
 "cells": [
  {
   "cell_type": "code",
   "execution_count": 1,
   "id": "fiscal-composer",
   "metadata": {},
   "outputs": [],
   "source": [
    "import pandas as pd\n",
    "import numpy as np\n",
    "import matplotlib.pyplot as plt\n",
    "import seaborn as sns"
   ]
  },
  {
   "cell_type": "code",
   "execution_count": 2,
   "id": "understanding-luther",
   "metadata": {},
   "outputs": [],
   "source": [
    "admission=pd.read_csv('C:/Users/welcome/Excel Documents/Admission_Predict.csv')"
   ]
  },
  {
   "cell_type": "code",
   "execution_count": 3,
   "id": "blond-hughes",
   "metadata": {},
   "outputs": [
    {
     "data": {
      "text/html": [
       "<div>\n",
       "<style scoped>\n",
       "    .dataframe tbody tr th:only-of-type {\n",
       "        vertical-align: middle;\n",
       "    }\n",
       "\n",
       "    .dataframe tbody tr th {\n",
       "        vertical-align: top;\n",
       "    }\n",
       "\n",
       "    .dataframe thead th {\n",
       "        text-align: right;\n",
       "    }\n",
       "</style>\n",
       "<table border=\"1\" class=\"dataframe\">\n",
       "  <thead>\n",
       "    <tr style=\"text-align: right;\">\n",
       "      <th></th>\n",
       "      <th>Serial No.</th>\n",
       "      <th>GRE Score</th>\n",
       "      <th>TOEFL Score</th>\n",
       "      <th>University Rating</th>\n",
       "      <th>SOP</th>\n",
       "      <th>LOR</th>\n",
       "      <th>CGPA</th>\n",
       "      <th>Research</th>\n",
       "      <th>Chance of Admit</th>\n",
       "    </tr>\n",
       "  </thead>\n",
       "  <tbody>\n",
       "    <tr>\n",
       "      <th>0</th>\n",
       "      <td>1</td>\n",
       "      <td>337</td>\n",
       "      <td>118</td>\n",
       "      <td>4</td>\n",
       "      <td>4.5</td>\n",
       "      <td>4.5</td>\n",
       "      <td>9.65</td>\n",
       "      <td>1</td>\n",
       "      <td>1</td>\n",
       "    </tr>\n",
       "    <tr>\n",
       "      <th>1</th>\n",
       "      <td>2</td>\n",
       "      <td>324</td>\n",
       "      <td>107</td>\n",
       "      <td>4</td>\n",
       "      <td>4.0</td>\n",
       "      <td>4.5</td>\n",
       "      <td>8.87</td>\n",
       "      <td>1</td>\n",
       "      <td>1</td>\n",
       "    </tr>\n",
       "    <tr>\n",
       "      <th>2</th>\n",
       "      <td>3</td>\n",
       "      <td>316</td>\n",
       "      <td>104</td>\n",
       "      <td>3</td>\n",
       "      <td>3.0</td>\n",
       "      <td>3.5</td>\n",
       "      <td>8.00</td>\n",
       "      <td>1</td>\n",
       "      <td>0</td>\n",
       "    </tr>\n",
       "    <tr>\n",
       "      <th>3</th>\n",
       "      <td>4</td>\n",
       "      <td>322</td>\n",
       "      <td>110</td>\n",
       "      <td>3</td>\n",
       "      <td>3.5</td>\n",
       "      <td>2.5</td>\n",
       "      <td>8.67</td>\n",
       "      <td>1</td>\n",
       "      <td>1</td>\n",
       "    </tr>\n",
       "    <tr>\n",
       "      <th>4</th>\n",
       "      <td>5</td>\n",
       "      <td>314</td>\n",
       "      <td>103</td>\n",
       "      <td>2</td>\n",
       "      <td>2.0</td>\n",
       "      <td>3.0</td>\n",
       "      <td>8.21</td>\n",
       "      <td>0</td>\n",
       "      <td>0</td>\n",
       "    </tr>\n",
       "    <tr>\n",
       "      <th>...</th>\n",
       "      <td>...</td>\n",
       "      <td>...</td>\n",
       "      <td>...</td>\n",
       "      <td>...</td>\n",
       "      <td>...</td>\n",
       "      <td>...</td>\n",
       "      <td>...</td>\n",
       "      <td>...</td>\n",
       "      <td>...</td>\n",
       "    </tr>\n",
       "    <tr>\n",
       "      <th>395</th>\n",
       "      <td>396</td>\n",
       "      <td>324</td>\n",
       "      <td>110</td>\n",
       "      <td>3</td>\n",
       "      <td>3.5</td>\n",
       "      <td>3.5</td>\n",
       "      <td>9.04</td>\n",
       "      <td>1</td>\n",
       "      <td>1</td>\n",
       "    </tr>\n",
       "    <tr>\n",
       "      <th>396</th>\n",
       "      <td>397</td>\n",
       "      <td>325</td>\n",
       "      <td>107</td>\n",
       "      <td>3</td>\n",
       "      <td>3.0</td>\n",
       "      <td>3.5</td>\n",
       "      <td>9.11</td>\n",
       "      <td>1</td>\n",
       "      <td>1</td>\n",
       "    </tr>\n",
       "    <tr>\n",
       "      <th>397</th>\n",
       "      <td>398</td>\n",
       "      <td>330</td>\n",
       "      <td>116</td>\n",
       "      <td>4</td>\n",
       "      <td>5.0</td>\n",
       "      <td>4.5</td>\n",
       "      <td>9.45</td>\n",
       "      <td>1</td>\n",
       "      <td>1</td>\n",
       "    </tr>\n",
       "    <tr>\n",
       "      <th>398</th>\n",
       "      <td>399</td>\n",
       "      <td>312</td>\n",
       "      <td>103</td>\n",
       "      <td>3</td>\n",
       "      <td>3.5</td>\n",
       "      <td>4.0</td>\n",
       "      <td>8.78</td>\n",
       "      <td>0</td>\n",
       "      <td>0</td>\n",
       "    </tr>\n",
       "    <tr>\n",
       "      <th>399</th>\n",
       "      <td>400</td>\n",
       "      <td>333</td>\n",
       "      <td>117</td>\n",
       "      <td>4</td>\n",
       "      <td>5.0</td>\n",
       "      <td>4.0</td>\n",
       "      <td>9.66</td>\n",
       "      <td>1</td>\n",
       "      <td>1</td>\n",
       "    </tr>\n",
       "  </tbody>\n",
       "</table>\n",
       "<p>400 rows × 9 columns</p>\n",
       "</div>"
      ],
      "text/plain": [
       "     Serial No.  GRE Score  TOEFL Score  University Rating  SOP  LOR  CGPA  \\\n",
       "0             1        337          118                  4  4.5  4.5  9.65   \n",
       "1             2        324          107                  4  4.0  4.5  8.87   \n",
       "2             3        316          104                  3  3.0  3.5  8.00   \n",
       "3             4        322          110                  3  3.5  2.5  8.67   \n",
       "4             5        314          103                  2  2.0  3.0  8.21   \n",
       "..          ...        ...          ...                ...  ...  ...   ...   \n",
       "395         396        324          110                  3  3.5  3.5  9.04   \n",
       "396         397        325          107                  3  3.0  3.5  9.11   \n",
       "397         398        330          116                  4  5.0  4.5  9.45   \n",
       "398         399        312          103                  3  3.5  4.0  8.78   \n",
       "399         400        333          117                  4  5.0  4.0  9.66   \n",
       "\n",
       "     Research  Chance of Admit  \n",
       "0           1                1  \n",
       "1           1                1  \n",
       "2           1                0  \n",
       "3           1                1  \n",
       "4           0                0  \n",
       "..        ...              ...  \n",
       "395         1                1  \n",
       "396         1                1  \n",
       "397         1                1  \n",
       "398         0                0  \n",
       "399         1                1  \n",
       "\n",
       "[400 rows x 9 columns]"
      ]
     },
     "execution_count": 3,
     "metadata": {},
     "output_type": "execute_result"
    }
   ],
   "source": [
    "admission"
   ]
  },
  {
   "cell_type": "code",
   "execution_count": 4,
   "id": "median-consumption",
   "metadata": {},
   "outputs": [],
   "source": [
    "admission['Research']=admission['Research'].astype(object)"
   ]
  },
  {
   "cell_type": "code",
   "execution_count": 5,
   "id": "minimal-designation",
   "metadata": {},
   "outputs": [],
   "source": [
    "df_target=admission['Chance of Admit']"
   ]
  },
  {
   "cell_type": "code",
   "execution_count": 6,
   "id": "opened-antarctica",
   "metadata": {},
   "outputs": [],
   "source": [
    "df_feature=admission.drop(columns='Chance of Admit')"
   ]
  },
  {
   "cell_type": "code",
   "execution_count": 7,
   "id": "aquatic-latest",
   "metadata": {},
   "outputs": [],
   "source": [
    "df_num=df_feature.select_dtypes(include=np.number)"
   ]
  },
  {
   "cell_type": "code",
   "execution_count": 8,
   "id": "nutritional-peoples",
   "metadata": {},
   "outputs": [],
   "source": [
    "df_cat=df_feature.select_dtypes(include=object)"
   ]
  },
  {
   "cell_type": "code",
   "execution_count": 9,
   "id": "married-dispute",
   "metadata": {},
   "outputs": [
    {
     "data": {
      "text/plain": [
       "(Index(['Serial No.', 'GRE Score', 'TOEFL Score', 'University Rating', 'SOP',\n",
       "        'LOR', 'CGPA'],\n",
       "       dtype='object'),\n",
       " Index(['Research'], dtype='object'))"
      ]
     },
     "execution_count": 9,
     "metadata": {},
     "output_type": "execute_result"
    }
   ],
   "source": [
    "df_num.columns,df_cat.columns"
   ]
  },
  {
   "cell_type": "code",
   "execution_count": 10,
   "id": "pursuant-madonna",
   "metadata": {},
   "outputs": [],
   "source": [
    "from sklearn.model_selection import train_test_split"
   ]
  },
  {
   "cell_type": "code",
   "execution_count": 11,
   "id": "selective-march",
   "metadata": {},
   "outputs": [],
   "source": [
    "X_train, X_test, y_train, y_test = train_test_split(df_num, df_target, random_state = 10, test_size = 0.2)"
   ]
  },
  {
   "cell_type": "markdown",
   "id": "nominated-penalty",
   "metadata": {},
   "source": [
    "# Naive Bayes"
   ]
  },
  {
   "cell_type": "code",
   "execution_count": 12,
   "id": "loved-officer",
   "metadata": {},
   "outputs": [],
   "source": [
    "from sklearn.naive_bayes import MultinomialNB,GaussianNB,BernoulliNB"
   ]
  },
  {
   "cell_type": "markdown",
   "id": "baking-punch",
   "metadata": {},
   "source": [
    "# Multinominal NB"
   ]
  },
  {
   "cell_type": "code",
   "execution_count": 13,
   "id": "acquired-hardware",
   "metadata": {},
   "outputs": [],
   "source": [
    "nb_1=MultinomialNB()"
   ]
  },
  {
   "cell_type": "code",
   "execution_count": 14,
   "id": "received-running",
   "metadata": {},
   "outputs": [
    {
     "data": {
      "text/plain": [
       "MultinomialNB()"
      ]
     },
     "execution_count": 14,
     "metadata": {},
     "output_type": "execute_result"
    }
   ],
   "source": [
    "nb_1.fit(X_train,y_train)"
   ]
  },
  {
   "cell_type": "code",
   "execution_count": 15,
   "id": "joined-statistics",
   "metadata": {},
   "outputs": [],
   "source": [
    "from sklearn.metrics import confusion_matrix,accuracy_score,recall_score,precision_score,roc_auc_score,roc_curve"
   ]
  },
  {
   "cell_type": "code",
   "execution_count": 16,
   "id": "worthy-regulation",
   "metadata": {},
   "outputs": [
    {
     "data": {
      "text/plain": [
       "array([[31, 11],\n",
       "       [17, 21]], dtype=int64)"
      ]
     },
     "execution_count": 16,
     "metadata": {},
     "output_type": "execute_result"
    }
   ],
   "source": [
    "confusion_matrix(y_test,nb_1.predict(X_test))"
   ]
  },
  {
   "cell_type": "code",
   "execution_count": 17,
   "id": "optimum-prisoner",
   "metadata": {},
   "outputs": [
    {
     "data": {
      "text/plain": [
       "0.65"
      ]
     },
     "execution_count": 17,
     "metadata": {},
     "output_type": "execute_result"
    }
   ],
   "source": [
    "accuracy_score(y_test,nb_1.predict(X_test))"
   ]
  },
  {
   "cell_type": "code",
   "execution_count": 18,
   "id": "backed-encyclopedia",
   "metadata": {},
   "outputs": [
    {
     "data": {
      "text/plain": [
       "0.5526315789473685"
      ]
     },
     "execution_count": 18,
     "metadata": {},
     "output_type": "execute_result"
    }
   ],
   "source": [
    "recall_score(y_test,nb_1.predict(X_test))"
   ]
  },
  {
   "cell_type": "code",
   "execution_count": 19,
   "id": "exposed-november",
   "metadata": {},
   "outputs": [
    {
     "data": {
      "text/plain": [
       "0.65625"
      ]
     },
     "execution_count": 19,
     "metadata": {},
     "output_type": "execute_result"
    }
   ],
   "source": [
    "precision_score(y_test,nb_1.predict(X_test))"
   ]
  },
  {
   "cell_type": "code",
   "execution_count": 20,
   "id": "realistic-poultry",
   "metadata": {},
   "outputs": [],
   "source": [
    "y_pred_proba=nb_1.predict_proba(X_test)"
   ]
  },
  {
   "cell_type": "code",
   "execution_count": 21,
   "id": "efficient-minneapolis",
   "metadata": {},
   "outputs": [
    {
     "data": {
      "text/plain": [
       "array([[0.31614628, 0.68385372],\n",
       "       [0.59032022, 0.40967978],\n",
       "       [0.33964242, 0.66035758],\n",
       "       [0.66914899, 0.33085101],\n",
       "       [0.88703384, 0.11296616],\n",
       "       [0.4800967 , 0.5199033 ],\n",
       "       [0.58195389, 0.41804611],\n",
       "       [0.3160335 , 0.6839665 ],\n",
       "       [0.48323432, 0.51676568],\n",
       "       [0.55529297, 0.44470703],\n",
       "       [0.60804289, 0.39195711],\n",
       "       [0.40553473, 0.59446527],\n",
       "       [0.29385164, 0.70614836],\n",
       "       [0.75892561, 0.24107439],\n",
       "       [0.72526908, 0.27473092],\n",
       "       [0.14906523, 0.85093477],\n",
       "       [0.86940334, 0.13059666],\n",
       "       [0.74280936, 0.25719064],\n",
       "       [0.71485514, 0.28514486],\n",
       "       [0.15074167, 0.84925833],\n",
       "       [0.63894581, 0.36105419],\n",
       "       [0.64689666, 0.35310334],\n",
       "       [0.19435052, 0.80564948],\n",
       "       [0.28413679, 0.71586321],\n",
       "       [0.21435057, 0.78564943],\n",
       "       [0.779136  , 0.220864  ],\n",
       "       [0.72979465, 0.27020535],\n",
       "       [0.28789604, 0.71210396],\n",
       "       [0.43300629, 0.56699371],\n",
       "       [0.16742414, 0.83257586],\n",
       "       [0.7730603 , 0.2269397 ],\n",
       "       [0.87703838, 0.12296162],\n",
       "       [0.50863307, 0.49136693],\n",
       "       [0.65679478, 0.34320522],\n",
       "       [0.49346734, 0.50653266],\n",
       "       [0.43106789, 0.56893211],\n",
       "       [0.65167147, 0.34832853],\n",
       "       [0.65705309, 0.34294691],\n",
       "       [0.71454793, 0.28545207],\n",
       "       [0.74519955, 0.25480045],\n",
       "       [0.31576814, 0.68423186],\n",
       "       [0.14103246, 0.85896754],\n",
       "       [0.85145677, 0.14854323],\n",
       "       [0.96243958, 0.03756042],\n",
       "       [0.56942121, 0.43057879],\n",
       "       [0.28402643, 0.71597357],\n",
       "       [0.63933774, 0.36066226],\n",
       "       [0.56613516, 0.43386484],\n",
       "       [0.4714632 , 0.5285368 ],\n",
       "       [0.76270326, 0.23729674],\n",
       "       [0.72981605, 0.27018395],\n",
       "       [0.52500819, 0.47499181],\n",
       "       [0.09374372, 0.90625628],\n",
       "       [0.54408005, 0.45591995],\n",
       "       [0.52872056, 0.47127944],\n",
       "       [0.59230817, 0.40769183],\n",
       "       [0.64921139, 0.35078861],\n",
       "       [0.69676462, 0.30323538],\n",
       "       [0.50229728, 0.49770272],\n",
       "       [0.50355325, 0.49644675],\n",
       "       [0.77498098, 0.22501902],\n",
       "       [0.36690373, 0.63309627],\n",
       "       [0.35735749, 0.64264251],\n",
       "       [0.33536603, 0.66463397],\n",
       "       [0.6143255 , 0.3856745 ],\n",
       "       [0.28048998, 0.71951002],\n",
       "       [0.70472266, 0.29527734],\n",
       "       [0.60623284, 0.39376716],\n",
       "       [0.42820455, 0.57179545],\n",
       "       [0.3558617 , 0.6441383 ],\n",
       "       [0.43875441, 0.56124559],\n",
       "       [0.20774412, 0.79225588],\n",
       "       [0.70628995, 0.29371005],\n",
       "       [0.86133591, 0.13866409],\n",
       "       [0.78750547, 0.21249453],\n",
       "       [0.59070669, 0.40929331],\n",
       "       [0.36880446, 0.63119554],\n",
       "       [0.48495869, 0.51504131],\n",
       "       [0.83746557, 0.16253443],\n",
       "       [0.93528152, 0.06471848]])"
      ]
     },
     "execution_count": 21,
     "metadata": {},
     "output_type": "execute_result"
    }
   ],
   "source": [
    "y_pred_proba"
   ]
  },
  {
   "cell_type": "code",
   "execution_count": 22,
   "id": "advanced-minute",
   "metadata": {},
   "outputs": [],
   "source": [
    "fpr,tpr,thresholds=roc_curve(y_test,y_pred_proba[:,1])"
   ]
  },
  {
   "cell_type": "code",
   "execution_count": 23,
   "id": "parental-chaos",
   "metadata": {},
   "outputs": [
    {
     "data": {
      "image/png": "[encoded data removed]",
      "text/plain": [
       "<Figure size 1080x576 with 1 Axes>"
      ]
     },
     "metadata": {
      "needs_background": "light"
     },
     "output_type": "display_data"
    }
   ],
   "source": [
    "plt.figure(figsize=(15,8))\n",
    "plt.plot(fpr,tpr)\n",
    "plt.plot([0,1],[0,1],'r--')\n",
    "plt.title('ROC curve for Multinomial Navie Bayes',fontsize=10)\n",
    "plt.xlabel('False Positive Rate',fontsize=10)\n",
    "plt.ylabel('True Positive Rate',fontsize=10)\n",
    "\n",
    "plt.text(x = 0.02, y = 0.9, s = ('AUC Score:', roc_auc_score(y_test, y_pred_proba[:,1])))\n",
    "plt.grid(True)"
   ]
  },
  {
   "cell_type": "markdown",
   "id": "pretty-switch",
   "metadata": {},
   "source": [
    "# Bernoulli NB"
   ]
  },
  {
   "cell_type": "code",
   "execution_count": 24,
   "id": "charitable-portland",
   "metadata": {},
   "outputs": [],
   "source": [
    "nb_2=BernoulliNB()"
   ]
  },
  {
   "cell_type": "code",
   "execution_count": 26,
   "id": "elementary-amateur",
   "metadata": {},
   "outputs": [
    {
     "data": {
      "text/plain": [
       "BernoulliNB()"
      ]
     },
     "execution_count": 26,
     "metadata": {},
     "output_type": "execute_result"
    }
   ],
   "source": [
    "nb_2.fit(X_train,y_train)"
   ]
  },
  {
   "cell_type": "code",
   "execution_count": 27,
   "id": "weekly-starter",
   "metadata": {},
   "outputs": [],
   "source": [
    "y_predict=nb_2.predict(X_test)"
   ]
  },
  {
   "cell_type": "code",
   "execution_count": 28,
   "id": "naughty-proposal",
   "metadata": {},
   "outputs": [],
   "source": [
    "y_pred_proba=nb_2.predict_proba(X_test)"
   ]
  },
  {
   "cell_type": "code",
   "execution_count": 29,
   "id": "joined-riding",
   "metadata": {},
   "outputs": [
    {
     "data": {
      "text/plain": [
       "array([[42,  0],\n",
       "       [38,  0]], dtype=int64)"
      ]
     },
     "execution_count": 29,
     "metadata": {},
     "output_type": "execute_result"
    }
   ],
   "source": [
    "confusion_matrix(y_test,y_predict)"
   ]
  },
  {
   "cell_type": "code",
   "execution_count": 30,
   "id": "traditional-aberdeen",
   "metadata": {},
   "outputs": [
    {
     "data": {
      "text/plain": [
       "0.525"
      ]
     },
     "execution_count": 30,
     "metadata": {},
     "output_type": "execute_result"
    }
   ],
   "source": [
    "accuracy_score(y_test,y_predict)"
   ]
  },
  {
   "cell_type": "code",
   "execution_count": 32,
   "id": "little-thumb",
   "metadata": {},
   "outputs": [
    {
     "data": {
      "text/plain": [
       "0.0"
      ]
     },
     "execution_count": 32,
     "metadata": {},
     "output_type": "execute_result"
    }
   ],
   "source": [
    "recall_score(y_test,y_predict)"
   ]
  },
  {
   "cell_type": "code",
   "execution_count": 33,
   "id": "worst-nutrition",
   "metadata": {},
   "outputs": [
    {
     "name": "stderr",
     "output_type": "stream",
     "text": [
      "C:\\Users\\welcome\\anaconda3\\envs\\notebook\\lib\\site-packages\\sklearn\\metrics\\_classification.py:1245: UndefinedMetricWarning: Precision is ill-defined and being set to 0.0 due to no predicted samples. Use `zero_division` parameter to control this behavior.\n",
      "  _warn_prf(average, modifier, msg_start, len(result))\n"
     ]
    },
    {
     "data": {
      "text/plain": [
       "0.0"
      ]
     },
     "execution_count": 33,
     "metadata": {},
     "output_type": "execute_result"
    }
   ],
   "source": [
    "precision_score(y_test,y_predict)"
   ]
  },
  {
   "cell_type": "code",
   "execution_count": 35,
   "id": "filled-concern",
   "metadata": {},
   "outputs": [],
   "source": [
    "fpr,tpr,thresholds=roc_curve(y_test,y_pred_proba[:,1])"
   ]
  },
  {
   "cell_type": "code",
   "execution_count": 36,
   "id": "israeli-japan",
   "metadata": {},
   "outputs": [
    {
     "data": {
      "image/png": "[encoded data removed]",
      "text/plain": [
       "<Figure size 1080x576 with 1 Axes>"
      ]
     },
     "metadata": {
      "needs_background": "light"
     },
     "output_type": "display_data"
    }
   ],
   "source": [
    "plt.figure(figsize=(15,8))\n",
    "plt.plot(fpr,tpr)\n",
    "plt.plot([0,1],[0,1],'r--')\n",
    "plt.title('ROC curve for Bernoulli Navie Bayes',fontsize=10)\n",
    "plt.xlabel('False Positive Rate',fontsize=10)\n",
    "plt.ylabel('True Positive Rate',fontsize=10)\n",
    "\n",
    "plt.text(x = 0.02, y = 0.9, s = ('AUC Score:', roc_auc_score(y_test, y_pred_proba[:,1])))\n",
    "plt.grid(True)"
   ]
  },
  {
   "cell_type": "markdown",
   "id": "confident-spring",
   "metadata": {},
   "source": [
    "# Gaussian NB"
   ]
  },
  {
   "cell_type": "code",
   "execution_count": 37,
   "id": "aggregate-crisis",
   "metadata": {},
   "outputs": [],
   "source": [
    "nb_3=GaussianNB()"
   ]
  },
  {
   "cell_type": "code",
   "execution_count": 38,
   "id": "addressed-trace",
   "metadata": {},
   "outputs": [
    {
     "data": {
      "text/plain": [
       "GaussianNB()"
      ]
     },
     "execution_count": 38,
     "metadata": {},
     "output_type": "execute_result"
    }
   ],
   "source": [
    "nb_3.fit(X_train,y_train)"
   ]
  },
  {
   "cell_type": "code",
   "execution_count": 39,
   "id": "confused-father",
   "metadata": {},
   "outputs": [],
   "source": [
    "y_predict=nb_3.predict(X_test)"
   ]
  },
  {
   "cell_type": "code",
   "execution_count": 40,
   "id": "sweet-central",
   "metadata": {},
   "outputs": [],
   "source": [
    "y_pred_proba=nb_3.predict_proba(X_test)"
   ]
  },
  {
   "cell_type": "code",
   "execution_count": 41,
   "id": "prescribed-daisy",
   "metadata": {},
   "outputs": [],
   "source": [
    "fpr,tpr,thresholds=roc_curve(y_test,y_pred_proba[:,1])"
   ]
  },
  {
   "cell_type": "code",
   "execution_count": 42,
   "id": "political-winning",
   "metadata": {},
   "outputs": [
    {
     "data": {
      "image/png": "[encoded data removed]",
      "text/plain": [
       "<Figure size 1080x576 with 1 Axes>"
      ]
     },
     "metadata": {
      "needs_background": "light"
     },
     "output_type": "display_data"
    }
   ],
   "source": [
    "plt.figure(figsize=(15,8))\n",
    "plt.plot(fpr,tpr)\n",
    "plt.plot([0,1],[0,1],'r--')\n",
    "plt.title('ROC curve for Bernoulli Navie Bayes',fontsize=10)\n",
    "plt.xlabel('False Positive Rate',fontsize=10)\n",
    "plt.ylabel('True Positive Rate',fontsize=10)\n",
    "\n",
    "plt.text(x = 0.02, y = 0.9, s = ('AUC Score:', roc_auc_score(y_test, y_pred_proba[:,1])))\n",
    "plt.grid(True)"
   ]
  },
  {
   "cell_type": "code",
   "execution_count": 43,
   "id": "empty-bottom",
   "metadata": {},
   "outputs": [],
   "source": [
    "# Using Navie Bayes for admission process\n",
    "# guassian navie bayes is helpful and there is a chance of admission,Area under the curve is having 94% compare\n",
    "# to Bernoulli navie bayes and multinomial navie bayes"
   ]
  },
  {
   "cell_type": "code",
   "execution_count": null,
   "id": "lovely-easter",
   "metadata": {},
   "outputs": [],
   "source": []
  }
 ],
 "metadata": {
  "kernelspec": {
   "display_name": "Python 3",
   "language": "python",
   "name": "python3"
  },
  "language_info": {
   "codemirror_mode": {
    "name": "ipython",
    "version": 3
   },
   "file_extension": ".py",
   "mimetype": "text/x-python",
   "name": "python",
   "nbconvert_exporter": "python",
   "pygments_lexer": "ipython3",
   "version": "3.8.8"
  }
 },
 "nbformat": 4,
 "nbformat_minor": 5
}
